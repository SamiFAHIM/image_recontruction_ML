{
 "cells": [
  {
   "cell_type": "code",
   "execution_count": 1,
   "id": "72ed4113-0749-40f9-b7ae-c335e4fdec77",
   "metadata": {},
   "outputs": [],
   "source": [
    "import torch\n",
    "import numpy as np\n",
    "from spyrit.misc.walsh_hadamard import walsh_matrix\n",
    "from spyrit.core.Forward_Operator import *"
   ]
  },
  {
   "cell_type": "markdown",
   "id": "b1266e15-63a6-4877-ba44-1e49735f8bc5",
   "metadata": {},
   "source": [
    "## Instantiate Hsub"
   ]
  },
  {
   "cell_type": "code",
   "execution_count": 2,
   "id": "fc3d6649-5679-4219-9762-9b5cc6035966",
   "metadata": {},
   "outputs": [],
   "source": [
    "img_size = 32*32\n",
    "nb_measurements = 400\n",
    "batch_size = 10\n",
    "Hcomplete = walsh_matrix(img_size)\n",
    "Hsub = Hcomplete[0:nb_measurements,:]"
   ]
  },
  {
   "cell_type": "markdown",
   "id": "7c0f1579-fc72-4a41-b2a5-1fe41393fd18",
   "metadata": {},
   "source": [
    "## Forward_operator"
   ]
  },
  {
   "cell_type": "markdown",
   "id": "4b186418-63bb-4898-9b66-38d37f03a302",
   "metadata": {},
   "source": [
    "### Forward"
   ]
  },
  {
   "cell_type": "code",
   "execution_count": 3,
   "id": "b19c12f6-48e5-45a0-8357-d4d5a8d6ca9a",
   "metadata": {},
   "outputs": [
    {
     "name": "stdout",
     "output_type": "stream",
     "text": [
      "Hsub shape: (400, 1024)\n",
      "input shape: torch.Size([10, 1024])\n",
      "output shape: torch.Size([10, 400])\n"
     ]
    }
   ],
   "source": [
    "Forward_OP = Forward_operator(Hsub)\n",
    "x = torch.tensor(np.random.random([batch_size,img_size]), dtype=torch.float)\n",
    "y = Forward_OP(x)\n",
    "print('Hsub shape:', Hsub.shape)\n",
    "print('input shape:', x.shape)\n",
    "print('output shape:', y.shape)"
   ]
  },
  {
   "cell_type": "markdown",
   "id": "40419df6-a485-4d32-88b1-a076cbe8a792",
   "metadata": {},
   "source": [
    "### adjoint"
   ]
  },
  {
   "cell_type": "code",
   "execution_count": 4,
   "id": "7ff05abc-d76c-466b-9819-e0adeb4b8f49",
   "metadata": {},
   "outputs": [
    {
     "name": "stdout",
     "output_type": "stream",
     "text": [
      "torch.Size([10, 1024])\n"
     ]
    }
   ],
   "source": [
    "x_back = Forward_OP.adjoint(y)\n",
    "print(x_back.shape)"
   ]
  },
  {
   "cell_type": "markdown",
   "id": "7ad7decf-2c8b-405b-a2b9-bcf9d81be6f6",
   "metadata": {},
   "source": [
    "## Forward_operator_Split"
   ]
  },
  {
   "cell_type": "code",
   "execution_count": 5,
   "id": "17fa355b-d3bb-4e1a-99cf-f81067d3ec4b",
   "metadata": {},
   "outputs": [
    {
     "name": "stdout",
     "output_type": "stream",
     "text": [
      "torch.Size([10, 800])\n"
     ]
    }
   ],
   "source": [
    "Forward_Op_Split = Forward_operator_Split(Hsub)\n",
    "y = Forward_Op_Split(x)\n",
    "print(y.shape)"
   ]
  },
  {
   "cell_type": "markdown",
   "id": "a08521e2-266f-409d-a229-369860461881",
   "metadata": {},
   "source": [
    "## Forward_operator_Split_ft_had"
   ]
  },
  {
   "cell_type": "markdown",
   "id": "263461c9-a198-4aa5-a330-ede478fca7e5",
   "metadata": {},
   "source": [
    "### inverse"
   ]
  },
  {
   "cell_type": "code",
   "execution_count": 6,
   "id": "d484584b-7c2e-4996-82d3-c108a4d5275a",
   "metadata": {},
   "outputs": [
    {
     "name": "stdout",
     "output_type": "stream",
     "text": [
      "torch.Size([10, 1024])\n"
     ]
    }
   ],
   "source": [
    "Perm = np.array(np.random.random([32*32,32*32]))\n",
    "FO_Had = Forward_operator_Split_ft_had(Hsub, Perm, 32, 32) \n",
    "x_inverse = FO_Had.inverse(x)\n",
    "print(x_inverse.shape)"
   ]
  },
  {
   "cell_type": "markdown",
   "id": "475ab7ea-d784-42d6-999b-7714d43cc451",
   "metadata": {},
   "source": [
    "### pinv"
   ]
  },
  {
   "cell_type": "code",
   "execution_count": 7,
   "id": "6ef5e80a-5704-4141-996e-e8200fc92622",
   "metadata": {},
   "outputs": [
    {
     "name": "stdout",
     "output_type": "stream",
     "text": [
      "torch.Size([10, 1024])\n"
     ]
    }
   ],
   "source": [
    "x = torch.Tensor(np.random.random([10,400]))\n",
    "x_pinv = FO_Had.pinv(x)\n",
    "print(x_pinv.shape)"
   ]
  },
  {
   "cell_type": "markdown",
   "id": "c4d8e114-8b7f-4c73-8446-d7363f0549a0",
   "metadata": {},
   "source": [
    "## Forward_operator_shift"
   ]
  },
  {
   "cell_type": "code",
   "execution_count": 8,
   "id": "eb1f5062-0a15-4456-9255-766e4ac393d9",
   "metadata": {},
   "outputs": [
    {
     "name": "stdout",
     "output_type": "stream",
     "text": [
      "torch.Size([10, 401])\n"
     ]
    }
   ],
   "source": [
    "FO_Shift = Forward_operator_shift(Hsub, Perm)\n",
    "x = torch.tensor(np.random.random([batch_size,img_size]), dtype=torch.float)\n",
    "y = FO_Shift(x)\n",
    "print(y.shape)"
   ]
  },
  {
   "cell_type": "markdown",
   "id": "c0039f71-f467-4701-a285-0ff22b45d26c",
   "metadata": {},
   "source": [
    "## Forward_operator_pos"
   ]
  },
  {
   "cell_type": "code",
   "execution_count": 9,
   "id": "35948ead-b65a-4f56-bf4c-13566c69e5af",
   "metadata": {},
   "outputs": [
    {
     "name": "stdout",
     "output_type": "stream",
     "text": [
      "torch.Size([10, 400])\n"
     ]
    }
   ],
   "source": [
    "Forward_OP_pos = Forward_operator_pos(Hsub, Perm)\n",
    "y = Forward_OP_pos(x)\n",
    "print(y.shape)"
   ]
  },
  {
   "cell_type": "markdown",
   "id": "cb6c0399-e9f4-4a65-abc8-f477165a284e",
   "metadata": {},
   "source": [
    "## Forward_operator_shift_had"
   ]
  },
  {
   "cell_type": "code",
   "execution_count": 10,
   "id": "1a817030-bf94-4a07-880e-da72950cc226",
   "metadata": {},
   "outputs": [
    {
     "name": "stdout",
     "output_type": "stream",
     "text": [
      "torch.Size([10, 1024])\n"
     ]
    }
   ],
   "source": [
    "FO_Shift_Had = Forward_operator_shift_had(Hsub, Perm)\n",
    "x_reconstruct = FO_Shift_Had.inverse(x)\n",
    "print(x_reconstruct.shape)"
   ]
  }
 ],
 "metadata": {
  "kernelspec": {
   "display_name": "Python 3 (ipykernel)",
   "language": "python",
   "name": "python3"
  },
  "language_info": {
   "codemirror_mode": {
    "name": "ipython",
    "version": 3
   },
   "file_extension": ".py",
   "mimetype": "text/x-python",
   "name": "python",
   "nbconvert_exporter": "python",
   "pygments_lexer": "ipython3",
   "version": "3.9.7"
  }
 },
 "nbformat": 4,
 "nbformat_minor": 5
}
