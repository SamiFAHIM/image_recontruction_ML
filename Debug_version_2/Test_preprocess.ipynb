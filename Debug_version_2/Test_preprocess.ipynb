{
 "cells": [
  {
   "cell_type": "code",
   "execution_count": 4,
   "id": "d8c03c29-5265-4128-97aa-a1d6c30e8a06",
   "metadata": {},
   "outputs": [],
   "source": [
    "import torch\n",
    "import numpy as np\n",
    "from spyrit.misc.walsh_hadamard import walsh_matrix\n",
    "from spyrit.core.Forward_Operator import *\n",
    "from spyrit.core.Preprocess import *"
   ]
  },
  {
   "cell_type": "markdown",
   "id": "7edc55c8-5a9f-479f-a3f5-13d4b8c1b705",
   "metadata": {},
   "source": [
    "## Instantiate Hsub"
   ]
  },
  {
   "cell_type": "code",
   "execution_count": 7,
   "id": "32fb6b07-7bd1-467d-8aa4-1bca0d54eb65",
   "metadata": {},
   "outputs": [],
   "source": [
    "img_size = 32*32\n",
    "nb_measurements = 400\n",
    "batch_size = 10\n",
    "Hcomplete = walsh_matrix(img_size)\n",
    "Hsub = Hcomplete[0:nb_measurements,:]"
   ]
  },
  {
   "cell_type": "markdown",
   "id": "2ceb3f9a-e5b2-40eb-8662-a2247fc2eb36",
   "metadata": {},
   "source": [
    "## Instantiate Forward_operator and Forward_operator_Split"
   ]
  },
  {
   "cell_type": "code",
   "execution_count": 8,
   "id": "67e7502d-de61-4056-84d6-0e160718ba9a",
   "metadata": {},
   "outputs": [],
   "source": [
    "FO = Forward_operator(Hsub)\n",
    "FO_Split = Forward_operator_Split(Hsub)"
   ]
  },
  {
   "cell_type": "markdown",
   "id": "7e75bece-6f4c-4a5a-9974-488a826f9ab5",
   "metadata": {},
   "source": [
    "## Split_diag_poisson_preprocess"
   ]
  },
  {
   "cell_type": "code",
   "execution_count": 9,
   "id": "16fe4e0f-78b9-4438-8730-92da78e5c46f",
   "metadata": {},
   "outputs": [],
   "source": [
    "alpha = 9\n",
    "SPP = Preprocess_Split_diag_poisson_preprocess(alpha, nb_measurements, img_size)"
   ]
  },
  {
   "cell_type": "markdown",
   "id": "e6d60daf-b45f-4267-ba1d-fc8bb5c3096a",
   "metadata": {},
   "source": [
    "### forward"
   ]
  },
  {
   "cell_type": "code",
   "execution_count": 11,
   "id": "5aaa4266-cf2e-4030-ac6f-fb08bceca28b",
   "metadata": {},
   "outputs": [
    {
     "name": "stdout",
     "output_type": "stream",
     "text": [
      "torch.Size([10, 800])\n",
      "torch.Size([10, 400])\n"
     ]
    }
   ],
   "source": [
    "x = torch.tensor(np.random.random([batch_size,img_size]), dtype=torch.float)\n",
    "y_FO_Split = FO_Split(x)\n",
    "y_SPP = SPP(y_FO_Split, FO_Split)\n",
    "print(y_FO_Split.shape)\n",
    "print(y_SPP.shape)"
   ]
  },
  {
   "cell_type": "markdown",
   "id": "e20011e9-0602-4f62-a686-e611b5fb773f",
   "metadata": {},
   "source": [
    "### sigma"
   ]
  },
  {
   "cell_type": "code",
   "execution_count": 12,
   "id": "fed03d34-4608-4fd2-8ceb-4816eb5cad27",
   "metadata": {},
   "outputs": [
    {
     "name": "stdout",
     "output_type": "stream",
     "text": [
      "torch.Size([10, 400])\n"
     ]
    }
   ],
   "source": [
    "y_sigma = SPP.sigma(y_FO_Split)\n",
    "print(y_sigma.shape)"
   ]
  },
  {
   "cell_type": "markdown",
   "id": "8d2342bc-eff4-4191-b8ac-f741d6b14f39",
   "metadata": {},
   "source": [
    "### sigma_expe"
   ]
  },
  {
   "cell_type": "code",
   "execution_count": 13,
   "id": "d5e73c92-e102-40fe-b053-1a11bd411205",
   "metadata": {},
   "outputs": [
    {
     "name": "stdout",
     "output_type": "stream",
     "text": [
      "torch.Size([10, 400])\n"
     ]
    }
   ],
   "source": [
    "y_sigma_expe = SPP.sigma_expe(x, gain=1, mudark=0, sigdark=0, nbin=1)\n",
    "print(y_sigma_expe.shape)"
   ]
  }
 ],
 "metadata": {
  "kernelspec": {
   "display_name": "Python 3 (ipykernel)",
   "language": "python",
   "name": "python3"
  },
  "language_info": {
   "codemirror_mode": {
    "name": "ipython",
    "version": 3
   },
   "file_extension": ".py",
   "mimetype": "text/x-python",
   "name": "python",
   "nbconvert_exporter": "python",
   "pygments_lexer": "ipython3",
   "version": "3.9.7"
  }
 },
 "nbformat": 4,
 "nbformat_minor": 5
}
