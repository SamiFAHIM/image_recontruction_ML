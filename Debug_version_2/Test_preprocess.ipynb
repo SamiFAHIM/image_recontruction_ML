{
 "cells": [
  {
   "cell_type": "code",
   "execution_count": 1,
   "id": "d8c03c29-5265-4128-97aa-a1d6c30e8a06",
   "metadata": {},
   "outputs": [],
   "source": [
    "import torch\n",
    "import numpy as np\n",
    "from spyrit.misc.walsh_hadamard import walsh_matrix\n",
    "from spyrit.core.Forward_Operator import *\n",
    "from spyrit.core.Preprocess import *"
   ]
  },
  {
   "cell_type": "markdown",
   "id": "7edc55c8-5a9f-479f-a3f5-13d4b8c1b705",
   "metadata": {},
   "source": [
    "## Instantiate Hsub"
   ]
  },
  {
   "cell_type": "code",
   "execution_count": 2,
   "id": "32fb6b07-7bd1-467d-8aa4-1bca0d54eb65",
   "metadata": {},
   "outputs": [],
   "source": [
    "h,w = 32, 32\n",
    "img_size = h*w\n",
    "nb_measurements = 400\n",
    "batch_size = 10\n",
    "Hcomplete = walsh_matrix(img_size)\n",
    "Hsub = Hcomplete[0:nb_measurements,:]\n",
    "Perm = np.random.random([w*h,w*h])"
   ]
  },
  {
   "cell_type": "markdown",
   "id": "2ceb3f9a-e5b2-40eb-8662-a2247fc2eb36",
   "metadata": {},
   "source": [
    "## Instantiate Forward_operator and Forward_operator_Split"
   ]
  },
  {
   "cell_type": "code",
   "execution_count": 3,
   "id": "67e7502d-de61-4056-84d6-0e160718ba9a",
   "metadata": {},
   "outputs": [],
   "source": [
    "FO = Forward_operator(Hsub)\n",
    "FO_Split = Forward_operator_Split(Hsub)\n",
    "FO_Split_ft_had = Forward_operator_Split_ft_had(Hsub, Perm, w, h)"
   ]
  },
  {
   "cell_type": "markdown",
   "id": "7e75bece-6f4c-4a5a-9974-488a826f9ab5",
   "metadata": {},
   "source": [
    "## Split_diag_poisson_preprocess"
   ]
  },
  {
   "cell_type": "code",
   "execution_count": 4,
   "id": "16fe4e0f-78b9-4438-8730-92da78e5c46f",
   "metadata": {},
   "outputs": [],
   "source": [
    "alpha = 9\n",
    "SPP = Preprocess_Split_diag_poisson(alpha, nb_measurements, img_size)"
   ]
  },
  {
   "cell_type": "markdown",
   "id": "e6d60daf-b45f-4267-ba1d-fc8bb5c3096a",
   "metadata": {},
   "source": [
    "### forward"
   ]
  },
  {
   "cell_type": "code",
   "execution_count": 5,
   "id": "5aaa4266-cf2e-4030-ac6f-fb08bceca28b",
   "metadata": {},
   "outputs": [
    {
     "name": "stdout",
     "output_type": "stream",
     "text": [
      "torch.Size([10, 800])\n",
      "torch.Size([10, 400])\n"
     ]
    }
   ],
   "source": [
    "x = torch.tensor(np.random.random([batch_size,img_size]), dtype=torch.float)\n",
    "y_FO_Split = FO_Split(x)\n",
    "y_SPP = SPP(y_FO_Split, FO_Split)\n",
    "print(y_FO_Split.shape)\n",
    "print(y_SPP.shape)"
   ]
  },
  {
   "cell_type": "markdown",
   "id": "e20011e9-0602-4f62-a686-e611b5fb773f",
   "metadata": {},
   "source": [
    "### sigma"
   ]
  },
  {
   "cell_type": "code",
   "execution_count": 6,
   "id": "fed03d34-4608-4fd2-8ceb-4816eb5cad27",
   "metadata": {},
   "outputs": [
    {
     "name": "stdout",
     "output_type": "stream",
     "text": [
      "torch.Size([10, 400])\n"
     ]
    }
   ],
   "source": [
    "y_sigma = SPP.sigma(y_FO_Split)\n",
    "print(y_sigma.shape)"
   ]
  },
  {
   "cell_type": "markdown",
   "id": "8d2342bc-eff4-4191-b8ac-f741d6b14f39",
   "metadata": {},
   "source": [
    "### sigma_expe"
   ]
  },
  {
   "cell_type": "code",
   "execution_count": 7,
   "id": "d5e73c92-e102-40fe-b053-1a11bd411205",
   "metadata": {},
   "outputs": [
    {
     "name": "stdout",
     "output_type": "stream",
     "text": [
      "torch.Size([10, 400])\n"
     ]
    }
   ],
   "source": [
    "SPP.set_expe(gain=1, mudark=0, sigdark=0, nbin=1)\n",
    "y_sigma_expe = SPP.sigma_expe(x)\n",
    "print(y_sigma_expe.shape)"
   ]
  },
  {
   "cell_type": "markdown",
   "id": "42f03e9c-cd9f-466a-887e-1b372df6f176",
   "metadata": {},
   "source": [
    "### sigma_from_image"
   ]
  },
  {
   "cell_type": "code",
   "execution_count": 8,
   "id": "125a2fa2-50e5-44c7-a2e4-678fc739fedd",
   "metadata": {},
   "outputs": [
    {
     "ename": "IndexError",
     "evalue": "index 400 is out of bounds for dimension 0 with size 400",
     "output_type": "error",
     "traceback": [
      "\u001b[0;31m---------------------------------------------------------------------------\u001b[0m",
      "\u001b[0;31mIndexError\u001b[0m                                Traceback (most recent call last)",
      "\u001b[0;32m/tmp/ipykernel_27231/1367733223.py\u001b[0m in \u001b[0;36m<module>\u001b[0;34m\u001b[0m\n\u001b[0;32m----> 1\u001b[0;31m \u001b[0my\u001b[0m \u001b[0;34m=\u001b[0m \u001b[0mSPP\u001b[0m\u001b[0;34m.\u001b[0m\u001b[0msigma_from_image\u001b[0m\u001b[0;34m(\u001b[0m\u001b[0mx\u001b[0m\u001b[0;34m,\u001b[0m \u001b[0mFO\u001b[0m\u001b[0;34m)\u001b[0m\u001b[0;34m\u001b[0m\u001b[0;34m\u001b[0m\u001b[0m\n\u001b[0m",
      "\u001b[0;32m~/ARIM_CREATIS/clone-spyrit/spyrit/spyrit/core/Preprocess.py\u001b[0m in \u001b[0;36msigma_from_image\u001b[0;34m(self, x, FO)\u001b[0m\n\u001b[1;32m    141\u001b[0m \u001b[0;34m\u001b[0m\u001b[0m\n\u001b[1;32m    142\u001b[0m         \u001b[0mx\u001b[0m \u001b[0;34m=\u001b[0m \u001b[0mFO\u001b[0m\u001b[0;34m.\u001b[0m\u001b[0mForward_op\u001b[0m\u001b[0;34m(\u001b[0m\u001b[0mx\u001b[0m\u001b[0;34m)\u001b[0m\u001b[0;34m;\u001b[0m\u001b[0;34m\u001b[0m\u001b[0;34m\u001b[0m\u001b[0m\n\u001b[0;32m--> 143\u001b[0;31m         \u001b[0mx\u001b[0m \u001b[0;34m=\u001b[0m \u001b[0mx\u001b[0m\u001b[0;34m[\u001b[0m\u001b[0;34m:\u001b[0m\u001b[0;34m,\u001b[0m\u001b[0mself\u001b[0m\u001b[0;34m.\u001b[0m\u001b[0meven_index\u001b[0m\u001b[0;34m]\u001b[0m \u001b[0;34m+\u001b[0m \u001b[0mx\u001b[0m\u001b[0;34m[\u001b[0m\u001b[0;34m:\u001b[0m\u001b[0;34m,\u001b[0m\u001b[0mself\u001b[0m\u001b[0;34m.\u001b[0m\u001b[0modd_index\u001b[0m\u001b[0;34m]\u001b[0m\u001b[0;34m\u001b[0m\u001b[0;34m\u001b[0m\u001b[0m\n\u001b[0m\u001b[1;32m    144\u001b[0m         \u001b[0mx\u001b[0m \u001b[0;34m=\u001b[0m \u001b[0;36m4\u001b[0m\u001b[0;34m*\u001b[0m\u001b[0mx\u001b[0m\u001b[0;34m/\u001b[0m\u001b[0;34m(\u001b[0m\u001b[0mself\u001b[0m\u001b[0;34m.\u001b[0m\u001b[0malpha\u001b[0m\u001b[0;34m)\u001b[0m \u001b[0;31m# here the alpha Contribution is not squared.\u001b[0m\u001b[0;34m\u001b[0m\u001b[0;34m\u001b[0m\u001b[0m\n\u001b[1;32m    145\u001b[0m         \u001b[0;32mreturn\u001b[0m \u001b[0mx\u001b[0m\u001b[0;34m\u001b[0m\u001b[0;34m\u001b[0m\u001b[0m\n",
      "\u001b[0;31mIndexError\u001b[0m: index 400 is out of bounds for dimension 0 with size 400"
     ]
    }
   ],
   "source": [
    "y = SPP.sigma_from_image(x, FO)"
   ]
  },
  {
   "cell_type": "markdown",
   "id": "9e94dc03-7246-45c5-87d1-87c5e2d66a81",
   "metadata": {},
   "source": [
    "### forward_expe"
   ]
  },
  {
   "cell_type": "code",
   "execution_count": 9,
   "id": "773d3e1a-e6e9-4d83-ac99-b8448f0b3eb1",
   "metadata": {},
   "outputs": [
    {
     "name": "stdout",
     "output_type": "stream",
     "text": [
      "torch.Size([400])\n",
      "tensor([0.0221, 0.0242, 0.0210, 0.0224, 0.0214, 0.0220, 0.0206, 0.0210, 0.0274,\n",
      "        0.0248])\n"
     ]
    }
   ],
   "source": [
    "xsub = torch.tensor(np.random.random([10, 2*400]), dtype=torch.float)\n",
    "y_FE, alpha_est = SPP.forward_expe(xsub, FO_Split_ft_had)\n",
    "print(y_FE[0].shape)\n",
    "print(alpha_est)"
   ]
  },
  {
   "cell_type": "markdown",
   "id": "29d3a642-a016-4fa8-a5e8-721ac97fa78c",
   "metadata": {},
   "source": [
    "### denormalize_expe"
   ]
  },
  {
   "cell_type": "code",
   "execution_count": 15,
   "id": "efecc3d7-7400-4adc-a744-6f7d9b9abe76",
   "metadata": {},
   "outputs": [
    {
     "name": "stdout",
     "output_type": "stream",
     "text": [
      "> \u001b[0;32m/home/fadoua/ARIM_CREATIS/clone-spyrit/spyrit/spyrit/core/Preprocess.py\u001b[0m(201)\u001b[0;36mdenormalize_expe\u001b[0;34m()\u001b[0m\n",
      "\u001b[0;32m    199 \u001b[0;31m\u001b[0;34m\u001b[0m\u001b[0m\n",
      "\u001b[0m\u001b[0;32m    200 \u001b[0;31m        \u001b[0;31m# Denormalization\u001b[0m\u001b[0;34m\u001b[0m\u001b[0;34m\u001b[0m\u001b[0m\n",
      "\u001b[0m\u001b[0;32m--> 201 \u001b[0;31m        \u001b[0mnorm\u001b[0m \u001b[0;34m=\u001b[0m \u001b[0mnorm\u001b[0m\u001b[0;34m.\u001b[0m\u001b[0mview\u001b[0m\u001b[0;34m(\u001b[0m\u001b[0mbc\u001b[0m\u001b[0;34m,\u001b[0m\u001b[0;36m1\u001b[0m\u001b[0;34m,\u001b[0m\u001b[0;36m1\u001b[0m\u001b[0;34m,\u001b[0m\u001b[0;36m1\u001b[0m\u001b[0;34m)\u001b[0m\u001b[0;34m\u001b[0m\u001b[0;34m\u001b[0m\u001b[0m\n",
      "\u001b[0m\u001b[0;32m    202 \u001b[0;31m        \u001b[0mnorm\u001b[0m \u001b[0;34m=\u001b[0m \u001b[0mnorm\u001b[0m\u001b[0;34m.\u001b[0m\u001b[0mexpand\u001b[0m\u001b[0;34m(\u001b[0m\u001b[0mbc\u001b[0m\u001b[0;34m,\u001b[0m\u001b[0;36m1\u001b[0m\u001b[0;34m,\u001b[0m\u001b[0mh\u001b[0m\u001b[0;34m,\u001b[0m\u001b[0mw\u001b[0m\u001b[0;34m)\u001b[0m\u001b[0;34m\u001b[0m\u001b[0;34m\u001b[0m\u001b[0m\n",
      "\u001b[0m\u001b[0;32m    203 \u001b[0;31m        \u001b[0mx\u001b[0m \u001b[0;34m=\u001b[0m \u001b[0;34m(\u001b[0m\u001b[0mx\u001b[0m\u001b[0;34m+\u001b[0m\u001b[0;36m1\u001b[0m\u001b[0;34m)\u001b[0m\u001b[0;34m/\u001b[0m\u001b[0;36m2\u001b[0m\u001b[0;34m*\u001b[0m\u001b[0mnorm\u001b[0m\u001b[0;34m\u001b[0m\u001b[0;34m\u001b[0m\u001b[0m\n",
      "\u001b[0m\n"
     ]
    },
    {
     "name": "stdin",
     "output_type": "stream",
     "text": [
      "ipdb>  c\n"
     ]
    },
    {
     "ename": "RuntimeError",
     "evalue": "The size of tensor a (1024) must match the size of tensor b (32) at non-singleton dimension 3",
     "output_type": "error",
     "traceback": [
      "\u001b[0;31m---------------------------------------------------------------------------\u001b[0m",
      "\u001b[0;31mRuntimeError\u001b[0m                              Traceback (most recent call last)",
      "\u001b[0;32m/tmp/ipykernel_27231/69623269.py\u001b[0m in \u001b[0;36m<module>\u001b[0;34m\u001b[0m\n\u001b[1;32m      1\u001b[0m \u001b[0mnorm\u001b[0m \u001b[0;34m=\u001b[0m \u001b[0mtorch\u001b[0m\u001b[0;34m.\u001b[0m\u001b[0mtensor\u001b[0m\u001b[0;34m(\u001b[0m\u001b[0;36m9\u001b[0m\u001b[0;34m*\u001b[0m\u001b[0mnp\u001b[0m\u001b[0;34m.\u001b[0m\u001b[0mones\u001b[0m\u001b[0;34m(\u001b[0m\u001b[0;36m10\u001b[0m\u001b[0;34m)\u001b[0m\u001b[0;34m,\u001b[0m \u001b[0mdtype\u001b[0m\u001b[0;34m=\u001b[0m\u001b[0mfloat\u001b[0m\u001b[0;34m)\u001b[0m\u001b[0;34m\u001b[0m\u001b[0;34m\u001b[0m\u001b[0m\n\u001b[0;32m----> 2\u001b[0;31m \u001b[0my_DE\u001b[0m \u001b[0;34m=\u001b[0m \u001b[0mSPP\u001b[0m\u001b[0;34m.\u001b[0m\u001b[0mdenormalize_expe\u001b[0m\u001b[0;34m(\u001b[0m\u001b[0mx\u001b[0m\u001b[0;34m,\u001b[0m \u001b[0mnorm\u001b[0m\u001b[0;34m,\u001b[0m \u001b[0;36m32\u001b[0m\u001b[0;34m,\u001b[0m \u001b[0;36m32\u001b[0m\u001b[0;34m)\u001b[0m\u001b[0;34m\u001b[0m\u001b[0;34m\u001b[0m\u001b[0m\n\u001b[0m",
      "\u001b[0;32m~/ARIM_CREATIS/clone-spyrit/spyrit/spyrit/core/Preprocess.py\u001b[0m in \u001b[0;36mdenormalize_expe\u001b[0;34m(self, x, norm, h, w)\u001b[0m\n\u001b[1;32m    199\u001b[0m \u001b[0;34m\u001b[0m\u001b[0m\n\u001b[1;32m    200\u001b[0m         \u001b[0;31m# Denormalization\u001b[0m\u001b[0;34m\u001b[0m\u001b[0;34m\u001b[0m\u001b[0m\n\u001b[0;32m--> 201\u001b[0;31m         \u001b[0mnorm\u001b[0m \u001b[0;34m=\u001b[0m \u001b[0mnorm\u001b[0m\u001b[0;34m.\u001b[0m\u001b[0mview\u001b[0m\u001b[0;34m(\u001b[0m\u001b[0mbc\u001b[0m\u001b[0;34m,\u001b[0m\u001b[0;36m1\u001b[0m\u001b[0;34m,\u001b[0m\u001b[0;36m1\u001b[0m\u001b[0;34m,\u001b[0m\u001b[0;36m1\u001b[0m\u001b[0;34m)\u001b[0m\u001b[0;34m\u001b[0m\u001b[0;34m\u001b[0m\u001b[0m\n\u001b[0m\u001b[1;32m    202\u001b[0m         \u001b[0mnorm\u001b[0m \u001b[0;34m=\u001b[0m \u001b[0mnorm\u001b[0m\u001b[0;34m.\u001b[0m\u001b[0mexpand\u001b[0m\u001b[0;34m(\u001b[0m\u001b[0mbc\u001b[0m\u001b[0;34m,\u001b[0m\u001b[0;36m1\u001b[0m\u001b[0;34m,\u001b[0m\u001b[0mh\u001b[0m\u001b[0;34m,\u001b[0m\u001b[0mw\u001b[0m\u001b[0;34m)\u001b[0m\u001b[0;34m\u001b[0m\u001b[0;34m\u001b[0m\u001b[0m\n\u001b[1;32m    203\u001b[0m         \u001b[0mx\u001b[0m \u001b[0;34m=\u001b[0m \u001b[0;34m(\u001b[0m\u001b[0mx\u001b[0m\u001b[0;34m+\u001b[0m\u001b[0;36m1\u001b[0m\u001b[0;34m)\u001b[0m\u001b[0;34m/\u001b[0m\u001b[0;36m2\u001b[0m\u001b[0;34m*\u001b[0m\u001b[0mnorm\u001b[0m\u001b[0;34m\u001b[0m\u001b[0;34m\u001b[0m\u001b[0m\n",
      "\u001b[0;31mRuntimeError\u001b[0m: The size of tensor a (1024) must match the size of tensor b (32) at non-singleton dimension 3"
     ]
    }
   ],
   "source": [
    "norm = torch.tensor(9*np.ones(10), dtype=float)\n",
    "y_DE = SPP.denormalize_expe(x, norm, 32, 32)"
   ]
  },
  {
   "cell_type": "markdown",
   "id": "b4530224-a4fd-4260-9e19-d12a6d0592c7",
   "metadata": {},
   "source": [
    "## Preprocess_shift_poisson"
   ]
  },
  {
   "cell_type": "code",
   "execution_count": null,
   "id": "016c450b-658a-4aaa-970e-305b06f39e96",
   "metadata": {},
   "outputs": [],
   "source": [
    "PSP = Preprocess_shift_poisson(alpha, nb_measurements, img_size)"
   ]
  },
  {
   "cell_type": "markdown",
   "id": "a3c5db35-1f81-42c5-9d3a-191f2ed1f033",
   "metadata": {},
   "source": [
    "### forward"
   ]
  },
  {
   "cell_type": "code",
   "execution_count": null,
   "id": "87347cb2-9bfc-4859-9ec3-9ab2cf5197d9",
   "metadata": {},
   "outputs": [],
   "source": []
  }
 ],
 "metadata": {
  "kernelspec": {
   "display_name": "Python 3 (ipykernel)",
   "language": "python",
   "name": "python3"
  },
  "language_info": {
   "codemirror_mode": {
    "name": "ipython",
    "version": 3
   },
   "file_extension": ".py",
   "mimetype": "text/x-python",
   "name": "python",
   "nbconvert_exporter": "python",
   "pygments_lexer": "ipython3",
   "version": "3.9.7"
  }
 },
 "nbformat": 4,
 "nbformat_minor": 5
}
