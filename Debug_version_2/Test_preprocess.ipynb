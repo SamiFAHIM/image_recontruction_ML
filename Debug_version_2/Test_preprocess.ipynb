{
 "cells": [
  {
   "cell_type": "code",
   "execution_count": 1,
   "id": "d8c03c29-5265-4128-97aa-a1d6c30e8a06",
   "metadata": {},
   "outputs": [],
   "source": [
    "import torch\n",
    "import numpy as np\n",
    "from spyrit.misc.walsh_hadamard import walsh_matrix\n",
    "from spyrit.core.Forward_Operator import *\n",
    "from spyrit.core.Preprocess import *"
   ]
  },
  {
   "cell_type": "markdown",
   "id": "86ec387e-dd2b-46ad-98e5-9f6f5e1a8a99",
   "metadata": {},
   "source": [
    "## INITIALIZE COMMON MATRICES AND OPERATORS"
   ]
  },
  {
   "cell_type": "markdown",
   "id": "7edc55c8-5a9f-479f-a3f5-13d4b8c1b705",
   "metadata": {},
   "source": [
    "### Instantiate Hsub and Perm matrices"
   ]
  },
  {
   "cell_type": "code",
   "execution_count": 2,
   "id": "32fb6b07-7bd1-467d-8aa4-1bca0d54eb65",
   "metadata": {},
   "outputs": [],
   "source": [
    "h,w = 32, 32\n",
    "img_size = h*w\n",
    "nb_measurements = 400\n",
    "batch_size = 10\n",
    "Hcomplete = walsh_matrix(img_size)\n",
    "Hsub = Hcomplete[0:nb_measurements,:]\n",
    "Perm = np.random.random([w*h,w*h])"
   ]
  },
  {
   "cell_type": "markdown",
   "id": "2ceb3f9a-e5b2-40eb-8662-a2247fc2eb36",
   "metadata": {},
   "source": [
    "### Instantiate different types of Forward_operators"
   ]
  },
  {
   "cell_type": "code",
   "execution_count": 3,
   "id": "67e7502d-de61-4056-84d6-0e160718ba9a",
   "metadata": {},
   "outputs": [],
   "source": [
    "FO = Forward_operator(Hsub)\n",
    "FO_Split = Forward_operator_Split(Hsub)\n",
    "FO_Split_ft_had = Forward_operator_Split_ft_had(Hsub, Perm, w, h)"
   ]
  },
  {
   "cell_type": "markdown",
   "id": "7e75bece-6f4c-4a5a-9974-488a826f9ab5",
   "metadata": {},
   "source": [
    "## PARENT CLASS: Split_diag_poisson_preprocess"
   ]
  },
  {
   "cell_type": "code",
   "execution_count": 4,
   "id": "16fe4e0f-78b9-4438-8730-92da78e5c46f",
   "metadata": {},
   "outputs": [],
   "source": [
    "alpha = 9\n",
    "SPP = Preprocess_Split_diag_poisson(alpha, nb_measurements, img_size)"
   ]
  },
  {
   "cell_type": "markdown",
   "id": "e6d60daf-b45f-4267-ba1d-fc8bb5c3096a",
   "metadata": {},
   "source": [
    "### forward"
   ]
  },
  {
   "cell_type": "code",
   "execution_count": 5,
   "id": "5aaa4266-cf2e-4030-ac6f-fb08bceca28b",
   "metadata": {},
   "outputs": [
    {
     "name": "stdout",
     "output_type": "stream",
     "text": [
      "torch.Size([10, 800])\n",
      "torch.Size([10, 400])\n"
     ]
    }
   ],
   "source": [
    "x = torch.tensor(np.random.random([batch_size,img_size]), dtype=torch.float)\n",
    "y_FO_Split = FO_Split(x)\n",
    "y_SPP = SPP(y_FO_Split, FO_Split)\n",
    "print(y_FO_Split.shape)\n",
    "print(y_SPP.shape)"
   ]
  },
  {
   "cell_type": "markdown",
   "id": "e20011e9-0602-4f62-a686-e611b5fb773f",
   "metadata": {},
   "source": [
    "### sigma"
   ]
  },
  {
   "cell_type": "code",
   "execution_count": 6,
   "id": "fed03d34-4608-4fd2-8ceb-4816eb5cad27",
   "metadata": {},
   "outputs": [
    {
     "name": "stdout",
     "output_type": "stream",
     "text": [
      "torch.Size([10, 400])\n"
     ]
    }
   ],
   "source": [
    "y_sigma = SPP.sigma(y_FO_Split)\n",
    "print(y_sigma.shape)"
   ]
  },
  {
   "cell_type": "markdown",
   "id": "8d2342bc-eff4-4191-b8ac-f741d6b14f39",
   "metadata": {},
   "source": [
    "### sigma_expe"
   ]
  },
  {
   "cell_type": "code",
   "execution_count": 7,
   "id": "d5e73c92-e102-40fe-b053-1a11bd411205",
   "metadata": {},
   "outputs": [
    {
     "name": "stdout",
     "output_type": "stream",
     "text": [
      "torch.Size([10, 400])\n"
     ]
    }
   ],
   "source": [
    "SPP.set_expe(gain=1, mudark=0, sigdark=0, nbin=1)\n",
    "y_sigma_expe = SPP.sigma_expe(x)\n",
    "print(y_sigma_expe.shape)"
   ]
  },
  {
   "cell_type": "markdown",
   "id": "42f03e9c-cd9f-466a-887e-1b372df6f176",
   "metadata": {},
   "source": [
    "### sigma_from_image"
   ]
  },
  {
   "cell_type": "code",
   "execution_count": 8,
   "id": "125a2fa2-50e5-44c7-a2e4-678fc739fedd",
   "metadata": {},
   "outputs": [],
   "source": [
    "# y = SPP.sigma_from_image(x, FO)"
   ]
  },
  {
   "cell_type": "markdown",
   "id": "9e94dc03-7246-45c5-87d1-87c5e2d66a81",
   "metadata": {},
   "source": [
    "### forward_expe"
   ]
  },
  {
   "cell_type": "code",
   "execution_count": 9,
   "id": "0729599d-4c44-4ad5-98dd-a596e1ab88ad",
   "metadata": {},
   "outputs": [],
   "source": [
    "# xsub = FO_Split_ft_had(x)\n",
    "# print(xsub.shape)"
   ]
  },
  {
   "cell_type": "code",
   "execution_count": 10,
   "id": "773d3e1a-e6e9-4d83-ac99-b8448f0b3eb1",
   "metadata": {},
   "outputs": [
    {
     "name": "stdout",
     "output_type": "stream",
     "text": [
      "torch.Size([10, 400])\n",
      "tensor([0.0218, 0.0227, 0.0244, 0.0275, 0.0268, 0.0231, 0.0241, 0.0256, 0.0241,\n",
      "        0.0253])\n"
     ]
    }
   ],
   "source": [
    "xsub = torch.tensor(np.random.random([10, 2*400]), dtype=torch.float)\n",
    "y_FE, alpha_est = SPP.forward_expe(xsub, FO_Split_ft_had)\n",
    "print(y_FE.shape)\n",
    "print(alpha_est)"
   ]
  },
  {
   "cell_type": "markdown",
   "id": "29d3a642-a016-4fa8-a5e8-721ac97fa78c",
   "metadata": {},
   "source": [
    "### denormalize_expe"
   ]
  },
  {
   "cell_type": "code",
   "execution_count": 11,
   "id": "efecc3d7-7400-4adc-a744-6f7d9b9abe76",
   "metadata": {},
   "outputs": [
    {
     "name": "stdout",
     "output_type": "stream",
     "text": [
      "torch.Size([10, 1, 32, 32])\n"
     ]
    }
   ],
   "source": [
    "x1 = x.view(10,1,h,w)\n",
    "norm = 9*torch.tensor(np.random.random([1,10]))\n",
    "y_DE = SPP.denormalize_expe(x1, norm, h, w)\n",
    "print(y_DE.shape)"
   ]
  },
  {
   "cell_type": "markdown",
   "id": "b4530224-a4fd-4260-9e19-d12a6d0592c7",
   "metadata": {},
   "source": [
    "## PARENT CLASS: Preprocess_shift_poisson"
   ]
  },
  {
   "cell_type": "code",
   "execution_count": 12,
   "id": "016c450b-658a-4aaa-970e-305b06f39e96",
   "metadata": {},
   "outputs": [
    {
     "name": "stdout",
     "output_type": "stream",
     "text": [
      "Preprocess_shift_poisson()\n"
     ]
    }
   ],
   "source": [
    "PSP = Preprocess_shift_poisson(alpha, nb_measurements, h*w)\n",
    "print(PSP)"
   ]
  },
  {
   "cell_type": "markdown",
   "id": "a3c5db35-1f81-42c5-9d3a-191f2ed1f033",
   "metadata": {},
   "source": [
    "### forward"
   ]
  },
  {
   "cell_type": "code",
   "execution_count": 13,
   "id": "87347cb2-9bfc-4859-9ec3-9ab2cf5197d9",
   "metadata": {},
   "outputs": [
    {
     "name": "stdout",
     "output_type": "stream",
     "text": [
      "x2 shape: torch.Size([10, 401])\n",
      "y_PSP shape: torch.Size([10, 400])\n"
     ]
    }
   ],
   "source": [
    "# x2 could be just a \"torch.tensor(np.random.random([10, 400+1]), dtype=torch.float)\"\n",
    "# I just wanted to test the \"cat\" torch function and use the already existing x\n",
    "x2 = torch.cat((torch.ones(10,1),x[:,0:400]), dim=1)\n",
    "print(\"x2 shape:\", x2.shape)\n",
    "y_PSP = PSP(x2, FO)\n",
    "print(\"y_PSP shape:\", y_PSP.shape)"
   ]
  },
  {
   "cell_type": "markdown",
   "id": "7a4b9b3f-0c3b-431b-b0e4-1228102efcf1",
   "metadata": {},
   "source": [
    "### sigma"
   ]
  },
  {
   "cell_type": "code",
   "execution_count": 14,
   "id": "1958d15b-59a1-4443-bbe6-02a20340e6b3",
   "metadata": {},
   "outputs": [
    {
     "name": "stdout",
     "output_type": "stream",
     "text": [
      "torch.Size([10, 400])\n"
     ]
    }
   ],
   "source": [
    "sigma_PSP = PSP.sigma(x2)\n",
    "print(sigma_PSP.shape)"
   ]
  },
  {
   "cell_type": "markdown",
   "id": "d5843ce8-3f68-4c91-aa7d-0f2a73887bba",
   "metadata": {},
   "source": [
    "### sigma_from_image"
   ]
  },
  {
   "cell_type": "code",
   "execution_count": 15,
   "id": "0bb21e32-a83a-4aa7-b391-287566f8883f",
   "metadata": {},
   "outputs": [],
   "source": [
    "# sig_im_PSP = PSP.sigma_from_image(x, FO)"
   ]
  },
  {
   "cell_type": "markdown",
   "id": "8c576ecf-4ea3-4b31-ab59-61ab7377b5ee",
   "metadata": {},
   "source": [
    "### offset"
   ]
  },
  {
   "cell_type": "code",
   "execution_count": 16,
   "id": "1d6ad664-38b9-4103-a393-26fc709af0db",
   "metadata": {},
   "outputs": [
    {
     "name": "stdout",
     "output_type": "stream",
     "text": [
      "torch.Size([10, 1])\n"
     ]
    }
   ],
   "source": [
    "y = PSP.offset(x)\n",
    "print(y.shape)"
   ]
  },
  {
   "cell_type": "markdown",
   "id": "30070dd4-c966-47c6-966f-64dd6b5b7b72",
   "metadata": {},
   "source": [
    "## PARENT CLASS: Preprocess_pos_poisson"
   ]
  },
  {
   "cell_type": "code",
   "execution_count": 17,
   "id": "43f4465a-f308-4465-afa1-bafb280bf5ac",
   "metadata": {},
   "outputs": [
    {
     "name": "stdout",
     "output_type": "stream",
     "text": [
      "Preprocess_pos_poisson()\n"
     ]
    }
   ],
   "source": [
    "PPP = Preprocess_pos_poisson(9, 400, 32*32)\n",
    "print(PPP)"
   ]
  },
  {
   "cell_type": "markdown",
   "id": "c392400e-ea04-4f7d-b904-43106e410058",
   "metadata": {},
   "source": [
    "### forward"
   ]
  },
  {
   "cell_type": "code",
   "execution_count": 25,
   "id": "5960786a-deae-4648-9281-aae622977acc",
   "metadata": {},
   "outputs": [
    {
     "name": "stdout",
     "output_type": "stream",
     "text": [
      "torch.Size([10, 400])\n",
      "torch.Size([10, 400])\n",
      "torch.Size([10, 400])\n"
     ]
    }
   ],
   "source": [
    "xsub = torch.tensor(np.random.random([10, 400]), dtype=torch.float)\n",
    "y = PPP(xsub, FO)\n",
    "print(y.shape)"
   ]
  },
  {
   "cell_type": "markdown",
   "id": "dc5c17d3-8e30-41fc-8f7e-918a435dadc1",
   "metadata": {},
   "source": [
    "### offset"
   ]
  },
  {
   "cell_type": "code",
   "execution_count": 26,
   "id": "9d4d8405-7265-4a1f-bf68-2f440fd0fd0f",
   "metadata": {},
   "outputs": [
    {
     "name": "stdout",
     "output_type": "stream",
     "text": [
      "torch.Size([10, 1])\n"
     ]
    }
   ],
   "source": [
    "x = torch.tensor(np.random.random([10, 400]), dtype=torch.float)\n",
    "y = PPP.offset(x)\n",
    "print(y.shape)"
   ]
  }
 ],
 "metadata": {
  "kernelspec": {
   "display_name": "Python 3 (ipykernel)",
   "language": "python",
   "name": "python3"
  },
  "language_info": {
   "codemirror_mode": {
    "name": "ipython",
    "version": 3
   },
   "file_extension": ".py",
   "mimetype": "text/x-python",
   "name": "python",
   "nbconvert_exporter": "python",
   "pygments_lexer": "ipython3",
   "version": "3.9.7"
  }
 },
 "nbformat": 4,
 "nbformat_minor": 5
}
