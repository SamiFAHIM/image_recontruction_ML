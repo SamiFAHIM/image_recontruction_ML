{
 "cells": [
  {
   "cell_type": "code",
   "execution_count": 1,
   "id": "28c66125-dbe7-4a6b-b613-1d0bf4e8298e",
   "metadata": {},
   "outputs": [],
   "source": [
    "import torch\n",
    "import torch.nn as nn\n",
    "import numpy as np\n",
    "import math\n",
    "from spyrit.core.Forward_Operator import *\n",
    "from spyrit.core.Data_Consistency import *"
   ]
  },
  {
   "cell_type": "markdown",
   "id": "aad7abdc-7589-4acd-aad6-eace8f0cb09e",
   "metadata": {},
   "source": [
    "## Instantiate Forward_Operator"
   ]
  },
  {
   "cell_type": "code",
   "execution_count": 2,
   "id": "ea003bf9-b184-4a2c-9500-41d0e6708240",
   "metadata": {},
   "outputs": [],
   "source": [
    "img_size = 32*32\n",
    "nb_measurements = 400\n",
    "batch_size = 10\n",
    "Hcomplete = walsh_matrix(img_size)\n",
    "Hsub = Hcomplete[0:nb_measurements,:]\n",
    "FO = Forward_operator(Hsub)"
   ]
  },
  {
   "cell_type": "markdown",
   "id": "48066069-289a-433f-aef3-b0d1ab24eb68",
   "metadata": {},
   "source": [
    "## Pinv_orthogonal"
   ]
  },
  {
   "cell_type": "code",
   "execution_count": 3,
   "id": "2cc1d98b-941b-4bee-93f6-1942b5be99bf",
   "metadata": {},
   "outputs": [],
   "source": [
    "Pinv_ortho = Pinv_orthogonal()"
   ]
  },
  {
   "cell_type": "markdown",
   "id": "1b31d99d-6dba-4c52-b0c0-0f57ed391389",
   "metadata": {},
   "source": [
    "### forward"
   ]
  },
  {
   "cell_type": "code",
   "execution_count": 4,
   "id": "2d021855-69fc-43e7-b79e-52ce951d66b1",
   "metadata": {},
   "outputs": [
    {
     "name": "stdout",
     "output_type": "stream",
     "text": [
      "torch.Size([10, 1024])\n"
     ]
    }
   ],
   "source": [
    "x = torch.tensor(np.random.random([batch_size,nb_measurements]), dtype=torch.float)\n",
    "y = Pinv_ortho(x, FO)\n",
    "print(y.shape)"
   ]
  },
  {
   "cell_type": "markdown",
   "id": "67faf1a3-df71-4cd0-aef0-ef93ee11c4ea",
   "metadata": {},
   "source": [
    "## learned_measurement_to_image"
   ]
  },
  {
   "cell_type": "code",
   "execution_count": 5,
   "id": "0739bb6e-c2df-43f1-b2a1-d520b1229bb7",
   "metadata": {},
   "outputs": [],
   "source": [
    "Meas_to_Img = learned_measurement_to_image(32*32, 400)"
   ]
  },
  {
   "cell_type": "code",
   "execution_count": 6,
   "id": "473c409e-bdb9-4689-b905-c73191df6981",
   "metadata": {},
   "outputs": [
    {
     "name": "stdout",
     "output_type": "stream",
     "text": [
      "torch.Size([10, 1024])\n"
     ]
    }
   ],
   "source": [
    "y = Meas_to_Img(x, FO)\n",
    "print(y.shape)"
   ]
  },
  {
   "cell_type": "markdown",
   "id": "ff586947-37d6-43d5-8bdc-f787d7799509",
   "metadata": {},
   "source": [
    "## gradient_step"
   ]
  },
  {
   "cell_type": "code",
   "execution_count": 11,
   "id": "5fe41fc4-9810-46eb-a40f-d9a1492a328b",
   "metadata": {},
   "outputs": [],
   "source": [
    "GS = gradient_step()"
   ]
  },
  {
   "cell_type": "markdown",
   "id": "4c44d510-12fc-4518-a663-470f44d58d66",
   "metadata": {},
   "source": [
    "### forward"
   ]
  },
  {
   "cell_type": "code",
   "execution_count": null,
   "id": "98677ce1-ed37-4c14-b8e4-ac684c7bb32b",
   "metadata": {},
   "outputs": [],
   "source": [
    "x = torch.tensor(np.random.random([10,400]), dtype=torch.float) \n",
    "x_0 = torch.tensor(np.random.random([10,32*32]), dtype=torch.float) "
   ]
  }
 ],
 "metadata": {
  "kernelspec": {
   "display_name": "Python 3 (ipykernel)",
   "language": "python",
   "name": "python3"
  },
  "language_info": {
   "codemirror_mode": {
    "name": "ipython",
    "version": 3
   },
   "file_extension": ".py",
   "mimetype": "text/x-python",
   "name": "python",
   "nbconvert_exporter": "python",
   "pygments_lexer": "ipython3",
   "version": "3.9.7"
  }
 },
 "nbformat": 4,
 "nbformat_minor": 5
}
