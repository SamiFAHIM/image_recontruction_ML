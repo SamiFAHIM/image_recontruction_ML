{
 "cells": [
  {
   "cell_type": "code",
   "execution_count": 1,
   "id": "28c66125-dbe7-4a6b-b613-1d0bf4e8298e",
   "metadata": {},
   "outputs": [],
   "source": [
    "import torch\n",
    "import torch.nn as nn\n",
    "import numpy as np\n",
    "import math\n",
    "from spyrit.core.Forward_Operator import *\n",
    "from spyrit.core.Data_Consistency import *"
   ]
  },
  {
   "cell_type": "markdown",
   "id": "aad7abdc-7589-4acd-aad6-eace8f0cb09e",
   "metadata": {},
   "source": [
    "## Instantiate Forward_Operator"
   ]
  },
  {
   "cell_type": "code",
   "execution_count": 2,
   "id": "ea003bf9-b184-4a2c-9500-41d0e6708240",
   "metadata": {},
   "outputs": [],
   "source": [
    "img_size = 32*32\n",
    "nb_measurements = 400\n",
    "batch_size = 10\n",
    "Hcomplete = walsh_matrix(img_size)\n",
    "Hsub = Hcomplete[0:nb_measurements,:]\n",
    "Perm = np.random.random([32*32,32*32])\n",
    "FO = Forward_operator(Hsub)\n",
    "FO_Split_ft_had = Forward_operator_Split_ft_had(Hsub, Perm, 32, 32)"
   ]
  },
  {
   "cell_type": "markdown",
   "id": "48066069-289a-433f-aef3-b0d1ab24eb68",
   "metadata": {},
   "source": [
    "## Pinv_orthogonal"
   ]
  },
  {
   "cell_type": "code",
   "execution_count": 3,
   "id": "2cc1d98b-941b-4bee-93f6-1942b5be99bf",
   "metadata": {},
   "outputs": [],
   "source": [
    "Pinv_ortho = Pinv_orthogonal()"
   ]
  },
  {
   "cell_type": "markdown",
   "id": "1b31d99d-6dba-4c52-b0c0-0f57ed391389",
   "metadata": {},
   "source": [
    "### forward"
   ]
  },
  {
   "cell_type": "code",
   "execution_count": 4,
   "id": "2d021855-69fc-43e7-b79e-52ce951d66b1",
   "metadata": {},
   "outputs": [
    {
     "name": "stdout",
     "output_type": "stream",
     "text": [
      "torch.Size([10, 1024])\n"
     ]
    }
   ],
   "source": [
    "x = torch.tensor(np.random.random([batch_size,nb_measurements]), dtype=torch.float)\n",
    "y = Pinv_ortho(x, FO)\n",
    "print(y.shape)"
   ]
  },
  {
   "cell_type": "markdown",
   "id": "67faf1a3-df71-4cd0-aef0-ef93ee11c4ea",
   "metadata": {},
   "source": [
    "## learned_measurement_to_image"
   ]
  },
  {
   "cell_type": "code",
   "execution_count": 5,
   "id": "0739bb6e-c2df-43f1-b2a1-d520b1229bb7",
   "metadata": {},
   "outputs": [],
   "source": [
    "Meas_to_Img = learned_measurement_to_image(32*32, 400)"
   ]
  },
  {
   "cell_type": "code",
   "execution_count": 6,
   "id": "473c409e-bdb9-4689-b905-c73191df6981",
   "metadata": {},
   "outputs": [
    {
     "name": "stdout",
     "output_type": "stream",
     "text": [
      "torch.Size([10, 1024])\n"
     ]
    }
   ],
   "source": [
    "y = Meas_to_Img(x, FO)\n",
    "print(y.shape)"
   ]
  },
  {
   "cell_type": "markdown",
   "id": "ff586947-37d6-43d5-8bdc-f787d7799509",
   "metadata": {},
   "source": [
    "## gradient_step"
   ]
  },
  {
   "cell_type": "code",
   "execution_count": 7,
   "id": "5fe41fc4-9810-46eb-a40f-d9a1492a328b",
   "metadata": {},
   "outputs": [],
   "source": [
    "GS = gradient_step()"
   ]
  },
  {
   "cell_type": "markdown",
   "id": "4c44d510-12fc-4518-a663-470f44d58d66",
   "metadata": {},
   "source": [
    "### forward"
   ]
  },
  {
   "cell_type": "code",
   "execution_count": 8,
   "id": "98677ce1-ed37-4c14-b8e4-ac684c7bb32b",
   "metadata": {},
   "outputs": [
    {
     "name": "stdout",
     "output_type": "stream",
     "text": [
      "torch.Size([10, 1024])\n"
     ]
    }
   ],
   "source": [
    "x = torch.tensor(np.random.random([10,400]), dtype=torch.float) \n",
    "x_0 = torch.tensor(np.random.random([10,32*32]), dtype=torch.float) \n",
    "y = GS(x, x_0, FO)\n",
    "print(y.shape)"
   ]
  },
  {
   "cell_type": "markdown",
   "id": "3f93480c-f09b-468e-8f0a-0f8f3ef425cf",
   "metadata": {},
   "source": [
    "## Tikhonov_cg"
   ]
  },
  {
   "cell_type": "code",
   "execution_count": 9,
   "id": "d23c7c15-fa70-41f3-beec-226b23d15658",
   "metadata": {},
   "outputs": [],
   "source": [
    "TIK = Tikhonov_cg()"
   ]
  },
  {
   "cell_type": "markdown",
   "id": "641c57ec-ee51-4ac9-84c0-0afc848daefe",
   "metadata": {},
   "source": [
    "### A"
   ]
  },
  {
   "cell_type": "code",
   "execution_count": 10,
   "id": "89097284-b280-47c2-8dd9-466319bc32c4",
   "metadata": {},
   "outputs": [
    {
     "name": "stdout",
     "output_type": "stream",
     "text": [
      "torch.Size([10, 400])\n"
     ]
    }
   ],
   "source": [
    "x = torch.tensor(np.random.random([10,400]), dtype=torch.float)\n",
    "y = TIK.A(x, FO)\n",
    "print(y.shape)"
   ]
  },
  {
   "cell_type": "markdown",
   "id": "bd243ac4-8c3f-48ab-bda6-2f7000486c6b",
   "metadata": {},
   "source": [
    "### CG"
   ]
  },
  {
   "cell_type": "code",
   "execution_count": 11,
   "id": "a048bc18-f485-45bf-80c2-6d6693e2fae7",
   "metadata": {},
   "outputs": [
    {
     "name": "stdout",
     "output_type": "stream",
     "text": [
      "torch.Size([10, 400])\n"
     ]
    }
   ],
   "source": [
    "device = torch.device(\"cuda:0\" if torch.cuda.is_available() else \"cpu\")\n",
    "device = torch.device(\"cpu\")\n",
    "x1 = TIK.CG(y, FO, y.shape, device)\n",
    "print(x1.shape)"
   ]
  },
  {
   "cell_type": "markdown",
   "id": "1df2da2a-0da4-4ff2-b8fe-aada24d391c9",
   "metadata": {},
   "source": [
    "### forward"
   ]
  },
  {
   "cell_type": "code",
   "execution_count": 12,
   "id": "63b9ae46-765b-4458-9397-01f705d17d11",
   "metadata": {},
   "outputs": [
    {
     "name": "stdout",
     "output_type": "stream",
     "text": [
      "torch.Size([10, 1024])\n"
     ]
    }
   ],
   "source": [
    "x = torch.tensor(np.random.random([10,400]), dtype=torch.float) \n",
    "x_0 = torch.tensor(np.random.random([10,32*32]), dtype=torch.float) \n",
    "y = TIK(x, x_0, FO)\n",
    "print(y.shape)"
   ]
  },
  {
   "cell_type": "markdown",
   "id": "092c1c2f-ced5-4103-abca-b47b5f5c685b",
   "metadata": {},
   "source": [
    "## Tikhonov_solve"
   ]
  },
  {
   "cell_type": "code",
   "execution_count": 13,
   "id": "a0f4b1e2-b570-4a62-974e-5db3d4079742",
   "metadata": {},
   "outputs": [],
   "source": [
    "TIK_solve = Tikhonov_solve(mu=0.1)"
   ]
  },
  {
   "cell_type": "markdown",
   "id": "a28f6d2c-68b1-4bba-9182-9f0e2ab61460",
   "metadata": {},
   "source": [
    "### solve"
   ]
  },
  {
   "cell_type": "code",
   "execution_count": 14,
   "id": "09f6ef84-bd14-4eef-94b7-5d9d8737f96c",
   "metadata": {},
   "outputs": [
    {
     "name": "stdout",
     "output_type": "stream",
     "text": [
      "torch.Size([10, 400])\n"
     ]
    }
   ],
   "source": [
    "y = TIK_solve.solve(x, FO)\n",
    "print(y.shape)"
   ]
  },
  {
   "cell_type": "markdown",
   "id": "fe30bdce-7e07-4788-9415-914f948992b8",
   "metadata": {},
   "source": [
    "### forward"
   ]
  },
  {
   "cell_type": "code",
   "execution_count": 15,
   "id": "0d8e3658-cf93-4cea-9930-f586406465e3",
   "metadata": {},
   "outputs": [
    {
     "name": "stdout",
     "output_type": "stream",
     "text": [
      "torch.Size([10, 1024])\n"
     ]
    }
   ],
   "source": [
    "y = TIK_solve(x, x_0, FO)\n",
    "print(y.shape)"
   ]
  },
  {
   "cell_type": "markdown",
   "id": "512e94ae-e5a4-4dbc-b945-8e6c316562ce",
   "metadata": {},
   "source": [
    "## Orthogonal_Tikhonov"
   ]
  },
  {
   "cell_type": "code",
   "execution_count": 16,
   "id": "9c9a2dfe-1c62-4620-a8ca-89060941fbd6",
   "metadata": {},
   "outputs": [],
   "source": [
    "Orth_TIK = Orthogonal_Tikhonov(mu = 0.1)"
   ]
  },
  {
   "cell_type": "markdown",
   "id": "ba2f2bf9-3849-4ca1-b49f-46e2e62a1867",
   "metadata": {},
   "source": [
    "### forward"
   ]
  },
  {
   "cell_type": "code",
   "execution_count": 17,
   "id": "8d248cab-8e00-4d77-86ca-25c6c190490a",
   "metadata": {},
   "outputs": [
    {
     "name": "stdout",
     "output_type": "stream",
     "text": [
      "torch.Size([10, 1024])\n"
     ]
    }
   ],
   "source": [
    "y = Orth_TIK(x, x_0, FO)\n",
    "print(y.shape)"
   ]
  },
  {
   "cell_type": "markdown",
   "id": "ffd87400-3ef5-418f-b8d0-5b1c5d2c1bf5",
   "metadata": {},
   "source": [
    "## Generalised_Tikhonov_cg"
   ]
  },
  {
   "cell_type": "code",
   "execution_count": 18,
   "id": "8f7088c0-cffe-45fc-a49d-4680eb1056ae",
   "metadata": {},
   "outputs": [],
   "source": [
    "Sigma_prior = np.array(np.random.random([1024, 1024])) \n",
    "General_TIK = Generalised_Tikhonov_cg(Sigma_prior, n_iter = 6, eps = 1e-6)"
   ]
  },
  {
   "cell_type": "markdown",
   "id": "4c69aa0d-f08f-4ae2-b14a-2fd3bf4577e9",
   "metadata": {},
   "source": [
    "### A"
   ]
  },
  {
   "cell_type": "code",
   "execution_count": 19,
   "id": "df5e4a22-31a1-46ac-80a1-3211ce7b046b",
   "metadata": {},
   "outputs": [
    {
     "name": "stdout",
     "output_type": "stream",
     "text": [
      "torch.Size([10, 400])\n"
     ]
    }
   ],
   "source": [
    "x = torch.tensor(np.random.random([10,400]), dtype=torch.float)\n",
    "var = torch.tensor(np.random.random([10,400]), dtype=torch.float)\n",
    "y = General_TIK.A(x, var, FO)\n",
    "print(y.shape)"
   ]
  },
  {
   "cell_type": "markdown",
   "id": "3d768af2-b7ba-47d2-bf4d-ca9c065cd2d6",
   "metadata": {},
   "source": [
    "### CG"
   ]
  },
  {
   "cell_type": "code",
   "execution_count": 20,
   "id": "7c065762-d354-4ea4-a9f0-6652e42dc4ae",
   "metadata": {},
   "outputs": [
    {
     "name": "stdout",
     "output_type": "stream",
     "text": [
      "torch.Size([10, 400])\n"
     ]
    }
   ],
   "source": [
    "y =  torch.tensor(np.random.random([10,400]), dtype=torch.float)\n",
    "var = torch.tensor(np.random.random([10,400]), dtype=torch.float)\n",
    "x_out = General_TIK.CG(y, var, FO, y.shape, device)\n",
    "print(x_out.shape)"
   ]
  },
  {
   "cell_type": "markdown",
   "id": "a0bce0dc-a670-4f69-b851-345630f63010",
   "metadata": {},
   "source": [
    "### forward"
   ]
  },
  {
   "cell_type": "code",
   "execution_count": 21,
   "id": "e2f39ca0-839e-47c5-9248-638a2e376f07",
   "metadata": {},
   "outputs": [
    {
     "name": "stdout",
     "output_type": "stream",
     "text": [
      "torch.Size([10, 1024])\n"
     ]
    }
   ],
   "source": [
    "x = torch.tensor(np.random.random([10,400]), dtype=torch.float)\n",
    "x_0 = torch.tensor(np.random.random([10,32*32]), dtype=torch.float) \n",
    "var_noise = torch.tensor(np.random.random([10,400]), dtype=torch.float) \n",
    "y = General_TIK(x, x_0, var_noise, FO)\n",
    "print(y.shape)"
   ]
  },
  {
   "cell_type": "markdown",
   "id": "afdf15e6-3ed6-428c-ad01-587cc5913a2c",
   "metadata": {},
   "source": [
    "## Generalised_Tikhonov_solve"
   ]
  },
  {
   "cell_type": "code",
   "execution_count": 22,
   "id": "7789876d-1f51-44d8-95b3-8a46888e10a1",
   "metadata": {},
   "outputs": [],
   "source": [
    "General_TIK_solve = Generalised_Tikhonov_solve(Sigma_prior)"
   ]
  },
  {
   "cell_type": "markdown",
   "id": "2204c182-0ef5-4f71-8576-ee0488f19954",
   "metadata": {},
   "source": [
    "### solve"
   ]
  },
  {
   "cell_type": "code",
   "execution_count": 23,
   "id": "985abfcf-c5da-4da7-9ffe-35ea22db0479",
   "metadata": {},
   "outputs": [
    {
     "name": "stdout",
     "output_type": "stream",
     "text": [
      "torch.Size([10, 400])\n"
     ]
    }
   ],
   "source": [
    "y = General_TIK_solve.solve(x, var, FO)\n",
    "print(y.shape)"
   ]
  },
  {
   "cell_type": "markdown",
   "id": "ca93abd0-e829-46c0-a75e-4f17c0bbea0c",
   "metadata": {},
   "source": [
    "### forward"
   ]
  },
  {
   "cell_type": "code",
   "execution_count": 24,
   "id": "155eebb3-2dc3-48ff-8849-1b511e9b233c",
   "metadata": {},
   "outputs": [
    {
     "name": "stdout",
     "output_type": "stream",
     "text": [
      "torch.Size([10, 1024])\n"
     ]
    }
   ],
   "source": [
    "y = General_TIK_solve(x, x_0, var_noise, FO)\n",
    "print(y.shape)"
   ]
  },
  {
   "cell_type": "markdown",
   "id": "ca6d2085-2078-4d81-a2a7-30bcaeed8848",
   "metadata": {},
   "source": [
    "## Generalized_Orthogonal_Tikhonov"
   ]
  },
  {
   "cell_type": "code",
   "execution_count": 25,
   "id": "cf42bac0-0ace-4a58-9a2f-d765b966b49e",
   "metadata": {},
   "outputs": [],
   "source": [
    "General_Orth_TIK = Generalized_Orthogonal_Tikhonov(Sigma_prior, 400, 32*32)"
   ]
  },
  {
   "cell_type": "markdown",
   "id": "b148088c-ccca-4e5e-9b55-d6bddb3d2c86",
   "metadata": {},
   "source": [
    "### forward"
   ]
  },
  {
   "cell_type": "code",
   "execution_count": 26,
   "id": "43fa0998-9859-4cb1-8615-3b558d29e094",
   "metadata": {},
   "outputs": [
    {
     "name": "stdout",
     "output_type": "stream",
     "text": [
      "torch.Size([10, 1024])\n"
     ]
    }
   ],
   "source": [
    "y = General_Orth_TIK(x, x_0, var_noise, FO_Split_ft_had)\n",
    "print(y.shape)"
   ]
  },
  {
   "cell_type": "code",
   "execution_count": null,
   "id": "652d25da-ebe2-46e0-a0c1-ed6732475014",
   "metadata": {},
   "outputs": [],
   "source": []
  },
  {
   "cell_type": "code",
   "execution_count": 68,
   "id": "fd052a3f-cfbc-4868-8a74-a27e4535e857",
   "metadata": {},
   "outputs": [
    {
     "ename": "TypeError",
     "evalue": "'int' object is not subscriptable",
     "output_type": "error",
     "traceback": [
      "\u001b[0;31m---------------------------------------------------------------------------\u001b[0m",
      "\u001b[0;31mTypeError\u001b[0m                                 Traceback (most recent call last)",
      "\u001b[0;32m/tmp/ipykernel_15135/1152796078.py\u001b[0m in \u001b[0;36m<module>\u001b[0;34m\u001b[0m\n\u001b[1;32m      1\u001b[0m \u001b[0msigma_prior_list\u001b[0m \u001b[0;34m=\u001b[0m \u001b[0mrange\u001b[0m\u001b[0;34m(\u001b[0m\u001b[0;36m0\u001b[0m\u001b[0;34m,\u001b[0m\u001b[0;36m400\u001b[0m\u001b[0;34m)\u001b[0m\u001b[0;34m\u001b[0m\u001b[0;34m\u001b[0m\u001b[0m\n\u001b[0;32m----> 2\u001b[0;31m \u001b[0mList_General_Orth_TIK\u001b[0m \u001b[0;34m=\u001b[0m \u001b[0mList_Generalized_Orthogonal_Tikhonov\u001b[0m\u001b[0;34m(\u001b[0m\u001b[0msigma_prior_list\u001b[0m\u001b[0;34m,\u001b[0m \u001b[0;36m400\u001b[0m\u001b[0;34m,\u001b[0m \u001b[0;36m32\u001b[0m\u001b[0;34m*\u001b[0m\u001b[0;36m32\u001b[0m\u001b[0;34m)\u001b[0m\u001b[0;34m\u001b[0m\u001b[0;34m\u001b[0m\u001b[0m\n\u001b[0m",
      "\u001b[0;32m~/ARIM_CREATIS/clone-spyrit/spyrit/spyrit/core/Data_Consistency.py\u001b[0m in \u001b[0;36m__init__\u001b[0;34m(self, sigma_prior_list, M, N, n_comp, n_denoi)\u001b[0m\n\u001b[1;32m    751\u001b[0m         \u001b[0;31m# FO = Forward Operator - needs foward operator with defined inverse transform\u001b[0m\u001b[0;34m\u001b[0m\u001b[0;34m\u001b[0m\u001b[0m\n\u001b[1;32m    752\u001b[0m         \u001b[0;31m#-- Pseudo-inverse to determine levels of noise.\u001b[0m\u001b[0;34m\u001b[0m\u001b[0;34m\u001b[0m\u001b[0m\n\u001b[0;32m--> 753\u001b[0;31m \u001b[0;34m\u001b[0m\u001b[0m\n\u001b[0m\u001b[1;32m    754\u001b[0m         \u001b[0;32mif\u001b[0m \u001b[0mn_denoi\u001b[0m \u001b[0;32mis\u001b[0m \u001b[0;32mNone\u001b[0m \u001b[0;34m:\u001b[0m\u001b[0;34m\u001b[0m\u001b[0;34m\u001b[0m\u001b[0m\n\u001b[1;32m    755\u001b[0m             \u001b[0mn_denoi\u001b[0m \u001b[0;34m=\u001b[0m \u001b[0mlen\u001b[0m\u001b[0;34m(\u001b[0m\u001b[0msigma_prior_list\u001b[0m\u001b[0;34m)\u001b[0m\u001b[0;34m\u001b[0m\u001b[0;34m\u001b[0m\u001b[0m\n",
      "\u001b[0;31mTypeError\u001b[0m: 'int' object is not subscriptable"
     ]
    }
   ],
   "source": [
    "sigma_prior_list = range(0,400)\n",
    "List_General_Orth_TIK = List_Generalized_Orthogonal_Tikhonov(sigma_prior_list, 400, 32*32)"
   ]
  }
 ],
 "metadata": {
  "kernelspec": {
   "display_name": "Python 3 (ipykernel)",
   "language": "python",
   "name": "python3"
  },
  "language_info": {
   "codemirror_mode": {
    "name": "ipython",
    "version": 3
   },
   "file_extension": ".py",
   "mimetype": "text/x-python",
   "name": "python",
   "nbconvert_exporter": "python",
   "pygments_lexer": "ipython3",
   "version": "3.9.7"
  }
 },
 "nbformat": 4,
 "nbformat_minor": 5
}
