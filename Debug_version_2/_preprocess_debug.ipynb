{
 "cells": [
  {
   "cell_type": "code",
   "execution_count": 1,
   "id": "d76177d5-8be7-4c30-9c67-73db868ec9da",
   "metadata": {},
   "outputs": [],
   "source": [
    "import torch\n",
    "import numpy as np\n",
    "from torchvision import datasets, transforms\n",
    "from pathlib import Path\n",
    "import spyrit.misc.walsh_hadamard as wh\n",
    "\n",
    "from spyrit.misc.statistics import stat_walsh_stl10\n",
    "from spyrit.misc.statistics import *\n",
    "from spyrit.misc.disp import *\n",
    "from spyrit.misc.matrix_tools import *"
   ]
  },
  {
   "cell_type": "code",
   "execution_count": 2,
   "id": "da911fa8-10f7-483d-9ddd-a657d7f6ebe3",
   "metadata": {},
   "outputs": [],
   "source": [
    "img_size = 64 # image size\n",
    "M = 1024    # number of measurements\n",
    "N0 = 50     # Image intensity (in photons)\n",
    "bs = 10 # Batch size\n",
    "\n",
    "#- Model and data paths\n",
    "data_root = Path('../../data/')\n",
    "stats_root = Path('../../data/stats_walsh')"
   ]
  },
  {
   "cell_type": "code",
   "execution_count": 3,
   "id": "678fcd15-2316-4694-84c2-9b92ce0c40aa",
   "metadata": {},
   "outputs": [],
   "source": [
    "#%% A batch of STL-10 test images\n",
    "device = torch.device(\"cuda:0\" if torch.cuda.is_available() else \"cpu\")\n",
    "torch.manual_seed(7)\n",
    "\n",
    "transform = transforms.Compose(\n",
    "    [transforms.functional.to_grayscale,\n",
    "     transforms.Resize((img_size, img_size)),\n",
    "     transforms.ToTensor(),\n",
    "     transforms.Normalize([0.5], [0.5])])\n",
    "\n",
    "testset = \\\n",
    "    torchvision.datasets.STL10(root=data_root, split='test',download=False, transform=transform)\n",
    "testloader =  torch.utils.data.DataLoader(testset, batch_size=bs, shuffle=False)"
   ]
  },
  {
   "cell_type": "code",
   "execution_count": 4,
   "id": "0d8acc5b-b605-4a17-b307-aec3cb8286a8",
   "metadata": {},
   "outputs": [],
   "source": [
    "inputs, _ = next(iter(testloader))\n",
    "b,c,h,w = inputs.shape"
   ]
  },
  {
   "cell_type": "code",
   "execution_count": 5,
   "id": "950de3b3-a438-439e-af79-d0408288a76d",
   "metadata": {},
   "outputs": [],
   "source": [
    "# stat_walsh_stl10()\n",
    "Cov = np.load(stats_root / Path(\"Cov_{}x{}.npy\".format(img_size, img_size)))\n",
    "Mean = np.load(stats_root / Path(\"Average_{}x{}.npy\".format(img_size, img_size)))\n",
    "H =  wh.walsh2_matrix(img_size)\n",
    "# H =  wh.walsh2_matrix(img_size)/img_size\n",
    "\n",
    "\n",
    "Ord = Cov2Var(Cov)\n",
    "Perm = Permutation_Matrix(Ord)\n",
    "Pmat = np.dot(Perm,H);\n",
    "Pmat = Pmat[:M,:];\n"
   ]
  },
  {
   "cell_type": "code",
   "execution_count": 6,
   "id": "e72c1aae-5862-4e68-8ce1-8fd29bb5e725",
   "metadata": {},
   "outputs": [],
   "source": [
    "x = inputs.view(b*c,w*h)"
   ]
  },
  {
   "cell_type": "code",
   "execution_count": 7,
   "id": "423c62a0-067d-487e-b100-6415459ad70c",
   "metadata": {},
   "outputs": [
    {
     "data": {
      "image/png": "[encoded data removed]",
      "text/plain": [
       "<Figure size 640x480 with 2 Axes>"
      ]
     },
     "metadata": {},
     "output_type": "display_data"
    }
   ],
   "source": [
    "img = x[1,:]\n",
    "img = img.numpy();\n",
    "imagesc(np.reshape(img,(h,w)))"
   ]
  },
  {
   "cell_type": "markdown",
   "id": "355e8f47-251f-427d-9bf8-4841ab7dcac1",
   "metadata": {
    "tags": []
   },
   "source": [
    "# Split_diag_poisson_preprocess\n",
    "## Instancier"
   ]
  },
  {
   "cell_type": "code",
   "execution_count": 10,
   "id": "c3b1abd2-70ca-4238-8f77-6439e31da812",
   "metadata": {},
   "outputs": [
    {
     "ename": "NameError",
     "evalue": "name 'Split_diag_poisson_preprocess' is not defined",
     "output_type": "error",
     "traceback": [
      "\u001b[0;31m---------------------------------------------------------------------------\u001b[0m",
      "\u001b[0;31mNameError\u001b[0m                                 Traceback (most recent call last)",
      "\u001b[0;32m/tmp/ipykernel_15270/1873327219.py\u001b[0m in \u001b[0;36m<module>\u001b[0;34m\u001b[0m\n\u001b[0;32m----> 1\u001b[0;31m \u001b[0mSPP\u001b[0m \u001b[0;34m=\u001b[0m \u001b[0mSplit_diag_poisson_preprocess\u001b[0m\u001b[0;34m(\u001b[0m\u001b[0mN0\u001b[0m\u001b[0;34m,\u001b[0m \u001b[0mM\u001b[0m\u001b[0;34m,\u001b[0m \u001b[0mw\u001b[0m\u001b[0;34m*\u001b[0m\u001b[0mh\u001b[0m\u001b[0;34m)\u001b[0m\u001b[0;34m\u001b[0m\u001b[0;34m\u001b[0m\u001b[0m\n\u001b[0m",
      "\u001b[0;31mNameError\u001b[0m: name 'Split_diag_poisson_preprocess' is not defined"
     ]
    }
   ],
   "source": [
    "SPP = Split_diag_poisson_preprocess(N0, M, w*h)"
   ]
  },
  {
   "cell_type": "markdown",
   "id": "77d71d1d-3dab-4880-80b1-6a8c3244194c",
   "metadata": {},
   "source": [
    "## Test methode forward"
   ]
  },
  {
   "cell_type": "code",
   "execution_count": null,
   "id": "9126ac66-9b65-43b0-b176-50f409e5e49e",
   "metadata": {},
   "outputs": [],
   "source": [
    "m = A_b(x)\n",
    "y = SPP(m,FO_split)"
   ]
  },
  {
   "cell_type": "code",
   "execution_count": null,
   "id": "efd99a9b-1894-458a-bfc7-3e1437382031",
   "metadata": {},
   "outputs": [],
   "source": [
    "x_est = FO_split.adjoint(y)\n",
    "img = 1/(w*h)*x_est[1,:]\n",
    "img = img.numpy();\n",
    "imagesc(np.reshape(img,(h,w)))"
   ]
  },
  {
   "cell_type": "markdown",
   "id": "849753c0-50b1-4161-a1f1-cd77faa3f77a",
   "metadata": {},
   "source": [
    "## Test methode sigma"
   ]
  },
  {
   "cell_type": "code",
   "execution_count": null,
   "id": "8a9eb34d-704a-49f8-9a69-b20c2fb87bb8",
   "metadata": {},
   "outputs": [],
   "source": [
    "sigma = SPP.sigma(m)"
   ]
  },
  {
   "cell_type": "markdown",
   "id": "051ac8ae-ee05-41fd-af58-67b93149614e",
   "metadata": {},
   "source": [
    "TO DO :\n",
    "* Vérifier que sigma est proche de $(H_+*f+H_-*f)*/N0^2$ (voir m = FO_split((x+1)/2) dand forward operator debug)\n",
    "    \n",
    "\n",
    "http://wiki.stat.ucla.edu/socr/index.php/AP_Statistics_Curriculum_2007_Limits_Norm2Poisson"
   ]
  },
  {
   "cell_type": "code",
   "execution_count": null,
   "id": "dbdd667d-7b9f-4cf3-8d62-c56ed4dda780",
   "metadata": {},
   "outputs": [],
   "source": []
  }
 ],
 "metadata": {
  "kernelspec": {
   "display_name": "Python 3 (ipykernel)",
   "language": "python",
   "name": "python3"
  },
  "language_info": {
   "codemirror_mode": {
    "name": "ipython",
    "version": 3
   },
   "file_extension": ".py",
   "mimetype": "text/x-python",
   "name": "python",
   "nbconvert_exporter": "python",
   "pygments_lexer": "ipython3",
   "version": "3.9.7"
  }
 },
 "nbformat": 4,
 "nbformat_minor": 5
}
