{
 "cells": [
  {
   "cell_type": "code",
   "execution_count": 1,
   "id": "72ed4113-0749-40f9-b7ae-c335e4fdec77",
   "metadata": {},
   "outputs": [],
   "source": [
    "import torch\n",
    "import numpy as np\n",
    "from spyrit.misc.walsh_hadamard import walsh_matrix\n",
    "from spyrit.core.Forward_Operator import *"
   ]
  },
  {
   "cell_type": "code",
   "execution_count": 2,
   "id": "fc3d6649-5679-4219-9762-9b5cc6035966",
   "metadata": {},
   "outputs": [
    {
     "name": "stdout",
     "output_type": "stream",
     "text": [
      "Hsub shape: (400, 1024)\n",
      "input shape: torch.Size([10, 1024])\n",
      "output shape: torch.Size([10, 400])\n"
     ]
    }
   ],
   "source": [
    "img_size = 32*32\n",
    "nb_measurements = 400\n",
    "batch_size = 10\n",
    "Hcomplete = walsh_matrix(img_size)\n",
    "Hsub = Hcomplete[0:nb_measurements,:]\n",
    "Forward_OP = Forward_operator(Hsub)\n",
    "x = torch.tensor(np.random.random([batch_size,img_size]), dtype=torch.float)\n",
    "y = Forward_OP(x)\n",
    "print('Hsub shape:', Hsub.shape)\n",
    "print('input shape:', x.shape)\n",
    "print('output shape:', y.shape)"
   ]
  },
  {
   "cell_type": "code",
   "execution_count": 3,
   "id": "7ff05abc-d76c-466b-9819-e0adeb4b8f49",
   "metadata": {},
   "outputs": [
    {
     "name": "stdout",
     "output_type": "stream",
     "text": [
      "torch.Size([10, 1024])\n"
     ]
    }
   ],
   "source": [
    "x_back = Forward_OP.adjoint(y)\n",
    "print(x_back.shape)"
   ]
  },
  {
   "cell_type": "code",
   "execution_count": 8,
   "id": "d484584b-7c2e-4996-82d3-c108a4d5275a",
   "metadata": {},
   "outputs": [
    {
     "name": "stdout",
     "output_type": "stream",
     "text": [
      "torch.Size([10, 1024])\n"
     ]
    }
   ],
   "source": [
    "Perm = np.array(np.random.random([32*32,32*32]))\n",
    "FO_Had = Split_Forward_operator_ft_had(Hsub, Perm, 32, 32) \n",
    "x_inverse = FO_Had.inverse(x)\n",
    "print(x_inverse.shape)"
   ]
  },
  {
   "cell_type": "code",
   "execution_count": 14,
   "id": "6ef5e80a-5704-4141-996e-e8200fc92622",
   "metadata": {},
   "outputs": [
    {
     "name": "stdout",
     "output_type": "stream",
     "text": [
      "torch.Size([10, 1024])\n"
     ]
    }
   ],
   "source": [
    "x = torch.Tensor(np.random.random([10,400]))\n",
    "x_pinv = FO_Had.pinv(x)\n",
    "print(x_pinv.shape)"
   ]
  }
 ],
 "metadata": {
  "kernelspec": {
   "display_name": "Python 3 (ipykernel)",
   "language": "python",
   "name": "python3"
  },
  "language_info": {
   "codemirror_mode": {
    "name": "ipython",
    "version": 3
   },
   "file_extension": ".py",
   "mimetype": "text/x-python",
   "name": "python",
   "nbconvert_exporter": "python",
   "pygments_lexer": "ipython3",
   "version": "3.9.7"
  }
 },
 "nbformat": 4,
 "nbformat_minor": 5
}
