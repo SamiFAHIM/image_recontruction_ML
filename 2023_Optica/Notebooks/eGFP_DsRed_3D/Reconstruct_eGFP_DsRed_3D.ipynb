{
 "cells": [
  {
   "cell_type": "markdown",
   "id": "d1ea697b-610b-4f46-a446-29329ca806d9",
   "metadata": {},
   "source": [
    "# Reconstruction using inverse problem with measured patterns"
   ]
  },
  {
   "cell_type": "code",
   "execution_count": 1,
   "id": "062f0331-7944-45c2-8529-8162ad48eae9",
   "metadata": {},
   "outputs": [],
   "source": [
    "import sys\n",
    "import numpy as np\n",
    "import scipy\n",
    "\n",
    "import matplotlib.pyplot as plt\n",
    "\n",
    "#sys.path.append('//home/crombez/Documents/PhD/python/openspyrit/spyrit/spyrit/learning/') \n",
    "from spyrit.misc.statistics import stat_mean_coef_from_model\n",
    "from spyrit.misc.metrics import *\n",
    "from spyrit.learning.nets import *\n",
    "from spyrit.learning.model_Had_1D_DCAN import compNet_1D, Pinv_reg, compNet_1D_test_product, compNet_1D_size_im, compNet_1D_size_im_f,compNet_1D_size_stat,compNet_1D_size_stat_norma\n",
    "\n",
    "sys.path.append('/home/crombez/Documents/PhD/python/MOPDC/fonction/') \n",
    "from data_visualisation import *\n",
    "from load_data import *\n",
    "from matrix_tools import *\n",
    "from walsh_hadamard import *\n",
    "from walsh_ordered_recon import *"
   ]
  },
  {
   "cell_type": "code",
   "execution_count": 2,
   "id": "6ed04db0-2ad9-44ce-8782-bdb89f46c6db",
   "metadata": {},
   "outputs": [
    {
     "name": "stdout",
     "output_type": "stream",
     "text": [
      "Using matplotlib backend: Qt5Agg\n"
     ]
    }
   ],
   "source": [
    "%matplotlib \n",
    "#inline "
   ]
  },
  {
   "cell_type": "markdown",
   "id": "2456f883-b230-4add-a8db-4cc4f606d11d",
   "metadata": {},
   "source": [
    "## Reconstruction parameters"
   ]
  },
  {
   "cell_type": "code",
   "execution_count": 3,
   "id": "42d1d8ab-6515-41eb-90fb-48043a1108f6",
   "metadata": {},
   "outputs": [],
   "source": [
    "Nl = 512#256#\n",
    "Nc = 512#256#\n",
    "Nlamb = 128\n",
    "Nh = 128#64#"
   ]
  },
  {
   "cell_type": "markdown",
   "id": "7d314289-086c-4327-b244-aef2b42089d5",
   "metadata": {},
   "source": [
    "## Hadamard"
   ]
  },
  {
   "cell_type": "markdown",
   "id": "505cb860-b10c-4673-b65a-551a30c844e7",
   "metadata": {},
   "source": [
    "### Load patterns"
   ]
  },
  {
   "cell_type": "code",
   "execution_count": 4,
   "id": "74a723b5-eadf-4da4-a05a-4c4a5a8cf48d",
   "metadata": {},
   "outputs": [],
   "source": [
    "save_path = '/home/crombez/Documents/PhD/python/PTND/Data/eGFP_DsRed_3D/Reconstruction/Mat_rc/'\n",
    "name = 'motifs_Hadamard_'+str(Nh)+'_'+str(Nc)+'.npy'\n",
    "motifs = np.load(save_path+name)\n",
    "plot_im2D(motifs)"
   ]
  },
  {
   "cell_type": "markdown",
   "id": "310228f1-e462-48c6-9269-1a1c6ee68f25",
   "metadata": {},
   "source": [
    "### Reconstruction"
   ]
  },
  {
   "cell_type": "code",
   "execution_count": 5,
   "id": "21a5c37c-1d35-464d-b6d7-bc3858aae3ea",
   "metadata": {},
   "outputs": [],
   "source": [
    "Pinv = np.linalg.pinv(np.transpose(motifs/np.max(motifs)))"
   ]
  },
  {
   "cell_type": "code",
   "execution_count": 8,
   "id": "297f448b-9a50-4254-bf7d-f08664135de5",
   "metadata": {},
   "outputs": [],
   "source": [
    "load_path = '/home/crombez/Documents/PhD/python/PTND/Data/eGFP_DsRed_3D/Preprocess/'\n",
    "list_file = ['T1_RUN0002_2023_03_13_Had_512_128_128.npy','T2_RUN0003_2023_03_13_Had_512_128_128.npy','T3_RUN0004_2023_03_13_Had_512_128_128.npy','T4_RUN0005_2023_03_13_Had_512_128_128.npy','T5_RUN0006_2023_03_13_Had_512_128_128.npy','T6_RUN0001_2023_03_14_Had_512_128_128.npy','T7_RUN0002_2023_03_14_Had_512_128_128.npy','T8_RUN0003_2023_03_14_Had_512_128_128.npy','T9_RUN0004_2023_03_14_Had_512_128_128.npy','T10_RUN0005_2023_03_14_Had_512_128_128.npy','T11_RUN0006_2023_03_14_Had_512_128_128.npy','T12_RUN0007_2023_03_14_Had_512_128_128.npy','T13_RUN0008_2023_03_14_Had_512_128_128.npy','T14_RUN0009_2023_03_14_Had_512_128_128.npy','T15_RUN0010_2023_03_14_Had_512_128_128.npy','T16_RUN0011_2023_03_14_Had_512_128_128.npy','T17_RUN0012_2023_03_14_Had_512_128_128.npy','T18_RUN0013_2023_03_14_Had_512_128_128.npy','T19_RUN0014_2023_03_14_Had_512_128_128.npy','T20_RUN0015_2023_03_14_Had_512_128_128.npy','T21_RUN0016_2023_03_14_Had_512_128_128.npy','T22_RUN0017_2023_03_14_Had_512_128_128.npy','T23_RUN0018_2023_03_14_Had_512_128_128.npy','T24_RUN0019_2023_03_14_Had_512_128_128.npy','T25_RUN0020_2023_03_14_Had_512_128_128.npy','T26_RUN0021_2023_03_14_Had_512_128_128.npy']\n",
    "\n",
    "\n",
    "for file in list_file:\n",
    "    \n",
    "    hyper_cube = np.load(load_path+file)\n",
    "    rc_pinv = np.zeros((Nl,Nc,Nlamb))\n",
    "    \n",
    "    for i in range(Nlamb):\n",
    "        rc_pinv[:,:,i] = np.dot(hyper_cube[:,:,i],Pinv)\n",
    "        \n",
    "    Save_path = '/home/crombez/Documents/PhD/python/PTND/Data/eGFP_DsRed_3D/Reconstruction/hyper_cube/'\n",
    "    file_name = file[:-16]+'_rc_pinv_'+str(Nl)+'x'+str(Nc)+'x'+str(Nlamb)+'.npy'\n",
    "    np.save(Save_path+file_name,rc_pinv)"
   ]
  },
  {
   "cell_type": "code",
   "execution_count": 9,
   "id": "225e4e3e-9505-480d-a97c-d79732318397",
   "metadata": {},
   "outputs": [],
   "source": [
    "stack = np.zeros((Nl,Nc,))\n",
    "for i in range(Nlamb):\n",
    "    stack += rc_pinv[:,:,i]\n",
    "plot_im2D(stack)"
   ]
  },
  {
   "cell_type": "markdown",
   "id": "6e0bdf56-2224-4844-837f-38f2b1f417df",
   "metadata": {},
   "source": [
    "## Save lambda stack"
   ]
  },
  {
   "cell_type": "code",
   "execution_count": null,
   "id": "5e7e6e0c-134d-4d16-bdea-7afa82fd64ca",
   "metadata": {},
   "outputs": [],
   "source": [
    "\n",
    "Save_path = '/home/crombez/Documents/PhD/python/PTND/Data/mRFP_DsRed_can_vs_had//Reconstruction/hyper_cube/'\n",
    "stack = np.zeros((Nl,Nc))\n",
    "run = 'RUN0006'\n",
    "rc_pinv = np.load(Save_path+run+'_rc_pinv_'+str(Nl)+'x'+str(Nc)+'x'+str(Nlamb)+'.npy')\n",
    "for i in range(Nlamb):\n",
    "    stack += rc_pinv[:,:,i]\n",
    "plot_im2D(stack)"
   ]
  },
  {
   "cell_type": "code",
   "execution_count": null,
   "id": "8b099157-d543-42a6-a309-c5c2fb3ae6e3",
   "metadata": {},
   "outputs": [],
   "source": [
    "\n",
    "save_path_stack = '/home/crombez/Documents/PhD/python/PTND/Data/mRFP_DsRed_can_vs_had/Analyse_out/stack/'\n",
    "\n",
    "if not os.path.exists(save_path_stack):\n",
    "    os.makedirs(save_path_stack)\n",
    "file_name = run+'_rc_pinv_lambda_stack_'+str(Nl)+'x'+str(Nc)+'.npy'\n",
    "np.save(save_path_stack+file_name,stack)"
   ]
  }
 ],
 "metadata": {
  "kernelspec": {
   "display_name": "Python 3 (ipykernel)",
   "language": "python",
   "name": "python3"
  },
  "language_info": {
   "codemirror_mode": {
    "name": "ipython",
    "version": 3
   },
   "file_extension": ".py",
   "mimetype": "text/x-python",
   "name": "python",
   "nbconvert_exporter": "python",
   "pygments_lexer": "ipython3",
   "version": "3.7.6"
  }
 },
 "nbformat": 4,
 "nbformat_minor": 5
}
