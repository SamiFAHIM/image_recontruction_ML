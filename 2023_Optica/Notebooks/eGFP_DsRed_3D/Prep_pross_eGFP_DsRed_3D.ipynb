{
 "cells": [
  {
   "cell_type": "markdown",
   "id": "c65a71f0-8144-4240-9185-4d5b60692525",
   "metadata": {
    "tags": []
   },
   "source": [
    "# Pre-processing of chSPSIM data"
   ]
  },
  {
   "cell_type": "code",
   "execution_count": 1,
   "id": "ef269510-cf92-4c6d-8d87-0b1510778ef4",
   "metadata": {},
   "outputs": [],
   "source": [
    "import sys\n",
    "import os\n",
    "import glob\n",
    "import numpy as np\n",
    "import matplotlib.pyplot as plt\n",
    "import ipywidgets as widgets\n",
    "#import statistics\n",
    "#from PIL import Image\n",
    "from scipy.linalg import hadamard\n",
    "import math \n",
    "from matplotlib.colors import LogNorm\n",
    "from sympy.combinatorics.graycode import GrayCode\n",
    "from scipy.ndimage.filters import gaussian_filter\n",
    "from scipy.stats import sigmaclip\n",
    "from scipy import sparse\n",
    "import scipy.sparse.linalg\n",
    "from scipy.sparse import linalg\n",
    "import ipywidgets as widgets\n",
    "from ipywidgets import interactive\n",
    "from IPython.display import display\n",
    "\n",
    "\n",
    "sys.path.append('/home/crombez/Documents/PhD/python/libreries/') \n",
    "from data_visualisation import *\n",
    "from load_data import *\n",
    "from matrix_tools import *\n",
    "from walsh_hadamard import *\n",
    "from walsh_ordered_recon import *"
   ]
  },
  {
   "cell_type": "code",
   "execution_count": 2,
   "id": "5782d81a-105d-434a-81df-d705dce47f1f",
   "metadata": {},
   "outputs": [
    {
     "name": "stdout",
     "output_type": "stream",
     "text": [
      "Using matplotlib backend: Qt5Agg\n"
     ]
    }
   ],
   "source": [
    "%matplotlib"
   ]
  },
  {
   "cell_type": "code",
   "execution_count": 3,
   "id": "9bc18b84-6058-4be4-b87d-3acf6d3412fc",
   "metadata": {},
   "outputs": [],
   "source": [
    "def bining_line(Mat,n):\n",
    "    (Nl,Nc) = np.shape(Mat)\n",
    "    M_out = np.zeros((Nl//n,Nc))\n",
    "    for i in range(0,Nl,n):\n",
    "        for j in range(n):\n",
    "            M_out[i//n] += Mat[i+j]\n",
    "    return(M_out)\n",
    "\n",
    "def bining_colonne(Mat,n):\n",
    "    (Nl,Nc) = np.shape(Mat)\n",
    "    M_out = np.zeros((Nl,Nc//n))\n",
    "    for i in range(0,Nc,n):\n",
    "        for j in range(n):\n",
    "            M_out[:,i//n] += Mat[:,i+j]\n",
    "    return(M_out)"
   ]
  },
  {
   "cell_type": "code",
   "execution_count": 4,
   "id": "ab84cb1f-4cd1-44d4-9466-0028f82979eb",
   "metadata": {},
   "outputs": [],
   "source": [
    "def Files_names(Path,name_type):\n",
    "    files = glob.glob(Path+name_type)\n",
    "    print\n",
    "    files.sort(key=os.path.getmtime)\n",
    "    return([os.path.basename(x) for x in files])"
   ]
  },
  {
   "cell_type": "code",
   "execution_count": 5,
   "id": "c965a0cd-fd2e-4326-b452-920385cee608",
   "metadata": {},
   "outputs": [],
   "source": [
    "def Select_data(Dir,Run):\n",
    "    Data_path = Dir+Run+'/'\n",
    "    name_type = os.listdir(Data_path)[0]\n",
    "    name_type = name_type[:-9]+'*'+name_type[-4:]\n",
    "    files = Files_names(Data_path,str(name_type))\n",
    "    print('Données du dossier : '+Data_path)\n",
    "\n",
    "    return(Data_path,files)"
   ]
  },
  {
   "cell_type": "code",
   "execution_count": 6,
   "id": "fedcb22a-d9fc-406d-8ab7-a30b363b29fe",
   "metadata": {},
   "outputs": [],
   "source": [
    "def load_data(Path_files,list_files,Nl,Nh,Nc):\n",
    "    Data = np.zeros((Nl,Nh,Nc))\n",
    "    \n",
    "    for i in range(0,2*Nh,2):\n",
    "        \n",
    "        Data[:,i//2] = np.float_(np.rot90(np.array(Image.open(Path_files+list_files[i]))))-np.float_(np.rot90(np.array(Image.open(Path_files+list_files[i+1]))))\n",
    "\n",
    "    return(Data)"
   ]
  },
  {
   "cell_type": "markdown",
   "id": "a213b635-a4fb-4bb6-84a5-aa664896b358",
   "metadata": {},
   "source": [
    "## Hadamard acquisition"
   ]
  },
  {
   "cell_type": "markdown",
   "id": "2bb290e7-613c-4c75-9b06-ee33104c386e",
   "metadata": {},
   "source": [
    "### Data chSPSIM"
   ]
  },
  {
   "cell_type": "code",
   "execution_count": 8,
   "id": "0830014a-7863-4171-8dcc-cb7b14e4bea1",
   "metadata": {},
   "outputs": [
    {
     "name": "stdout",
     "output_type": "stream",
     "text": [
      "Données du dossier : /run/media/crombez/Elements/HSPIM_seb_acquisition/Post_doc/data_2023_03_13/RUN0002/\n",
      "Données du dossier : /run/media/crombez/Elements/HSPIM_seb_acquisition/Post_doc/data_2023_03_13/RUN0003/\n",
      "Données du dossier : /run/media/crombez/Elements/HSPIM_seb_acquisition/Post_doc/data_2023_03_13/RUN0004/\n",
      "Données du dossier : /run/media/crombez/Elements/HSPIM_seb_acquisition/Post_doc/data_2023_03_13/RUN0005/\n",
      "Données du dossier : /run/media/crombez/Elements/HSPIM_seb_acquisition/Post_doc/data_2023_03_13/RUN0006/\n"
     ]
    }
   ],
   "source": [
    "Dir = '/run/media/crombez/Elements/HSPIM_seb_acquisition/Post_doc/data_2023_03_13/'\n",
    "list_run = ['RUN0002','RUN0003','RUN0004','RUN0005','RUN0006',]\n",
    "Nl = 2160 # number of lines of the spectral camera\n",
    "Nc = 2560 # number of columns of the spectral camera\n",
    "Nh = 128#64#  #number of patterns acquired\n",
    "\n",
    "Bin_line = 4#8#\n",
    "Bin_lambda = 20\n",
    "\n",
    "Nl_bin = 2048//Bin_line\n",
    "Nc_bin = Nc//Bin_lambda\n",
    "n = 1\n",
    "for Run in list_run :\n",
    "    Data_path,files = Select_data(Dir,Run)\n",
    "    data = load_data(Data_path,files,Nl,Nh,Nc)\n",
    "    stack = np.zeros((Nl_bin,Nh,Nc_bin))\n",
    "    for i in range(Nh):\n",
    "        step = bining_colonne(data[56:2104,i],Bin_lambda) # Here as we only have 2048 lines on the imaging camera we remove 56 lines at the top and the bottom of the spectrale images \n",
    "        stack[:,i] = bining_line(step,Bin_line)\n",
    "    save_path = '/home/crombez/Documents/PhD/python/PTND/Data/eGFP_DsRed_3D/Preprocess/'\n",
    "    #name = Run+'_Had_'+str(Nl_bin)+'_'+str(Nh)+'_'+str(Nc_bin)+'.npy'\n",
    "    name = 'T'+str(n)+'_'+Run+'_2023_03_13'+'_Had_'+str(Nl_bin)+'_'+str(Nh)+'_'+str(Nc_bin)+'.npy'\n",
    "    n += 1\n",
    "    np.save(save_path+name,stack)"
   ]
  },
  {
   "cell_type": "code",
   "execution_count": 9,
   "id": "92ff4d86-4960-4234-8afc-72d17cc413c4",
   "metadata": {},
   "outputs": [
    {
     "name": "stdout",
     "output_type": "stream",
     "text": [
      "Données du dossier : /run/media/crombez/Elements/HSPIM_seb_acquisition/Post_doc/data_2023_03_14/RUN0001/\n",
      "Données du dossier : /run/media/crombez/Elements/HSPIM_seb_acquisition/Post_doc/data_2023_03_14/RUN0002/\n",
      "Données du dossier : /run/media/crombez/Elements/HSPIM_seb_acquisition/Post_doc/data_2023_03_14/RUN0003/\n",
      "Données du dossier : /run/media/crombez/Elements/HSPIM_seb_acquisition/Post_doc/data_2023_03_14/RUN0004/\n",
      "Données du dossier : /run/media/crombez/Elements/HSPIM_seb_acquisition/Post_doc/data_2023_03_14/RUN0005/\n",
      "Données du dossier : /run/media/crombez/Elements/HSPIM_seb_acquisition/Post_doc/data_2023_03_14/RUN0006/\n",
      "Données du dossier : /run/media/crombez/Elements/HSPIM_seb_acquisition/Post_doc/data_2023_03_14/RUN0007/\n",
      "Données du dossier : /run/media/crombez/Elements/HSPIM_seb_acquisition/Post_doc/data_2023_03_14/RUN0008/\n",
      "Données du dossier : /run/media/crombez/Elements/HSPIM_seb_acquisition/Post_doc/data_2023_03_14/RUN0009/\n",
      "Données du dossier : /run/media/crombez/Elements/HSPIM_seb_acquisition/Post_doc/data_2023_03_14/RUN0010/\n",
      "Données du dossier : /run/media/crombez/Elements/HSPIM_seb_acquisition/Post_doc/data_2023_03_14/RUN0011/\n",
      "Données du dossier : /run/media/crombez/Elements/HSPIM_seb_acquisition/Post_doc/data_2023_03_14/RUN0012/\n",
      "Données du dossier : /run/media/crombez/Elements/HSPIM_seb_acquisition/Post_doc/data_2023_03_14/RUN0013/\n",
      "Données du dossier : /run/media/crombez/Elements/HSPIM_seb_acquisition/Post_doc/data_2023_03_14/RUN0014/\n",
      "Données du dossier : /run/media/crombez/Elements/HSPIM_seb_acquisition/Post_doc/data_2023_03_14/RUN0015/\n",
      "Données du dossier : /run/media/crombez/Elements/HSPIM_seb_acquisition/Post_doc/data_2023_03_14/RUN0016/\n",
      "Données du dossier : /run/media/crombez/Elements/HSPIM_seb_acquisition/Post_doc/data_2023_03_14/RUN0017/\n",
      "Données du dossier : /run/media/crombez/Elements/HSPIM_seb_acquisition/Post_doc/data_2023_03_14/RUN0018/\n",
      "Données du dossier : /run/media/crombez/Elements/HSPIM_seb_acquisition/Post_doc/data_2023_03_14/RUN0019/\n",
      "Données du dossier : /run/media/crombez/Elements/HSPIM_seb_acquisition/Post_doc/data_2023_03_14/RUN0020/\n",
      "Données du dossier : /run/media/crombez/Elements/HSPIM_seb_acquisition/Post_doc/data_2023_03_14/RUN0021/\n"
     ]
    }
   ],
   "source": [
    "Dir = '/run/media/crombez/Elements/HSPIM_seb_acquisition/Post_doc/data_2023_03_14/'\n",
    "list_run = ['RUN0001','RUN0002','RUN0003','RUN0004','RUN0005','RUN0006','RUN0007','RUN0008','RUN0009','RUN0010','RUN0011','RUN0012','RUN0013','RUN0014','RUN0015','RUN0016','RUN0017','RUN0018','RUN0019','RUN0020','RUN0021']\n",
    "\n",
    "Nl = 2160 # number of lines of the spectral camera\n",
    "Nc = 2560 # number of columns of the spectral camera\n",
    "Nh = 128#64#  #number of patterns acquired\n",
    "\n",
    "Bin_line = 4#8#\n",
    "Bin_lambda = 20\n",
    "\n",
    "Nl_bin = 2048//Bin_line\n",
    "Nc_bin = Nc//Bin_lambda\n",
    "n = 1\n",
    "for Run in list_run :\n",
    "    Data_path,files = Select_data(Dir,Run)\n",
    "    data = load_data(Data_path,files,Nl,Nh,Nc)\n",
    "    stack = np.zeros((Nl_bin,Nh,Nc_bin))\n",
    "    for i in range(Nh):\n",
    "        step = bining_colonne(data[56:2104,i],Bin_lambda) # Here as we only have 2048 lines on the imaging camera we remove 56 lines at the top and the bottom of the spectrale images \n",
    "        stack[:,i] = bining_line(step,Bin_line)\n",
    "    save_path = '/home/crombez/Documents/PhD/python/PTND/Data/eGFP_DsRed_3D/Preprocess/'\n",
    "    #name = Run+'_Had_'+str(Nl_bin)+'_'+str(Nh)+'_'+str(Nc_bin)+'.npy'\n",
    "    name = 'T'+str(n+5)+'_'+Run+'_2023_03_14'+'_Had_'+str(Nl_bin)+'_'+str(Nh)+'_'+str(Nc_bin)+'.npy'\n",
    "    n += 1\n",
    "    np.save(save_path+name,stack)"
   ]
  },
  {
   "cell_type": "markdown",
   "id": "51d42272-bd9d-4305-b982-05f14f120673",
   "metadata": {},
   "source": [
    "### Patterns"
   ]
  },
  {
   "cell_type": "code",
   "execution_count": 14,
   "id": "8088eed7-7738-4ec9-ba93-8d33e66273a7",
   "metadata": {},
   "outputs": [
    {
     "name": "stdout",
     "output_type": "stream",
     "text": [
      "Données du dossier : /run/media/crombez/Elements/HSPIM_seb_acquisition/Post_doc/data_2023_02_28/RUN0002/\n"
     ]
    }
   ],
   "source": [
    "Dir = '/run/media/crombez/Elements/HSPIM_seb_acquisition/Post_doc/data_2023_02_28/'\n",
    "Run = 'RUN0002'\n",
    "Data_path,files = Select_data(Dir,Run)"
   ]
  },
  {
   "cell_type": "code",
   "execution_count": 15,
   "id": "2806461a-9e60-4553-8dac-1e8ea964eeb0",
   "metadata": {},
   "outputs": [
    {
     "name": "stdout",
     "output_type": "stream",
     "text": [
      "CPU times: user 8.14 s, sys: 10 s, total: 18.2 s\n",
      "Wall time: 48.5 s\n"
     ]
    }
   ],
   "source": [
    "%%time\n",
    "Nl = 2048 # number of lines of the imaging camera\n",
    "Nc = 2048 # number of columns of the imaging camera\n",
    "Nh = 128#64# #number of patterns acquired\n",
    "Bin_col = Bin_line\n",
    "data = load_data(Data_path,files,Nl,Nh,Nc)"
   ]
  },
  {
   "cell_type": "markdown",
   "id": "29f673c6-c93c-4dd5-ab50-056e702769cf",
   "metadata": {},
   "source": [
    "mean pattern around the middle of the field of view"
   ]
  },
  {
   "cell_type": "code",
   "execution_count": 16,
   "id": "502b8df6-1ef6-48b6-ad41-eb9aae73ef2e",
   "metadata": {},
   "outputs": [],
   "source": [
    "motifs = np.zeros((Nh,Nc))\n",
    "for i in range(Nh):\n",
    "    motifs[i] = np.sum(data[1000:1048,i],0)\n",
    "motifs = bining_colonne(motifs,Bin_col)\n",
    "plot_im2D(motifs)"
   ]
  },
  {
   "cell_type": "code",
   "execution_count": 17,
   "id": "e58e1b7b-7437-4a5a-822e-70a0dacd1afc",
   "metadata": {},
   "outputs": [],
   "source": [
    "save_path = '/home/crombez/Documents/PhD/python/PTND/Data/eGFP_DsRed_3D/Reconstruction/Mat_rc/'\n",
    "name = \"motifs_Hadamard_\"+str(Nh)+\"_\"+str(Nc//Bin_col)+\".npy\"\n",
    "np.save(save_path+name,motifs)"
   ]
  }
 ],
 "metadata": {
  "kernelspec": {
   "display_name": "Python 3 (ipykernel)",
   "language": "python",
   "name": "python3"
  },
  "language_info": {
   "codemirror_mode": {
    "name": "ipython",
    "version": 3
   },
   "file_extension": ".py",
   "mimetype": "text/x-python",
   "name": "python",
   "nbconvert_exporter": "python",
   "pygments_lexer": "ipython3",
   "version": "3.7.6"
  }
 },
 "nbformat": 4,
 "nbformat_minor": 5
}
