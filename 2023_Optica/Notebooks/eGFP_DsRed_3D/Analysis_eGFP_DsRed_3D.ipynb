{
 "cells": [
  {
   "cell_type": "markdown",
   "id": "0a91f465-1319-4650-ab97-c254c30d763a",
   "metadata": {},
   "source": [
    "# Analysis of the hypercube"
   ]
  },
  {
   "cell_type": "code",
   "execution_count": null,
   "id": "7421270a-21d5-40c8-9f5d-893e636a37d5",
   "metadata": {},
   "outputs": [],
   "source": [
    "#import functions\n",
    "import sys\n",
    "import glob\n",
    "import numpy as np\n",
    "import os\n",
    "\n",
    "\n",
    "#import local functions\n",
    "sys.path.append('../../fonction/') \n",
    "from data_visualisation import *\n",
    "from load_data import *\n",
    "from matrix_tools import *\n",
    "from walsh_hadamard import *\n",
    "from walsh_ordered_recon import *\n",
    "\n",
    "import pysptools as pysptools\n",
    "from pysptools import noise,abundance_maps"
   ]
  },
  {
   "cell_type": "code",
   "execution_count": null,
   "id": "25245275-cda7-488e-9538-d2b375a67b38",
   "metadata": {},
   "outputs": [],
   "source": [
    "%matplotlib \n",
    "#inline "
   ]
  },
  {
   "cell_type": "markdown",
   "id": "7f331439-fb6c-4585-959f-5b20c19249b7",
   "metadata": {},
   "source": [
    "## Load data"
   ]
  },
  {
   "cell_type": "code",
   "execution_count": null,
   "id": "0b9999eb-26c0-4e60-99a0-f3b876f6964d",
   "metadata": {},
   "outputs": [],
   "source": [
    "#%%time\n",
    "Nl = 512 # number of pixcels along the y dimensions \n",
    "Nc = 512 # number of measured Walsh_Hadmard coefficients (correpond to the h dimensions)\n",
    "Nd = 128 #\n",
    "\n",
    "load_path = '../../data/2023_03_13_2023_03_14_eGFP_DsRed_3D/Reconstruction/hyper_cube/'\n",
    "list_file = ['T1_RUN0002_2023_03_13_Had_rc_pinv_512x512x128.npy','T2_RUN0003_2023_03_13_Had_rc_pinv_512x512x128.npy','T3_RUN0004_2023_03_13_Had_rc_pinv_512x512x128.npy','T4_RUN0005_2023_03_13_Had_rc_pinv_512x512x128.npy','T5_RUN0006_2023_03_13_Had_rc_pinv_512x512x128.npy','T6_RUN0001_2023_03_14_Had_rc_pinv_512x512x128.npy','T7_RUN0002_2023_03_14_Had_rc_pinv_512x512x128.npy','T8_RUN0003_2023_03_14_Had_rc_pinv_512x512x128.npy','T9_RUN0004_2023_03_14_Had_rc_pinv_512x512x128.npy','T10_RUN0005_2023_03_14_Had_rc_pinv_512x512x128.npy','T11_RUN0006_2023_03_14_Had_rc_pinv_512x512x128.npy','T12_RUN0007_2023_03_14_Had_rc_pinv_512x512x128.npy','T13_RUN0008_2023_03_14_Had_rc_pinv_512x512x128.npy','T14_RUN0009_2023_03_14_Had_rc_pinv_512x512x128.npy','T15_RUN0010_2023_03_14_Had_rc_pinv_512x512x128.npy','T16_RUN0011_2023_03_14_Had_rc_pinv_512x512x128.npy','T17_RUN0012_2023_03_14_Had_rc_pinv_512x512x128.npy','T18_RUN0013_2023_03_14_Had_rc_pinv_512x512x128.npy','T19_RUN0014_2023_03_14_Had_rc_pinv_512x512x128.npy','T20_RUN0015_2023_03_14_Had_rc_pinv_512x512x128.npy','T21_RUN0016_2023_03_14_Had_rc_pinv_512x512x128.npy','T22_RUN0017_2023_03_14_Had_rc_pinv_512x512x128.npy','T23_RUN0018_2023_03_14_Had_rc_pinv_512x512x128.npy','T24_RUN0019_2023_03_14_Had_rc_pinv_512x512x128.npy','T25_RUN0020_2023_03_14_Had_rc_pinv_512x512x128.npy','T26_RUN0021_2023_03_14_Had_rc_pinv_512x512x128.npy']\n",
    "N_run = len(list_file)\n",
    "\n",
    "ivD_cube = np.zeros((Nl*Nc*N_run,Nd))\n",
    "i = 0\n",
    "for file_name in list_file :\n",
    "    #a = 1\n",
    "\n",
    "    rc_hyper_cube = np.load(load_path+file_name)\n",
    "    non_neg = np.where(rc_hyper_cube > 0, rc_hyper_cube, 0)\n",
    "    #data_size = Nl*Nc\n",
    "    \n",
    "    for l in range(Nl):\n",
    "        for c in range(Nc):\n",
    "            ivD_cube[i] = non_neg[l,c]\n",
    "            i += 1"
   ]
  },
  {
   "cell_type": "markdown",
   "id": "2cf28039-58b6-41bb-ac19-3f795e75e9af",
   "metadata": {},
   "source": [
    "## Load reference spectrum"
   ]
  },
  {
   "cell_type": "code",
   "execution_count": null,
   "id": "737f8ef4-633c-4897-aef1-c26e085be9bf",
   "metadata": {},
   "outputs": [],
   "source": [
    "EGFP_path = \"../../data/Reference_spectra/EGFP_fpbase_spectra_500_608.csv\"\n",
    "DsRed2_path = \"../../data/Reference_spectra/DsRed2_fpbase_spectra_500_608.csv\"\n",
    "DsRed_path = \"../../data/Reference_spectra/DsRed_fpbase_spectra_500_608.csv\"\n",
    "\n",
    "DsRed_exp_path = \"../../data/Reference_spectra/DsRed_express_fpbase_spectra_500_6088.csv\"#\n",
    "mCherry_path = \"../../data/Reference_spectra/mCherry_fpbase_spectra_550_658.csv\"\n",
    "mRFP_path =  \"../../data/Reference_spectra/mRFP1_fpbase_spectra_550_658.csv\"\n",
    "data_DsRed_exp = np.genfromtxt(DsRed_exp_path, delimiter=';',skip_header=True)#,\n",
    "data_DsRed_exp = np.genfromtxt(DsRed_exp_path, delimiter=',',skip_header=True)\n",
    "data_DsRed = np.genfromtxt(DsRed_path, delimiter=',',skip_header=True)\n",
    "data_DsRed2 = np.genfromtxt(DsRed2_path, delimiter=',',skip_header=True)\n",
    "data_mCherry = np.genfromtxt(mCherry_path, delimiter=';',skip_header=True)\n",
    "data_EGFP = np.genfromtxt(EGFP_path, delimiter=',',skip_header=True)\n",
    "data_mRFP = np.genfromtxt(mRFP_path, delimiter=';',skip_header=True)"
   ]
  },
  {
   "cell_type": "code",
   "execution_count": null,
   "id": "f6ab9c4e-ff8f-49f9-a12c-a22906e3d560",
   "metadata": {},
   "outputs": [],
   "source": [
    "L_lambda = [500+i*(108/(Nd-1)) for i in range(Nd)]"
   ]
  },
  {
   "cell_type": "code",
   "execution_count": null,
   "id": "81d97166-e792-44b2-a39d-834c63b43748",
   "metadata": {},
   "outputs": [],
   "source": [
    "L_dim = np.zeros(Nd)\n",
    "L = data_EGFP[:,1]#data_mCherry[:,1]\n",
    "for i in range(Nd):\n",
    "    val = L_lambda[i]\n",
    "    int_val = int(val)\n",
    "    if val-int_val == 0.0:\n",
    "        L_dim[i] = L[int_val-500]\n",
    "    else:\n",
    "        poid = val%1\n",
    "        L_dim[i] = (1-poid)*L[int_val-500]+poid*L[int_val-500+1]\n",
    "simple_plot_2D(L_lambda,L_dim)\n",
    "L_EGFP = L_dim"
   ]
  },
  {
   "cell_type": "code",
   "execution_count": null,
   "id": "a74e11f5-99c7-43a9-b43b-41b0b942dc7e",
   "metadata": {},
   "outputs": [],
   "source": [
    "L_dim = np.zeros(Nd)\n",
    "L = data_DsRed_exp[:,1]#\n",
    "for i in range(Nd):\n",
    "    val = L_lambda[i]\n",
    "    int_val = int(val)\n",
    "    if val-int_val == 0.0:\n",
    "        L_dim[i] = L[int_val-500]\n",
    "    else:\n",
    "        poid = val%1\n",
    "        L_dim[i] = (1-poid)*L[int_val-500]+poid*L[int_val-500+1]\n",
    "simple_plot_2D(L_lambda,L_dim)\n",
    "L_DsRed_exp = L_dim"
   ]
  },
  {
   "cell_type": "markdown",
   "id": "72a3c178-83f1-459e-a7d0-3829256d7e2c",
   "metadata": {},
   "source": [
    "#### Filtre (laser at 513 nm)"
   ]
  },
  {
   "cell_type": "code",
   "execution_count": null,
   "id": "0fd88fbd-8d8d-4f5c-8f81-798399b6bb77",
   "metadata": {},
   "outputs": [],
   "source": [
    "Filt = np.ones(Nd)\n",
    "\n",
    "Filt[40:57] = np.zeros(17)\n",
    "Filt = smooth(Filt,6)\n",
    "Filt[:4] = np.ones(4)\n",
    "Filt[128-4:] = np.ones(4)\n",
    "simple_plot_2D([i for i in range(128)],Filt)"
   ]
  },
  {
   "cell_type": "markdown",
   "id": "e8d43b82-a4ce-4e05-acc5-61f3e89c78d4",
   "metadata": {},
   "source": [
    "## Estimate auto-fluoresence"
   ]
  },
  {
   "cell_type": "code",
   "execution_count": null,
   "id": "6f839a17-8889-4f74-be97-c7f36c7f5a2f",
   "metadata": {},
   "outputs": [],
   "source": [
    "spec_fluo = np.zeros(128)\n",
    "for run in range(1,6,1):\n",
    "    mat = np.load(load_path+list_file[run])\n",
    "    for l in range(220,260,1):\n",
    "        for c in range(335,345,1):\n",
    "            spec_fluo += mat[l,c]\n",
    "\n",
    "simple_plot_2D(L_lambda,spec_fluo)"
   ]
  },
  {
   "cell_type": "markdown",
   "id": "20d3253c-027c-4201-a349-e04d0708fb5d",
   "metadata": {},
   "source": [
    "## Spectral unmixing"
   ]
  },
  {
   "cell_type": "markdown",
   "id": "b9bbf22f-40fb-48ac-913b-930eb00a3207",
   "metadata": {},
   "source": [
    "### Endmember matrix"
   ]
  },
  {
   "cell_type": "code",
   "execution_count": null,
   "id": "f36fc133-5b2f-4860-b443-10dbad285008",
   "metadata": {},
   "outputs": [],
   "source": [
    "comp = 4\n",
    "H = np.zeros((comp,Nd))\n",
    "H[0] = L_DsRed_exp*Filt#\n",
    "H[1] = L_EGFP*Filt#L_mRFP\n",
    "H[2] = spec_fluo/np.max(spec_fluo)\n",
    "H[3] = np.ones(128)*1/10\n",
    "\n",
    "U = H\n",
    "M = ivD_cube"
   ]
  },
  {
   "cell_type": "code",
   "execution_count": null,
   "id": "abfd06ec-d7f3-4f4f-9596-60f665b540b6",
   "metadata": {},
   "outputs": [],
   "source": [
    "plt.figure(1)\n",
    "L_lam = [i for i in range(128)]\n",
    "L_comp = ['DsRed2','EGFP','AF','Noise']#['DsRed2','mRFP','AF','Noise']\n",
    "plt.clf()\n",
    "plt.plot(L_lam,H[0],'r',label = L_comp[0])\n",
    "plt.plot(L_lam, H[1], 'g', label = L_comp[1])\n",
    "plt.plot(L_lam, H[2],'b', label = L_comp[2])\n",
    "plt.plot(L_lam, H[3],'c', label = L_comp[3])\n",
    "\n",
    "plt.legend()\n",
    "plt.xlabel('Wavelenght (nm)')\n",
    "plt.ylabel('Intensitiy (normalized)')\n",
    "\n",
    "plt.show()"
   ]
  },
  {
   "cell_type": "markdown",
   "id": "949d0a7e-761e-4064-bb9e-d9892474c17b",
   "metadata": {},
   "source": [
    "### Unmixing"
   ]
  },
  {
   "cell_type": "code",
   "execution_count": null,
   "id": "9dc779f4-7c8d-41e0-99d3-bcf0153de4a1",
   "metadata": {},
   "outputs": [],
   "source": [
    "%%time\n",
    "Abondance = abundance_maps.amaps.NNLS(M, U)"
   ]
  },
  {
   "cell_type": "code",
   "execution_count": null,
   "id": "21a4cb8b-1929-441a-ac2e-54a0a3fc3d72",
   "metadata": {},
   "outputs": [],
   "source": [
    "resto_4D = np.zeros((Nl,Nc,N_run,comp))\n",
    "for ncomp in range(comp):\n",
    "    i = 0 \n",
    "    for run in range(N_run):\n",
    "        for l in range(Nl):\n",
    "            for c in range(Nc):\n",
    "                resto_4D[l,c,run,ncomp] =Abondance[i,ncomp] \n",
    "                i += 1"
   ]
  },
  {
   "cell_type": "code",
   "execution_count": null,
   "id": "eaa65b71-3938-4ba0-862f-e9b9218f5d09",
   "metadata": {},
   "outputs": [],
   "source": [
    "lisrt_fluo = ['Dsred','eGFP','AF','Noise']#['Dsred','mRFP','AF']\n",
    "j = 0\n",
    "for Fluo in lisrt_fluo: \n",
    "    \n",
    "    save_path = '../../data/2023_03_13_2023_03_14_eGFP_DsRed_3D/Analyse_out/spec_unmix/'\n",
    "    save_path_im = '../../data/2023_03_13_2023_03_14_eGFP_DsRed_3D/Analyse_out/spec_unmix/'+str(Fluo)+'/'\n",
    "    \n",
    "    if not os.path.exists(save_path_im):\n",
    "        os.makedirs(save_path_im)\n",
    "        \n",
    "    np.save(save_path+'Spectre_endmember_'+str(Fluo)+'.npy',H[j])\n",
    "    for i in range(N_run):\n",
    "        #im_save = resto_4D[:,:,i,j]\n",
    "        #hdu = fits.PrimaryHDU(im_save)\n",
    "        #hdul = fits.HDUList([hdu])\n",
    "        #hdul.writeto(save_path_im+list_file[i][:-16]+\"_abond_map_\"+Fluo+\".fits\")\n",
    "        np.save(save_path_im+list_file[i][:-16]+\"_abond_map_\"+Fluo+\".npy\",resto_4D[:,:,i,j])\n",
    "    j+=1"
   ]
  },
  {
   "cell_type": "markdown",
   "id": "bf43d981-e1b7-4465-9bfb-8db7c31a8036",
   "metadata": {},
   "source": [
    "## Recalage"
   ]
  },
  {
   "cell_type": "code",
   "execution_count": null,
   "id": "a6f51e94-07d2-498a-b1d1-43f7ef14797f",
   "metadata": {},
   "outputs": [],
   "source": [
    "lisrt_fluo = ['Dsred','eGFP','AF','Noise']\n",
    "j = 0\n",
    "for Fluo in lisrt_fluo: \n",
    "    \n",
    "    save_path = '../../data/2023_03_13_2023_03_14_eGFP_DsRed_3D/Analyse_out/recalage/spec_unmix/'\n",
    "    save_path_im = '../../data/2023_03_13_2023_03_14_eGFP_DsRed_3D/Analyse_out/recalage/spec_unmix/'+str(Fluo)+'/'\n",
    "    \n",
    "    if not os.path.exists(save_path_im):\n",
    "        os.makedirs(save_path_im)\n",
    "        \n",
    "    np.save(save_path+'Spectre_endmember_'+str(Fluo)+'.npy',H[j])\n",
    "    \n",
    "    for i in range(N_run):\n",
    "        if i < 5 :\n",
    "            im_save = resto_4D[:(512-36),:(512-12),i,j]\n",
    "        elif i > 12 :\n",
    "            im_save = resto_4D[36:,12:,i,j]\n",
    "        else:\n",
    "            im_save = resto_4D[:(512-36),12:,i,j]\n",
    "        \n",
    "        #hdu = fits.PrimaryHDU(im_save)\n",
    "        #hdul = fits.HDUList([hdu])\n",
    "        #hdul.writeto(save_path_im+list_file[i][:-16]+\"_abond_map_recal_\"+Fluo+\".fits\")\n",
    "        np.save(save_path_im+list_file[i][:-16]+\"_abond_map_recal_\"+Fluo+\".npy\",im_save)\n",
    "    j+=1"
   ]
  },
  {
   "cell_type": "markdown",
   "id": "ac4ef2f5-2184-40df-bddd-3ce8aa6631a6",
   "metadata": {},
   "source": [
    "## Filter unmixing"
   ]
  },
  {
   "cell_type": "code",
   "execution_count": null,
   "id": "a0e29508-e7ae-4541-8ef4-29c457eced2b",
   "metadata": {},
   "outputs": [],
   "source": [
    "# eGFP DsRed filters\n",
    "Filt_comp = np.zeros((128,2))\n",
    "N_filt = 2\n",
    "Filt_comp[6:18,0] = np.ones(abs(12))\n",
    "Filt_comp[99:111,1] = np.ones(abs(12))"
   ]
  },
  {
   "cell_type": "code",
   "execution_count": null,
   "id": "9ec18c5f-2965-4cce-892e-41854624c50f",
   "metadata": {},
   "outputs": [],
   "source": [
    "Filt_hyper = np.dot(ivD_cube,Filt_comp)"
   ]
  },
  {
   "cell_type": "code",
   "execution_count": null,
   "id": "843749ff-bb3d-45b4-b2f3-da89fda976dc",
   "metadata": {},
   "outputs": [],
   "source": [
    "resto_4D = np.zeros((Nl,Nc,N_run,comp))\n",
    "for ncomp in range(N_filt):\n",
    "    i = 0 \n",
    "    for run in range(N_run):\n",
    "        for l in range(Nl):\n",
    "            for c in range(Nc):\n",
    "                resto_4D[l,c,run,ncomp] = Filt_hyper[i,ncomp] \n",
    "                i += 1"
   ]
  },
  {
   "cell_type": "code",
   "execution_count": null,
   "id": "d1adc949-4945-465e-b70e-4db4fd12a98b",
   "metadata": {
    "tags": []
   },
   "outputs": [],
   "source": [
    "lisrt_fluo = ['eGFP','DsRed']#['Dsred','mRFP']\n",
    "j = 0\n",
    "for Fluo in lisrt_fluo: \n",
    "    \n",
    "    save_path = '../../data/2023_03_13_2023_03_14_eGFP_DsRed_3D/Analyse_out/Filt_sep/'\n",
    "    save_path_im = '../../data/2023_03_13_2023_03_14_eGFP_DsRed_3D/Analyse_out/Filt_sep/'+str(Fluo)+'/'\n",
    "    \n",
    "    if not os.path.exists(save_path_im):\n",
    "        os.makedirs(save_path_im)\n",
    "        \n",
    "    np.save(save_path+'Spectre_Filt_'+str(Fluo)+'.npy',Filt_comp[j])    \n",
    "   \n",
    "    for i in range(N_run):\n",
    "        #im_save = resto_4D[:,:,i,j]\n",
    "        #hdu = fits.PrimaryHDU(im_save)\n",
    "        #hdul = fits.HDUList([hdu])\n",
    "        #hdul.writeto(save_path_im+\"RUN\"+str(i+4)+\"_Filt_\"+Fluo+\".fits\")\n",
    "        np.save(save_path_im+list_file[i][:-16]+\"_Filt_\"+Fluo+\".npy\",resto_4D[:,:,i,j])\n",
    "    j+=1"
   ]
  },
  {
   "cell_type": "markdown",
   "id": "c9c5031a-4ac7-43cc-bfae-546347854c6a",
   "metadata": {},
   "source": [
    "## Recalage"
   ]
  },
  {
   "cell_type": "code",
   "execution_count": null,
   "id": "bb8e8c12-b3da-451f-b617-4ee7cb98c2d4",
   "metadata": {},
   "outputs": [],
   "source": [
    "lisrt_fluo = ['eGFP','Dsred']\n",
    "j = 0\n",
    "for Fluo in lisrt_fluo: \n",
    "    \n",
    "    save_path = '../../data/2023_03_13_2023_03_14_eGFP_DsRed_3D/Analyse_out/recalage/Filt_sep/'\n",
    "    save_path_im = '../../data/2023_03_13_2023_03_14_eGFP_DsRed_3D/Analyse_out/recalage/Filt_sep/'+str(Fluo)+'/'\n",
    "    \n",
    "    if not os.path.exists(save_path_im):\n",
    "        os.makedirs(save_path_im)\n",
    "        \n",
    "    np.save(save_path+'Spectre_Filt_'+str(Fluo)+'.npy',Filt_comp[j])\n",
    "    for i in range(N_run):\n",
    "        if i < 5 :\n",
    "            im_save = resto_4D[:(512-36),:(512-12),i,j]\n",
    "        elif i > 12 :\n",
    "            im_save = resto_4D[36:,12:,i,j]\n",
    "        else:\n",
    "            im_save = resto_4D[:(512-36),12:,i,j]\n",
    "        \n",
    "        #hdu = fits.PrimaryHDU(im_save)\n",
    "        #hdul = fits.HDUList([hdu])\n",
    "        #hdul.writeto(save_path_im+list_file[i][:-16]+\"_Filt_recal_\"+Fluo+\".fits\")\n",
    "        np.save(save_path_im+list_file[i][:-16]+\"_Filt_recal_\"+Fluo+\".npy\",im_save)\n",
    "    j+=1"
   ]
  },
  {
   "cell_type": "code",
   "execution_count": null,
   "id": "030e2d3b-11e5-4266-9bf2-d2a7be726472",
   "metadata": {},
   "outputs": [],
   "source": []
  }
 ],
 "metadata": {
  "kernelspec": {
   "display_name": "Python 3 (ipykernel)",
   "language": "python",
   "name": "python3"
  },
  "language_info": {
   "codemirror_mode": {
    "name": "ipython",
    "version": 3
   },
   "file_extension": ".py",
   "mimetype": "text/x-python",
   "name": "python",
   "nbconvert_exporter": "python",
   "pygments_lexer": "ipython3",
   "version": "3.7.6"
  }
 },
 "nbformat": 4,
 "nbformat_minor": 5
}
