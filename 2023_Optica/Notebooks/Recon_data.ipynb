{
 "cells": [
  {
   "cell_type": "code",
   "execution_count": 1,
   "id": "a0542ded-d9b8-4409-bf82-6e0f23a3c76a",
   "metadata": {},
   "outputs": [],
   "source": [
    "import sys\n",
    "import numpy as np\n",
    "import scipy\n",
    "\n",
    "import matplotlib.pyplot as plt\n",
    "\n",
    "#sys.path.append('//home/crombez/Documents/PhD/python/openspyrit/spyrit/spyrit/learning/') \n",
    "from spyrit.misc.statistics import stat_mean_coef_from_model\n",
    "from spyrit.misc.metrics import *\n",
    "from spyrit.learning.nets import *\n",
    "from spyrit.learning.model_Had_1D_DCAN import compNet_1D, Pinv_reg, compNet_1D_test_product, compNet_1D_size_im, compNet_1D_size_im_f,compNet_1D_size_stat,compNet_1D_size_stat_norma\n",
    "\n",
    "sys.path.append('/home/crombez/Documents/PhD/python/MOPDC/fonction/') \n",
    "from data_visualisation import *\n",
    "from load_data import *\n",
    "from matrix_tools import *\n",
    "from walsh_hadamard import *\n",
    "from walsh_ordered_recon import *"
   ]
  },
  {
   "cell_type": "code",
   "execution_count": 2,
   "id": "d098f62c-a84b-4df4-a3e7-769759cef783",
   "metadata": {},
   "outputs": [
    {
     "name": "stdout",
     "output_type": "stream",
     "text": [
      "Using matplotlib backend: Qt5Agg\n"
     ]
    }
   ],
   "source": [
    "%matplotlib \n",
    "#inline "
   ]
  },
  {
   "cell_type": "code",
   "execution_count": 3,
   "id": "d4a2097c-da9f-4f8e-be5c-bec4b2ee0eaf",
   "metadata": {},
   "outputs": [],
   "source": [
    "path_data = \"/home/crombez/Documents/PhD/python/MOPDC/Data_save/Preposs_data/\"\n",
    "name_data = \"clean20_raw_egfp_dsded2_432x128x128.npy\"\n",
    "Nl = 432\n",
    "Nc = 512\n",
    "Nd = 512\n",
    "N_lambda = 128\n",
    "M = 128\n",
    "hyper_cube = np.load(path_data+name_data)"
   ]
  },
  {
   "cell_type": "code",
   "execution_count": 8,
   "id": "ffc4f82c-31ae-4f64-a04f-570bc1bff040",
   "metadata": {},
   "outputs": [],
   "source": [
    "Face = hyper_cube[0]\n",
    "#Face = np.where(Face<500,Face,0)\n",
    "\n",
    "plot_im2D(Face,cmap='gray')"
   ]
  },
  {
   "cell_type": "markdown",
   "id": "24a7a739-9e89-4a28-b92b-a2bce2d2514a",
   "metadata": {},
   "source": [
    "### Neural Networks parameters"
   ]
  },
  {
   "cell_type": "code",
   "execution_count": 8,
   "id": "291c09c9-7133-4b04-adbf-043f1a8253c3",
   "metadata": {},
   "outputs": [],
   "source": [
    "bs = 512#128\n",
    "data_root = '/home/crombez/Documents/PhD/python/openspyrit/Train_and_Test/Had_1D_DCAN/data/'\n",
    "alpha = 1e-1\n",
    "variant = 2\n",
    "\n",
    "Net_name = \"NETttref_imstat_comp_tranpose_N_432x512_M_128_epo_1_lr_0.001_sss_20_sdr_0.2_bs_64_reg_1e-07\"\n",
    "Net_root = '/home/crombez/Documents/PhD/python/openspyrit/Train_and_Test/Had_1D_DCAN/models/Train_from_JZ/'#'model_stl10/'\n",
    "\n",
    "device = torch.device(\"cuda:0\" if torch.cuda.is_available() else \"cpu\")"
   ]
  },
  {
   "cell_type": "markdown",
   "id": "ad8b8652-c2d3-4226-aa81-57abf3b2b200",
   "metadata": {},
   "source": [
    "### Acquisition matrix"
   ]
  },
  {
   "cell_type": "code",
   "execution_count": 5,
   "id": "14935812-52d6-442b-9384-d09755653fb5",
   "metadata": {},
   "outputs": [],
   "source": [
    "W = walsh_ordered(512)\n",
    "H_exp = W\n",
    "plot_im2D(W)"
   ]
  },
  {
   "cell_type": "markdown",
   "id": "45a1a750-abb2-4eca-b9ca-196ab1ec5711",
   "metadata": {},
   "source": [
    "### Statitic of the acquisition matrix "
   ]
  },
  {
   "cell_type": "code",
   "execution_count": 6,
   "id": "6f799a5f-071d-49fc-a464-f8225b7d91d0",
   "metadata": {},
   "outputs": [],
   "source": [
    "root = '/home/crombez/Documents/PhD/python/MOPDC/Data_save/Stat_network/'\n",
    "model = 'th'\n",
    "if model == \"th\":\n",
    "    Mean_file = \"Wth_Average_Nx{}_Nh{}.npy\".format(Nc,Nc)\n",
    "    Cov_file = \"Wth_Cov_Nx{}_Nh{}.npy\".format(Nc,Nc)\n",
    "else :\n",
    "    Mean_file = \"Wexp_Average_Nx{}_Nh{}.npy\".format(Nc,Nc)\n",
    "    Cov_file = \"Wexp_Cov_Nx{}_Nh{}.npy\".format(Nc,Nc)\n",
    "Mean = np.load(root+Mean_file)\n",
    "Cov = np.load(root+Cov_file)"
   ]
  },
  {
   "cell_type": "markdown",
   "id": "29985b77-3602-48e4-b3d5-99dde0398b8f",
   "metadata": {},
   "source": [
    "### load neural network"
   ]
  },
  {
   "cell_type": "code",
   "execution_count": 9,
   "id": "05d44f1c-e4e4-46c5-8acc-d8ac4aaded2c",
   "metadata": {},
   "outputs": [
    {
     "name": "stdout",
     "output_type": "stream",
     "text": [
      "Statistic completion\n",
      "Measurement to image domain: Transpose\n",
      "Model Loaded: /home/crombez/Documents/PhD/python/openspyrit/Train_and_Test/Had_1D_DCAN/models/Train_from_JZ/NETttref_imstat_comp_tranpose_N_432x512_M_128_epo_1_lr_0.001_sss_20_sdr_0.2_bs_64_reg_1e-07\n"
     ]
    }
   ],
   "source": [
    "mdt =np.ones((Nl,Nc))\n",
    "mdt = torch.from_numpy(H_exp)\n",
    "mdt = mdt.float()\n",
    "mdt = mdt.to(device)\n",
    "\n",
    "\n",
    "model = compNet_1D_size_stat(Nl, Nc, Nd, M, mdt, Cov, Mean, RC=2, Stat_comp=True, alpha=1)#compNet_1D_size_stat_norma(Nl,Nc,Nh,M, mdt,Cov,Mean, RC=1,Stat_comp=True,alpha = 1e-1)#compNet_1D_size_stat(Nl,Nc,Nh,M, mdt,Cov,Mean, RC=1,Stat_comp=True,alpha = 1e-1)#compNet_1D_size_im_f( Nl,Nc,Nh,M, mdt, variant,alpha)#\n",
    "model = model.float()\n",
    "\n",
    "load_net(Net_root+Net_name, model,device)\n",
    "\n",
    "\n",
    "if torch.cuda.device_count() > 1:\n",
    "    print(\"Let's use\", torch.cuda.device_count(), \"GPUs!\")\n",
    "    model = nn.DataParallel(model)\n",
    "\n",
    "model = model.to(device)"
   ]
  },
  {
   "cell_type": "markdown",
   "id": "375d47a7-9aa4-41b4-a541-15ac2526968f",
   "metadata": {},
   "source": [
    "## Direct Reconstruction"
   ]
  },
  {
   "cell_type": "code",
   "execution_count": null,
   "id": "4505f689-3560-46d7-bea3-5c6581e1d9e5",
   "metadata": {},
   "outputs": [],
   "source": [
    "rc_hyper = np.zeros((Nl,Nc,N_lambda))\n",
    "for i in range(N_lambda):\n",
    "    rc_hyper[:,:,i] = np.dot(hyper_cube[:,:,i],W[:M])/Nc"
   ]
  },
  {
   "cell_type": "code",
   "execution_count": 10,
   "id": "6b9f13bd-03da-40a6-8a7a-2ce95504f10d",
   "metadata": {},
   "outputs": [],
   "source": [
    "data = hyper_cube\n",
    "rc_hyper = np.zeros((432,512,128))\n",
    "for i in range(128):\n",
    "    raw_data = data[:,:,i]\n",
    "    (b,c,h,w) = (1,1,Nl,Nc)\n",
    "    m =np.ones((1,1,Nl,M))\n",
    "\n",
    "    m[0][0] = raw_data[:,:M]\n",
    "    m = torch.from_numpy(m)\n",
    "    m = m.float()\n",
    "    m = m.to(device)\n",
    "\n",
    "    res = model.forward_reconstruct(m,b,c,h,w).cpu().detach().numpy()\n",
    "    rc_hyper[:,:,i] = res[0][0]"
   ]
  },
  {
   "cell_type": "code",
   "execution_count": 11,
   "id": "8423dbb9-85d8-49c0-a26c-0b5b3803b1db",
   "metadata": {},
   "outputs": [],
   "source": [
    "Save_path = \"/home/crombez/Documents/PhD/python/MOPDC/Data_save/Recon_data/\"\n",
    "file_name = \"rc_clean20_egfp_dsded2_432x512x128.npy\"\n",
    "np.save(Save_path+file_name,rc_hyper)"
   ]
  },
  {
   "cell_type": "code",
   "execution_count": null,
   "id": "43dbbd1c-6225-46d6-8137-1072798efc3b",
   "metadata": {},
   "outputs": [],
   "source": [
    "stack = np.zeros((Nl,Nc))\n",
    "for i in range(128):\n",
    "    stack += rc_hyper[:,:,i]\n",
    "plot_im2D(stack,cmap='gray')"
   ]
  },
  {
   "cell_type": "code",
   "execution_count": null,
   "id": "bf083e84-5072-4ba9-89ea-a203f7b07cb7",
   "metadata": {},
   "outputs": [],
   "source": [
    "save_stack = stack"
   ]
  },
  {
   "cell_type": "code",
   "execution_count": null,
   "id": "bae11cc5-ee85-4c65-926b-b112a5fccd82",
   "metadata": {},
   "outputs": [],
   "source": [
    "plot_im2D(np.abs(stack-save_stack))"
   ]
  },
  {
   "cell_type": "code",
   "execution_count": null,
   "id": "6941f210-564e-4a91-ad57-990f22ceb411",
   "metadata": {},
   "outputs": [],
   "source": [
    "plot_im2D(save_stack,cmap='gray')"
   ]
  },
  {
   "cell_type": "code",
   "execution_count": null,
   "id": "aa7a4d9c-02a0-4d04-b3b9-ab014cb9e3c6",
   "metadata": {},
   "outputs": [],
   "source": [
    "stack = np.zeros((Nl,M))\n",
    "for i in range(128):\n",
    "    stack += hyper_cube[:,:,i]\n",
    "\n",
    "rc = np.dot(stack,W[:M])/Nc\n",
    "Min = np.min(rc)\n",
    "Max = np.max(rc)\n",
    "\n",
    "print(Min,Max)\n",
    "(b,c,h,w) = (1,1,Nl,Nc)\n",
    "m =np.ones((1,1,Nl,M))\n",
    "m[0][0] = stack[:,:M]\n",
    "m = torch.from_numpy(m)\n",
    "m = m.float()\n",
    "m = m.to(device)\n",
    "raw =  torch.matmul(m,mdt[:M])/Nc\n",
    "raw = 2*(raw-Min)/(Max-Mmin)-1\n",
    "m=  torch.matmul(raw,mdt[:,:M])\n",
    "#m =  torch.matmul(raw,mdt[:M])/Nh\n",
    "    \n",
    "\n",
    "#m = m/m.max()\n",
    "res = model.forward_maptoimage(m,b,c,h,w)\n",
    "#res = res/res.max()\n",
    "#res = res*2/res.max()-1\n",
    "#res = torch.where(res<0.4,res,torch.tensor(0.4))\n",
    "#res -= 1\n",
    "res2 = model.forward_postprocess(res,b,c,h,w)\n",
    "res = res.cpu()\n",
    "res2 = res2.cpu()\n",
    "numpy_array= res.detach().numpy()[0][0]\n",
    "numpy_array2= res2.detach().numpy()[0][0]\n",
    "\n",
    "#raw = model.forward_acquire(m,b,c,h,w)\n",
    "raw  = torch.matmul(m,mdt[:M])/Nc\n",
    "raw = raw.cpu().detach().numpy()[0][0]\n",
    "\n",
    "\n",
    "\n",
    "res = model.forward_maptoimage(m,b,c,h,w)\n",
    "res2 = model.forward_postprocess(res,b,c,h,w)\n",
    "raw  = torch.matmul(m,mdt[:M])/Nc\n",
    " \n",
    "res = res.cpu().detach().numpy()[0][0]\n",
    "res2 = res2.cpu().detach().numpy()[0][0]\n",
    "raw = raw.cpu().detach().numpy()[0][0]\n",
    "\n",
    "rc_phi = un_center_norma(res,Min,Max)#res#\n",
    "rc_phi_learn = un_center_norma(res2,Min,Max)#res2#\n",
    "rc_direct = un_center_norma(raw,Min,Max)#raw#"
   ]
  },
  {
   "cell_type": "code",
   "execution_count": null,
   "id": "53f9f5ed-8a28-4f4e-9f31-da67743b952e",
   "metadata": {},
   "outputs": [],
   "source": [
    "plot_im2D(rc_phi,cmap='gray',title='phi')\n",
    "plot_im2D(rc_phi_learn,cmap='gray',title='phi + learn')\n",
    "plot_im2D(rc_direct,title='direct',cmap='gray')\n",
    "#plot_im2D(image[180:260,305:460] ,cmap='gray',title='gt')"
   ]
  },
  {
   "cell_type": "code",
   "execution_count": null,
   "id": "8f34935d-9482-48e8-90c9-ee87a10c9768",
   "metadata": {},
   "outputs": [],
   "source": [
    "def center_norma(Mat):\n",
    "    M_max = np.max(Mat)\n",
    "    M_min = np.min(Mat)\n",
    "    M_out = Mat-M_min\n",
    "    M_out = 2*M_out/(M_max-M_min)\n",
    "    M_out = M_out-1\n",
    "    return(M_out,M_min,M_max)\n",
    "    \n",
    "def un_center_norma(Mat,M_min,M_max):\n",
    "    M_out = Mat+1\n",
    "    M_out = M_out*(M_max-M_min)/2\n",
    "    M_out = M_out + M_min\n",
    "    return(M_out)"
   ]
  },
  {
   "cell_type": "code",
   "execution_count": null,
   "id": "5a815bee-59cc-44f6-a27c-228cf35c2a0f",
   "metadata": {},
   "outputs": [],
   "source": [
    "a = -2\n",
    "\n",
    "a-a"
   ]
  },
  {
   "cell_type": "code",
   "execution_count": null,
   "id": "fb29206e-b99c-432c-a474-df4e0b8893dd",
   "metadata": {},
   "outputs": [],
   "source": [
    "mat,Mmin,Mmax = center_norma(stack)\n",
    "mat = un_center_norma(mat,Mmin,Mmax)\n",
    "plot_im2D(mat,cmap='gray')"
   ]
  },
  {
   "cell_type": "code",
   "execution_count": 3,
   "id": "3919cb99-6960-4d01-9852-d134fbb8874e",
   "metadata": {},
   "outputs": [
    {
     "name": "stdout",
     "output_type": "stream",
     "text": [
      "***** Name file : fish_avant_meusre512.fits *****\n",
      "Type de données : Counts\n",
      "Mode d'acquisition : Single Scan\n",
      "Temps d'exposition : 5.000004\n",
      "Temps de lecture : 1.785714e-09\n",
      "Longeur d'onde de Rayleigh : 422.0\n",
      "Longeur d'onde détectée : 550.0\n",
      "***********************************\n",
      "\n"
     ]
    },
    {
     "data": {
      "image/png": "[encoded data removed]",
      "text/plain": [
       "<Figure size 432x288 with 2 Axes>"
      ]
     },
     "metadata": {
      "needs_background": "light"
     },
     "output_type": "display_data"
    }
   ],
   "source": [
    "from astropy.io import fits\n",
    "path = '/run/media/crombez/Elements/HSPIM_seb_acquisition/Manip_2eme_annee/manip_07_07_2021/'#'/run/media/crombez/Elements/HSPIM_seb_acquisition/Manip_2eme_annee/manip_15_03_21/SPIM_view/'# \n",
    "file = 'fish_avant_meusre512.fits'#'fish_avant_meusre.fits'#'Poisson_2_DsRed2_apres_chspim.fits'#\n",
    "\n",
    "hdul = fits.open(path+file)\n",
    "show_images_infos(path,file)\n",
    "\n",
    "image =np.array(hdul[0].data[0])\n",
    "image = np.flipud(image)\n",
    "image = bining_colonne(image,5)\n",
    "image = bining_line(image,5)\n",
    "image = image/np.max(image)\n",
    "\n",
    "plot_im2D(image,cmap='gray')"
   ]
  },
  {
   "cell_type": "code",
   "execution_count": 4,
   "id": "c6717139-4f6b-4baf-8129-71a450de2ba8",
   "metadata": {},
   "outputs": [],
   "source": [
    "W = walsh_ordered(512)\n",
    "Wp = np.where(W > 0, W, 0)\n",
    "Wn = np.where(W < 0, np.abs(W), 0)"
   ]
  },
  {
   "cell_type": "code",
   "execution_count": null,
   "id": "31aff271-1b75-4cee-a451-4dc772df2833",
   "metadata": {},
   "outputs": [],
   "source": [
    "PEAK = 10000\n",
    "noisy = image+np.random.poisson(image / 255.0 * PEAK) / PEAK * 255\n",
    "plot_im2D(noisy)"
   ]
  },
  {
   "cell_type": "code",
   "execution_count": null,
   "id": "5e42b8b4-9626-4d09-ad2a-d75d9c5bf688",
   "metadata": {},
   "outputs": [],
   "source": [
    "plot_im2D(image-noisy)"
   ]
  },
  {
   "cell_type": "code",
   "execution_count": null,
   "id": "87765c2c-9dde-46a8-95d7-d4438c7ff42a",
   "metadata": {},
   "outputs": [],
   "source": [
    "image_coeff = np.dot(image,W)\n",
    "n = 512\n",
    "image_rc_sech = np.dot(image_coeff[:,:n],W[:n])\n",
    "plot_im2D(image_rc_sech)"
   ]
  },
  {
   "cell_type": "code",
   "execution_count": null,
   "id": "28f954c7-f675-4fa1-a181-1b7e7b54ce2c",
   "metadata": {},
   "outputs": [],
   "source": [
    "coeff_p = np.dot(image,Wp)\n",
    "coeff_n = np.dot(image,Wn)\n",
    "image_coeff = coeff_p-coeff_n\n",
    "image_coeff_noi = (np.sqrt(coeff_p)*noise_mask/np.max(noise_mask)/5)-(coeff_n+np.random.poisson(coeff_n / 255.0 * PEAK) / PEAK * 255)\n",
    "plot_im2D(np.dot(image_coeff,W)/512)\n",
    "#image_coeff_noi = image_coeff+np.random.poisson(image_coeff / 255.0 * PEAK) / PEAK * 255\n",
    "#plot_im2D(image_coeff_noi)"
   ]
  },
  {
   "cell_type": "code",
   "execution_count": null,
   "id": "3ad7501e-5f2b-42ba-9433-f9f0f445454e",
   "metadata": {},
   "outputs": [],
   "source": [
    "plot_im2D(coeff_n)"
   ]
  },
  {
   "cell_type": "code",
   "execution_count": null,
   "id": "fdfb5a0a-86db-46a4-95e3-ba90debdadc3",
   "metadata": {},
   "outputs": [],
   "source": [
    "plot_im2D(coeff_p)"
   ]
  },
  {
   "cell_type": "code",
   "execution_count": null,
   "id": "286d38a9-d28a-495c-9e07-d703cc72d228",
   "metadata": {},
   "outputs": [],
   "source": [
    "plot_im2D(image_coeff)"
   ]
  },
  {
   "cell_type": "code",
   "execution_count": null,
   "id": "4f0a98d1-05f6-4860-b9a2-c0d493f4296a",
   "metadata": {},
   "outputs": [],
   "source": [
    "plot_im2D(image_coeff_noi)"
   ]
  },
  {
   "cell_type": "code",
   "execution_count": 23,
   "id": "ad8ecaec-2018-4825-a81f-3ea08d73a8c6",
   "metadata": {},
   "outputs": [],
   "source": [
    "noise_mask = np.random.poisson(image)\n",
    "\n",
    "noisy = image + noise_mask/np.max(noise_mask)/5\n",
    "plot_im2D(noisy)"
   ]
  }
 ],
 "metadata": {
  "kernelspec": {
   "display_name": "Python 3 (ipykernel)",
   "language": "python",
   "name": "python3"
  },
  "language_info": {
   "codemirror_mode": {
    "name": "ipython",
    "version": 3
   },
   "file_extension": ".py",
   "mimetype": "text/x-python",
   "name": "python",
   "nbconvert_exporter": "python",
   "pygments_lexer": "ipython3",
   "version": "3.7.6"
  }
 },
 "nbformat": 4,
 "nbformat_minor": 5
}
