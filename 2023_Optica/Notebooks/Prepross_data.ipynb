{
 "cells": [
  {
   "cell_type": "code",
   "execution_count": 1,
   "id": "37ad6635-35a4-4265-a770-fbdd9992c92f",
   "metadata": {},
   "outputs": [],
   "source": [
    "#import functions\n",
    "import sys\n",
    "import glob\n",
    "import numpy as np\n",
    "\n",
    "\n",
    "#import local functions\n",
    "sys.path.append('/home/crombez/Documents/PhD/python/MOPDC/fonction/') \n",
    "from data_visualisation import *\n",
    "from load_data import *\n",
    "from matrix_tools import *\n",
    "from walsh_hadamard import *\n",
    "from walsh_ordered_recon import *"
   ]
  },
  {
   "cell_type": "code",
   "execution_count": 2,
   "id": "1080454b-06ef-4256-a4a6-ad374106c608",
   "metadata": {},
   "outputs": [
    {
     "name": "stdout",
     "output_type": "stream",
     "text": [
      "Using matplotlib backend: Qt5Agg\n"
     ]
    }
   ],
   "source": [
    "%matplotlib \n",
    "#inline "
   ]
  },
  {
   "cell_type": "code",
   "execution_count": 3,
   "id": "9ba1d229-93b5-4ac7-9273-73d3e9a5df38",
   "metadata": {},
   "outputs": [],
   "source": [
    "path_data = \"/home/crombez/Documents/PhD/python/MOPDC/Data_save/Raw_data/\"\n",
    "name_data = \"raw_poisson_egfp_dsded2_2160x128x2560.npy\"\n",
    "hyper_cube = np.load(path_data+name_data)\n",
    "# Hyper cube dimensions\n",
    "Nl = 2160 # number of pixcels along the y dimensions \n",
    "Nc = 128 # number of measured Walsh_Hadmard coefficients (correpond to the h dimensions)\n",
    "Nd = 2560 # number of pixcels along the spectral dimensions "
   ]
  },
  {
   "cell_type": "code",
   "execution_count": 7,
   "id": "cd018791-7221-47a2-8671-56d4fa87dab1",
   "metadata": {},
   "outputs": [],
   "source": [
    "spectre = hyper_cube[:,0]\n",
    "spectre_c = np.where(spectre < 500, spectre, 0)\n",
    "\n",
    "plot_im2D(spectre_c)"
   ]
  },
  {
   "cell_type": "markdown",
   "id": "e757a83d-29a3-4124-9835-46003157c528",
   "metadata": {},
   "source": [
    "## Resize "
   ]
  },
  {
   "cell_type": "code",
   "execution_count": 13,
   "id": "427b5322-b356-486c-a07d-461c88b95889",
   "metadata": {},
   "outputs": [],
   "source": [
    "bin_Nl = 5\n",
    "Nl = Nl//bin_Nl\n",
    "bin_Nd = 20\n",
    "Nd = Nd//bin_Nd\n",
    "\n",
    "Data_resize = np.zeros((Nl,Nc,Nd))\n",
    "for i in range(Nc):\n",
    "    Data_resize[:,i] = bining_colonne(bining_line(hyper_clean[:,i],bin_Nl),bin_Nd)#bining_colonne(bining_line(hyper_cube[:,i],bin_Nl),bin_Nd)"
   ]
  },
  {
   "cell_type": "code",
   "execution_count": 14,
   "id": "1e25383d-3e77-44f4-a435-dfda25859b3e",
   "metadata": {},
   "outputs": [],
   "source": [
    "W = walsh_ordered(512)\n",
    "stack = np.zeros((Nl,512))\n",
    "for i in range(Nd):\n",
    "    stack += np.dot(Data_resize[:,:,i],W[:Nc])\n",
    "plot_im2D(stack,cmap='gray')"
   ]
  },
  {
   "cell_type": "code",
   "execution_count": 15,
   "id": "ab0b3c0a-94e1-4a76-9c19-42f46b7f77cb",
   "metadata": {},
   "outputs": [],
   "source": [
    "Save_path = \"/home/crombez/Documents/PhD/python/MOPDC/Data_save/Preposs_data/\"\n",
    "file_name = \"clean20_raw_egfp_dsded2_432x128x128.npy\"\n",
    "np.save(Save_path+file_name,Data_resize)"
   ]
  },
  {
   "cell_type": "code",
   "execution_count": null,
   "id": "606c5896-0633-4045-81d9-69750e9be744",
   "metadata": {},
   "outputs": [],
   "source": [
    "test = hyper_cube[:,0]\n",
    "test = np.where(test<500,test,0)\n",
    "test = np.where(test>0,test,0)\n",
    "plot_im2D(test)"
   ]
  },
  {
   "cell_type": "code",
   "execution_count": null,
   "id": "ce0a1e22-f623-451e-ab1e-2b8fbfbd4d64",
   "metadata": {},
   "outputs": [],
   "source": [
    "from skimage.restoration import (denoise_tv_chambolle, denoise_bilateral, denoise_wavelet, estimate_sigma,denoise_tv_bregman)"
   ]
  },
  {
   "cell_type": "code",
   "execution_count": null,
   "id": "0190fa3a-575e-4c0f-9f7d-83330482af88",
   "metadata": {},
   "outputs": [],
   "source": [
    "testo =  denoise_tv_chambolle(test, weight=100)\n",
    "plot_im2D(testo,title='TV')"
   ]
  },
  {
   "cell_type": "code",
   "execution_count": null,
   "id": "9f29fbef-cc34-40a0-b136-9a6be4151b81",
   "metadata": {},
   "outputs": [],
   "source": [
    "testodo = np.zeros((Nl,Nd)) \n",
    "for i in range(Nl):\n",
    "    testodo[i] = denoise_tv_chambolle(test[i], weight=400)#denoise_tv_bregman(test[i],weight=100)\n",
    "plot_im2D(testodo,title='TV')"
   ]
  },
  {
   "cell_type": "code",
   "execution_count": null,
   "id": "d294ce5e-ffc0-4310-869e-67a16946d2dc",
   "metadata": {},
   "outputs": [],
   "source": [
    "plot_im2D(bining_colonne(test,8))"
   ]
  },
  {
   "cell_type": "markdown",
   "id": "87db18ea-9766-42a6-9f04-9b9c64ebc88f",
   "metadata": {},
   "source": [
    "## test"
   ]
  },
  {
   "cell_type": "code",
   "execution_count": 9,
   "id": "42c26518-65ca-406b-ac44-2ce44b30f290",
   "metadata": {},
   "outputs": [
    {
     "name": "stdout",
     "output_type": "stream",
     "text": [
      "CPU times: user 20.8 s, sys: 18.3 ms, total: 20.9 s\n",
      "Wall time: 20.9 s\n"
     ]
    }
   ],
   "source": [
    "%%time\n",
    "noisy = hyper_cube[:,0]#test\n",
    "\n",
    "tessi =  im_med = ndimage.median_filter(noisy, 20)\n",
    "plot_im2D(tessi)"
   ]
  },
  {
   "cell_type": "code",
   "execution_count": null,
   "id": "1980d79d-03fa-4e61-8375-b9be352ffdb8",
   "metadata": {},
   "outputs": [],
   "source": [
    "plot_im2D(tessi)"
   ]
  },
  {
   "cell_type": "code",
   "execution_count": 10,
   "id": "a5ac6a4b-25db-4b5a-a9da-e61b243c1e5d",
   "metadata": {},
   "outputs": [
    {
     "data": {
      "text/plain": [
       "44.8"
      ]
     },
     "execution_count": 10,
     "metadata": {},
     "output_type": "execute_result"
    }
   ],
   "source": [
    "128*21/60"
   ]
  },
  {
   "cell_type": "code",
   "execution_count": null,
   "id": "2480f118-fa51-43ee-a775-20a889d2c8fb",
   "metadata": {},
   "outputs": [],
   "source": []
  },
  {
   "cell_type": "code",
   "execution_count": 4,
   "id": "47df26ae-498e-4cec-b0fa-b676eb01ed47",
   "metadata": {},
   "outputs": [],
   "source": [
    "\n",
    "from scipy import ndimage\n"
   ]
  },
  {
   "cell_type": "code",
   "execution_count": 11,
   "id": "346c609a-1e38-4c7d-b19f-4e303b1626c9",
   "metadata": {},
   "outputs": [
    {
     "name": "stdout",
     "output_type": "stream",
     "text": [
      "CPU times: user 43min 46s, sys: 3.45 s, total: 43min 50s\n",
      "Wall time: 43min 54s\n"
     ]
    }
   ],
   "source": [
    "%%time\n",
    "hyper_clean = np.zeros((Nl,Nc,Nd))\n",
    "for i in range(Nc):\n",
    "    hyper_clean[:,i] = ndimage.median_filter(hyper_cube[:,i], 20) "
   ]
  },
  {
   "cell_type": "code",
   "execution_count": 12,
   "id": "e107dd05-870c-4f1a-ad7f-3e8b623752d7",
   "metadata": {},
   "outputs": [],
   "source": [
    "W = walsh_ordered(2048)\n",
    "rc_stack = np.zeros((Nl,2048))\n",
    "#rc_hyper = np.zeros((Nl,2048,Nd))\n",
    "for i in range(Nd):\n",
    "    #rc_hyper[:,:,i] = \n",
    "    rc_stack += np.dot(hyper_clean[:,:,i],W[:128])#rc_hyper[:,:,i]\n",
    "    \n",
    "plot_im2D(rc_stack)"
   ]
  },
  {
   "cell_type": "code",
   "execution_count": null,
   "id": "3d8a15e3-c9ae-4e50-baec-e627a5030ac2",
   "metadata": {},
   "outputs": [],
   "source": [
    "W = walsh_ordered(2048)\n",
    "rc_stack = np.zeros((Nl,2048))\n",
    "#rc_hyper = np.zeros((Nl,2048,Nd))\n",
    "for i in range(Nd):\n",
    "    #rc_hyper[:,:,i] = \n",
    "    rc_stack += np.dot(hyper_cube[:,:,i],W[:128])#rc_hyper[:,:,i]\n",
    "    \n",
    "plot_im2D(rc_stack)"
   ]
  },
  {
   "cell_type": "code",
   "execution_count": null,
   "id": "080227a9-02e1-4bfa-999b-b408a38ab5e0",
   "metadata": {},
   "outputs": [],
   "source": [
    "plot_im2D(rc_stack)"
   ]
  },
  {
   "cell_type": "code",
   "execution_count": null,
   "id": "6ac23051-d1bf-43f3-b4ad-7778bf1b13e1",
   "metadata": {},
   "outputs": [],
   "source": []
  }
 ],
 "metadata": {
  "kernelspec": {
   "display_name": "Python 3 (ipykernel)",
   "language": "python",
   "name": "python3"
  },
  "language_info": {
   "codemirror_mode": {
    "name": "ipython",
    "version": 3
   },
   "file_extension": ".py",
   "mimetype": "text/x-python",
   "name": "python",
   "nbconvert_exporter": "python",
   "pygments_lexer": "ipython3",
   "version": "3.7.6"
  }
 },
 "nbformat": 4,
 "nbformat_minor": 5
}
