{
 "cells": [
  {
   "cell_type": "code",
   "execution_count": null,
   "id": "7f0c2eab-970c-4cc2-be60-2a0065801e43",
   "metadata": {},
   "outputs": [],
   "source": [
    "#import functions\n",
    "import sys\n",
    "import glob\n",
    "import numpy as np\n",
    "import os\n",
    "from PIL import Image\n",
    "\n",
    "\n",
    "#import local functions\n",
    "sys.path.append('../../fonction/') \n",
    "from data_visualisation import *\n",
    "from load_data import *\n",
    "from matrix_tools import *\n",
    "from walsh_hadamard import *\n",
    "from walsh_ordered_recon import *"
   ]
  },
  {
   "cell_type": "code",
   "execution_count": null,
   "id": "4ce0196a-e828-4f4d-b0e6-effff317e0db",
   "metadata": {},
   "outputs": [],
   "source": [
    "%matplotlib \n",
    "#inline "
   ]
  },
  {
   "cell_type": "markdown",
   "id": "772c2171-e1de-4d1f-a280-e44d3269a8c9",
   "metadata": {},
   "source": [
    "## Load abondonce map"
   ]
  },
  {
   "cell_type": "code",
   "execution_count": null,
   "id": "aff70dbe-4f9e-45c8-846e-9d3d9d59d018",
   "metadata": {},
   "outputs": [],
   "source": [
    "list_fluo = ['Dsred','mRFP']\n",
    "list_run = ['RUN0004','RUN0005','RUN0006','RUN0007','RUN0008','RUN0009','RUN0010','RUN0011','RUN0012','RUN0013','RUN0014','RUN0015','RUN0016','RUN0017','RUN0018','RUN0019','RUN0020','RUN0021','RUN0022','RUN0023','RUN0024']\n",
    "N_run = len(list_run)\n",
    "Nl = 512\n",
    "Nc = 512\n",
    "N_chan = 3\n",
    "\n",
    "Images = np.zeros((Nl,Nc,N_chan,N_run))\n",
    "\n",
    "j = 1\n",
    "for Fluo in list_fluo: \n",
    "    load_path_im = '../../data/2023_02_28_mRFP_DsRed_3D/Analyse_out/spec_unmix/'+str(Fluo)+'/'\n",
    "    \n",
    "\n",
    "    for i in range(N_run):\n",
    " \n",
    "        Images[:,:,j,i] = np.load(load_path_im+list_run[i]+\"_abond_map_\"+Fluo+\".npy\")\n",
    "        Images[:,:,j,i] = np.rot90(np.rot90(Images[:,:,j,i]/np.max( Images[:,:,j,i]),-1),-1)\n",
    "        #im_save = resto_4D[:,:,i,j]\n",
    "        #hdu = fits.PrimaryHDU(im_save)\n",
    "        #hdul = fits.HDUList([hdu])\n",
    "        #hdul.writeto(save_path_im+\"RUN_\"+str(i+4)+\"_abond_map_\"+Fluo+\".fits\")\n",
    "    j+=-1\n"
   ]
  },
  {
   "cell_type": "code",
   "execution_count": null,
   "id": "ba7db98d-14b5-42c5-bba0-3753cbd39a88",
   "metadata": {},
   "outputs": [],
   "source": [
    "save_path = \"../../data/2023_02_28_mRFP_DsRed_3D/Fig_images/spec_unmix/\"\n",
    "for i in range(N_run):\n",
    "    plt.imsave(save_path+list_run[i]+\"_composit_CHgreen_Dsred_CHred_mRFP.png\",Images[:,:,:,i])\n"
   ]
  },
  {
   "cell_type": "code",
   "execution_count": null,
   "id": "a0afe1c2-e80c-4c2a-a1de-053e3170c090",
   "metadata": {},
   "outputs": [],
   "source": [
    "Images_log = np.zeros(np.shape(Images))\n",
    "for i in range(N_run):\n",
    "    Images_log[:,:,:,i] = np.log(Images[:,:,:,i]*8+1)\n",
    "    Images_log[:,:,:,i] = Images_log[:,:,:,i]/np.max(Images_log[:,:,:,i])\n",
    "    #print(,np.min(Images_log[:,:,:,i]))"
   ]
  },
  {
   "cell_type": "code",
   "execution_count": null,
   "id": "b17ac8d2-b9d5-4132-92af-605a43446c05",
   "metadata": {},
   "outputs": [],
   "source": [
    "save_path = \"../../data/2023_02_28_mRFP_DsRed_3D/Fig_images/spec_unmix/log/\"\n",
    "for i in range(N_run):\n",
    "    plt.imsave(save_path+list_run[i]+\"_composit_log_CHgreen_Dsred_CHred_mRFP.png\",Images_log[:,:,:,i])\n"
   ]
  },
  {
   "cell_type": "code",
   "execution_count": null,
   "id": "00974ad4-613b-4be8-b6fb-fc22b557b256",
   "metadata": {},
   "outputs": [],
   "source": []
  },
  {
   "cell_type": "markdown",
   "id": "fa122639-2b1b-41ca-9dce-3a0378327d2d",
   "metadata": {},
   "source": [
    "## Load filt map"
   ]
  },
  {
   "cell_type": "code",
   "execution_count": null,
   "id": "4cb7cdd1-bc57-44ff-b2d4-6785fd96720f",
   "metadata": {},
   "outputs": [],
   "source": [
    "\n",
    "lisrt_fluo = ['Dsred','mRFP']\n",
    "\n",
    "N_run = len(list_run)\n",
    "Nl = 512\n",
    "Nc = 512\n",
    "N_chan = 3\n",
    "\n",
    "Images = np.zeros((Nl,Nc,N_chan,N_run))\n",
    "\n",
    "j = 1\n",
    "for Fluo in lisrt_fluo: \n",
    "\n",
    "    \n",
    "    \n",
    "    load_path_im = '../../data/2023_02_28_mRFP_DsRed_3D/Analyse_out/Filt_sep/'+str(Fluo)+'/'\n",
    "\n",
    "    for i in range(N_run):\n",
    "        \n",
    "        Images[:,:,j,i] = np.load(load_path_im+\"RUN\"+str(i+4)+\"_Filt_\"+Fluo+\".npy\")\n",
    "        Images[:,:,j,i] = np.rot90(np.rot90(Images[:,:,j,i]/np.max( Images[:,:,j,i]),-1),-1)\n",
    "        \n",
    "    j+=-1"
   ]
  },
  {
   "cell_type": "code",
   "execution_count": null,
   "id": "3c8e2332-7465-4a40-880b-b5b8aaabeb8f",
   "metadata": {},
   "outputs": [],
   "source": [
    "save_path = \"../../data/2023_02_28_mRFP_DsRed_3D/Fig_images/Filt_sep/\"\n",
    "for i in range(N_run):\n",
    "    plt.imsave(save_path+list_run[i]+\"_composit_filt_CHgreen_Dsred_CHred_mRFP.png\",Images[:,:,:,i])\n"
   ]
  },
  {
   "cell_type": "code",
   "execution_count": null,
   "id": "f5a1b84f-43d0-4e3e-b122-d35a3dae3ef8",
   "metadata": {},
   "outputs": [],
   "source": [
    "Images_log = np.zeros(np.shape(Images))\n",
    "for i in range(N_run):\n",
    "    Images_log[:,:,:,i] = np.log(Images[:,:,:,i]*8+1)\n",
    "    Images_log[:,:,:,i] = Images_log[:,:,:,i]/np.max(Images_log[:,:,:,i])\n",
    "    #print(,np.min(Images_log[:,:,:,i]))"
   ]
  },
  {
   "cell_type": "code",
   "execution_count": null,
   "id": "491331ec-b95b-4456-a001-fbc47f39d412",
   "metadata": {},
   "outputs": [],
   "source": [
    "save_path = \"../../data/2023_02_28_mRFP_DsRed_3D/Fig_images/Filt_sep/log/\"\n",
    "for i in range(N_run):\n",
    "    plt.imsave(save_path+list_run[i]+\"_composit_filt_log_CHgreen_Dsred_CHred_mRFP.png\",Images_log[:,:,:,i])\n"
   ]
  }
 ],
 "metadata": {
  "kernelspec": {
   "display_name": "Python 3 (ipykernel)",
   "language": "python",
   "name": "python3"
  },
  "language_info": {
   "codemirror_mode": {
    "name": "ipython",
    "version": 3
   },
   "file_extension": ".py",
   "mimetype": "text/x-python",
   "name": "python",
   "nbconvert_exporter": "python",
   "pygments_lexer": "ipython3",
   "version": "3.7.6"
  }
 },
 "nbformat": 4,
 "nbformat_minor": 5
}
