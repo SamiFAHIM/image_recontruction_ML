{
 "cells": [
  {
   "cell_type": "markdown",
   "id": "d1ea697b-610b-4f46-a446-29329ca806d9",
   "metadata": {},
   "source": [
    "# Reconstruction using inverse problem with measured patterns"
   ]
  },
  {
   "cell_type": "code",
   "execution_count": 1,
   "id": "062f0331-7944-45c2-8529-8162ad48eae9",
   "metadata": {},
   "outputs": [],
   "source": [
    "import sys\n",
    "import numpy as np\n",
    "import scipy\n",
    "\n",
    "import matplotlib.pyplot as plt\n",
    "\n",
    "#sys.path.append('//home/crombez/Documents/PhD/python/openspyrit/spyrit/spyrit/learning/') \n",
    "from spyrit.misc.statistics import stat_mean_coef_from_model\n",
    "from spyrit.misc.metrics import *\n",
    "from spyrit.learning.nets import *\n",
    "from spyrit.learning.model_Had_1D_DCAN import compNet_1D, Pinv_reg, compNet_1D_test_product, compNet_1D_size_im, compNet_1D_size_im_f,compNet_1D_size_stat,compNet_1D_size_stat_norma\n",
    "\n",
    "sys.path.append('/home/crombez/Documents/PhD/python/MOPDC/fonction/') \n",
    "from data_visualisation import *\n",
    "from load_data import *\n",
    "from matrix_tools import *\n",
    "from walsh_hadamard import *\n",
    "from walsh_ordered_recon import *"
   ]
  },
  {
   "cell_type": "code",
   "execution_count": 2,
   "id": "6ed04db0-2ad9-44ce-8782-bdb89f46c6db",
   "metadata": {},
   "outputs": [
    {
     "name": "stdout",
     "output_type": "stream",
     "text": [
      "Using matplotlib backend: Qt5Agg\n"
     ]
    }
   ],
   "source": [
    "%matplotlib \n",
    "#inline "
   ]
  },
  {
   "cell_type": "markdown",
   "id": "2456f883-b230-4add-a8db-4cc4f606d11d",
   "metadata": {},
   "source": [
    "## Reconstruction parameters"
   ]
  },
  {
   "cell_type": "code",
   "execution_count": 3,
   "id": "42d1d8ab-6515-41eb-90fb-48043a1108f6",
   "metadata": {},
   "outputs": [],
   "source": [
    "Nl = 512#256#\n",
    "Nc = 512#256#\n",
    "Nlamb = 128\n",
    "Nh = 128#64#"
   ]
  },
  {
   "cell_type": "markdown",
   "id": "7d314289-086c-4327-b244-aef2b42089d5",
   "metadata": {},
   "source": [
    "## Hadamard"
   ]
  },
  {
   "cell_type": "markdown",
   "id": "505cb860-b10c-4673-b65a-551a30c844e7",
   "metadata": {},
   "source": [
    "### Load patterns"
   ]
  },
  {
   "cell_type": "code",
   "execution_count": 4,
   "id": "74a723b5-eadf-4da4-a05a-4c4a5a8cf48d",
   "metadata": {},
   "outputs": [],
   "source": [
    "save_path = '/home/crombez/Documents/PhD/python/PTND/Data/mRFP_DsRed_3D/Reconstruction/Mat_rc/'\n",
    "name = 'motifs_Hadamard_'+str(Nh)+'_'+str(Nc)+'.npy'\n",
    "motifs = np.load(save_path+name)\n",
    "plot_im2D(motifs)"
   ]
  },
  {
   "cell_type": "markdown",
   "id": "310228f1-e462-48c6-9269-1a1c6ee68f25",
   "metadata": {},
   "source": [
    "### Reconstruction"
   ]
  },
  {
   "cell_type": "code",
   "execution_count": 6,
   "id": "21a5c37c-1d35-464d-b6d7-bc3858aae3ea",
   "metadata": {},
   "outputs": [],
   "source": [
    "Pinv = np.linalg.pinv(np.transpose(motifs/np.max(motifs)))"
   ]
  },
  {
   "cell_type": "code",
   "execution_count": 7,
   "id": "b214ca05-0f0f-41fa-afe1-49704c00a020",
   "metadata": {},
   "outputs": [],
   "source": [
    "load_path = '/home/crombez/Documents/PhD/python/PTND/Data/mRFP_DsRed_3D/Preprocess/'\n",
    "list_run = ['RUN0004','RUN0005','RUN0006','RUN0007','RUN0008','RUN0009','RUN0010','RUN0011','RUN0012','RUN0013','RUN0014','RUN0015','RUN0016','RUN0017','RUN0018','RUN0019','RUN0020','RUN0021','RUN0022','RUN0023','RUN0024']\n",
    "\n",
    "\n",
    "\n",
    "for run in list_run:\n",
    "\n",
    "    name = run+'_Had_'+str(Nl)+'_'+str(Nh)+'_'+str(Nlamb)+'.npy'#'_432_128_128.npy'\n",
    "    hyper_cube = np.load(load_path+name)\n",
    "    rc_pinv = np.zeros((Nl,Nc,Nlamb))\n",
    "    \n",
    "    for i in range(Nlamb):\n",
    "        rc_pinv[:,:,i] = np.dot(hyper_cube[:,:,i],Pinv)\n",
    "        \n",
    "    Save_path = '/home/crombez/Documents/PhD/python/PTND/Data/mRFP_DsRed_3D/Reconstruction/hyper_cube/'\n",
    "    file_name = run+'_rc_pinv_'+str(Nl)+'x'+str(Nc)+'x'+str(Nlamb)+'.npy'\n",
    "    np.save(Save_path+file_name,rc_pinv)"
   ]
  },
  {
   "cell_type": "code",
   "execution_count": null,
   "id": "225e4e3e-9505-480d-a97c-d79732318397",
   "metadata": {},
   "outputs": [],
   "source": [
    "stack = np.zeros((Nl,Nc,))\n",
    "for i in range(Nlamb):\n",
    "    stack += rc_pinv[:,:,i]\n",
    "plot_im2D(stack)"
   ]
  },
  {
   "cell_type": "markdown",
   "id": "6e0bdf56-2224-4844-837f-38f2b1f417df",
   "metadata": {},
   "source": [
    "## Save lambda stack"
   ]
  },
  {
   "cell_type": "code",
   "execution_count": null,
   "id": "5e7e6e0c-134d-4d16-bdea-7afa82fd64ca",
   "metadata": {},
   "outputs": [],
   "source": [
    "\n",
    "Save_path = '/home/crombez/Documents/PhD/python/PTND/Data/mRFP_DsRed_3D/Reconstruction/hyper_cube/'\n",
    "stack = np.zeros((Nl,Nc))\n",
    "run = 'RUN0006'\n",
    "rc_pinv = np.load(Save_path+run+'_rc_pinv_'+str(Nl)+'x'+str(Nc)+'x'+str(Nlamb)+'.npy')\n",
    "for i in range(Nlamb):\n",
    "    stack += rc_pinv[:,:,i]\n",
    "plot_im2D(stack)"
   ]
  },
  {
   "cell_type": "code",
   "execution_count": null,
   "id": "8b099157-d543-42a6-a309-c5c2fb3ae6e3",
   "metadata": {},
   "outputs": [],
   "source": [
    "\n",
    "save_path_stack = '/home/crombez/Documents/PhD/python/PTND/Data/mRFP_DsRed_can_vs_had/Analyse_out/stack/'\n",
    "\n",
    "if not os.path.exists(save_path_stack):\n",
    "    os.makedirs(save_path_stack)\n",
    "file_name = run+'_rc_pinv_lambda_stack_'+str(Nl)+'x'+str(Nc)+'.npy'\n",
    "np.save(save_path_stack+file_name,stack)"
   ]
  },
  {
   "cell_type": "code",
   "execution_count": null,
   "id": "f82efaa9-73ba-4297-9ba5-e808af1f444b",
   "metadata": {},
   "outputs": [],
   "source": []
  }
 ],
 "metadata": {
  "kernelspec": {
   "display_name": "Python 3 (ipykernel)",
   "language": "python",
   "name": "python3"
  },
  "language_info": {
   "codemirror_mode": {
    "name": "ipython",
    "version": 3
   },
   "file_extension": ".py",
   "mimetype": "text/x-python",
   "name": "python",
   "nbconvert_exporter": "python",
   "pygments_lexer": "ipython3",
   "version": "3.7.6"
  }
 },
 "nbformat": 4,
 "nbformat_minor": 5
}
