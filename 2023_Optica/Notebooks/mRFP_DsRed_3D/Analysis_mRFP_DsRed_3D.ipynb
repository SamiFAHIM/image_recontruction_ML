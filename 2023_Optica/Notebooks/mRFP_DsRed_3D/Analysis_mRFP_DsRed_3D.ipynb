{
 "cells": [
  {
   "cell_type": "markdown",
   "id": "0a91f465-1319-4650-ab97-c254c30d763a",
   "metadata": {},
   "source": [
    "# Analysis od the hypercube"
   ]
  },
  {
   "cell_type": "code",
   "execution_count": null,
   "id": "7421270a-21d5-40c8-9f5d-893e636a37d5",
   "metadata": {},
   "outputs": [],
   "source": [
    "#import functions\n",
    "import sys\n",
    "import glob\n",
    "import numpy as np\n",
    "import os\n",
    "\n",
    "\n",
    "#import local functions\n",
    "sys.path.append('../../fonction/') \n",
    "from data_visualisation import *\n",
    "from load_data import *\n",
    "from matrix_tools import *\n",
    "from walsh_hadamard import *\n",
    "from walsh_ordered_recon import *\n",
    "\n",
    "import pysptools as pysptools\n",
    "from pysptools import noise,abundance_maps"
   ]
  },
  {
   "cell_type": "code",
   "execution_count": null,
   "id": "25245275-cda7-488e-9538-d2b375a67b38",
   "metadata": {},
   "outputs": [],
   "source": [
    "%matplotlib \n",
    "#inline "
   ]
  },
  {
   "cell_type": "markdown",
   "id": "7f331439-fb6c-4585-959f-5b20c19249b7",
   "metadata": {},
   "source": [
    "## Load data"
   ]
  },
  {
   "cell_type": "code",
   "execution_count": null,
   "id": "684b7a05-2c0d-46bd-b897-6df313279099",
   "metadata": {},
   "outputs": [],
   "source": [
    "%%time\n",
    "Nl = 512 # number of pixcels along the y dimensions \n",
    "Nc = 512 # number of measured Walsh_Hadmard coefficients (correpond to the h dimensions)\n",
    "Nd = 128 #\n",
    "\n",
    "load_path = '../../data/2023_02_28_mRFP_DsRed_3D/Reconstruction/hyper_cube/'\n",
    "list_run = ['RUN0004','RUN0005','RUN0006','RUN0007','RUN0008','RUN0009','RUN0010','RUN0011','RUN0012','RUN0013','RUN0014','RUN0015','RUN0016','RUN0017','RUN0018','RUN0019','RUN0020','RUN0021','RUN0022','RUN0023','RUN0024']\n",
    "N_run = len(list_run)\n",
    "ivD_cube = np.zeros((Nl*Nc*N_run,Nd))\n",
    "i = 0\n",
    "for run in list_run :\n",
    "    #a = 1\n",
    "    file_name = run+\"_rc_pinv_\"+str(Nl)+\"x\"+str(Nc)+\"x\"+str(Nd)+\".npy\"\n",
    "    rc_hyper_cube = np.load(load_path+file_name)\n",
    "    non_neg = np.where(rc_hyper_cube > 0, rc_hyper_cube, 0)\n",
    "    #data_size = Nl*Nc\n",
    "    \n",
    "    for l in range(Nl):\n",
    "        for c in range(Nc):\n",
    "            ivD_cube[i] = non_neg[l,c]\n",
    "            i += 1"
   ]
  },
  {
   "cell_type": "markdown",
   "id": "2cf28039-58b6-41bb-ac19-3f795e75e9af",
   "metadata": {},
   "source": [
    "## Load reference spectrum"
   ]
  },
  {
   "cell_type": "code",
   "execution_count": null,
   "id": "737f8ef4-633c-4897-aef1-c26e085be9bf",
   "metadata": {},
   "outputs": [],
   "source": [
    "EGFP_path = \"../../data/Reference_spectra//EGFP_fpbase_spectra_500_608.csv\"\n",
    "DsRed2_path = \"../../data/Reference_spectra/DsRed2_fpbase_spectra_500_608.csv\"\n",
    "DsRed_path = \"../../data/Reference_spectra//DsRed_fpbase_spectra_500_608.csv\"\n",
    "DsRed_exp_path = \"../../data/Reference_spectra//DsRed_express_fpbase_spectra_550_658.csv\" \n",
    "mCherry_path = \"../../data/Reference_spectra//mCherry_fpbase_spectra_550_658.csv\"\n",
    "mRFP_path =  \"../../data/Reference_spectra//mRFP1_fpbase_spectra_550_658.csv\"\n",
    "\n",
    "data_DsRed_exp = np.genfromtxt(DsRed_exp_path, delimiter=';',skip_header=True)#,\n",
    "data_DsRed = np.genfromtxt(DsRed_path, delimiter=',',skip_header=True)\n",
    "data_DsRed2 = np.genfromtxt(DsRed2_path, delimiter=',',skip_header=True)\n",
    "data_mCherry = np.genfromtxt(mCherry_path, delimiter=';',skip_header=True)\n",
    "data_EGFP = np.genfromtxt(EGFP_path, delimiter=',',skip_header=True)\n",
    "data_mRFP = np.genfromtxt(mRFP_path, delimiter=';',skip_header=True)"
   ]
  },
  {
   "cell_type": "code",
   "execution_count": null,
   "id": "f6ab9c4e-ff8f-49f9-a12c-a22906e3d560",
   "metadata": {},
   "outputs": [],
   "source": [
    "L_lambda = [550+i*(108/(Nd-1)) for i in range(Nd)]"
   ]
  },
  {
   "cell_type": "code",
   "execution_count": null,
   "id": "1bddeb3f-780e-40d4-8f65-b3b27c98a0e0",
   "metadata": {},
   "outputs": [],
   "source": [
    "L_dim = np.zeros(Nd)\n",
    "L = data_mRFP[:,1]#data_mCherry[:,1]\n",
    "for i in range(Nd):\n",
    "    val = L_lambda[i]\n",
    "    int_val = int(val)\n",
    "    if val-int_val == 0.0:\n",
    "        L_dim[i] = L[int_val-550]\n",
    "    else:\n",
    "        poid = val%1\n",
    "        L_dim[i] = (1-poid)*L[int_val-550]+poid*L[int_val-550+1]\n",
    "simple_plot_2D(L_lambda,L_dim)\n",
    "L_mRFP = L_dim"
   ]
  },
  {
   "cell_type": "code",
   "execution_count": null,
   "id": "a74e11f5-99c7-43a9-b43b-41b0b942dc7e",
   "metadata": {},
   "outputs": [],
   "source": [
    "L_dim = np.zeros(Nd)\n",
    "L = data_DsRed_exp[:,1]#\n",
    "for i in range(Nd):\n",
    "    val = L_lambda[i]\n",
    "    int_val = int(val)\n",
    "    if val-int_val == 0.0:\n",
    "        L_dim[i] = L[int_val-550]\n",
    "    else:\n",
    "        poid = val%1\n",
    "        L_dim[i] = (1-poid)*L[int_val-550]+poid*L[int_val-550+1]\n",
    "        \n",
    "L_DsRed_exp = L_dim\n",
    "simple_plot_2D(L_lambda,L_dim)"
   ]
  },
  {
   "cell_type": "markdown",
   "id": "e8d43b82-a4ce-4e05-acc5-61f3e89c78d4",
   "metadata": {},
   "source": [
    "## Estimate auto-fluoresence"
   ]
  },
  {
   "cell_type": "code",
   "execution_count": null,
   "id": "42508eb3-1085-4698-8c26-70575100ab53",
   "metadata": {},
   "outputs": [],
   "source": [
    "Save_path = '../../data/2023_02_28_mRFP_DsRed_3D/Reconstruction/hyper_cube/'\n",
    "list_run = ['RUN0004','RUN0005','RUN0006']\n",
    "\n",
    "spec_fluo = np.zeros(128)\n",
    "for run in list_run:\n",
    "    file_name = run+\"_rc_pinv_\"+str(Nl)+\"x\"+str(Nc)+\"x\"+str(Nd)+\".npy\"\n",
    "    rc_hyper_cube = np.load(Save_path+file_name)\n",
    "    for l in range(235,285,1):\n",
    "        for c in range(320,345,1):\n",
    "            spec_fluo += rc_hyper_cube[l,c]\n",
    "\n",
    "simple_plot_2D(L_lambda,spec_fluo)"
   ]
  },
  {
   "cell_type": "markdown",
   "id": "20d3253c-027c-4201-a349-e04d0708fb5d",
   "metadata": {},
   "source": [
    "## Spectral unmixing"
   ]
  },
  {
   "cell_type": "markdown",
   "id": "b9bbf22f-40fb-48ac-913b-930eb00a3207",
   "metadata": {},
   "source": [
    "### Endmember matrix"
   ]
  },
  {
   "cell_type": "code",
   "execution_count": null,
   "id": "65b82da9-3691-40a5-a42a-3db9fec057c9",
   "metadata": {},
   "outputs": [],
   "source": [
    "comp = 4\n",
    "H = np.zeros((comp,Nd))\n",
    "H[0] = L_DsRed_exp\n",
    "H[1] = L_mRFP\n",
    "H[2] = spec_fluo/np.max(spec_fluo)\n",
    "H[3] = np.ones(128)*1/10\n",
    "\n",
    "U = H\n",
    "M = ivD_cube"
   ]
  },
  {
   "cell_type": "code",
   "execution_count": null,
   "id": "cf7788e2-f3fb-467a-87c3-029b2f373093",
   "metadata": {},
   "outputs": [],
   "source": [
    "plt.figure(1)\n",
    "L_comp = ['DsRed2','mRFP','AF','Noise']\n",
    "plt.clf()\n",
    "plt.plot(L_lambda,H[0],'r',label = L_comp[0])\n",
    "plt.plot(L_lambda, H[1], 'g', label = L_comp[1])\n",
    "plt.plot(L_lambda, H[2],'b', label = L_comp[2])\n",
    "plt.plot(L_lambda, H[3],'c', label = L_comp[3])\n",
    "\n",
    "plt.legend()\n",
    "plt.xlabel('Wavelenght (nm)')\n",
    "plt.ylabel('Intensitiy (normalized)')\n",
    "\n",
    "plt.show()"
   ]
  },
  {
   "cell_type": "markdown",
   "id": "949d0a7e-761e-4064-bb9e-d9892474c17b",
   "metadata": {},
   "source": [
    "### Unmixing"
   ]
  },
  {
   "cell_type": "code",
   "execution_count": null,
   "id": "9dc779f4-7c8d-41e0-99d3-bcf0153de4a1",
   "metadata": {},
   "outputs": [],
   "source": [
    "%%time\n",
    "Abondance = abundance_maps.amaps.NNLS(M, U)"
   ]
  },
  {
   "cell_type": "code",
   "execution_count": null,
   "id": "21a4cb8b-1929-441a-ac2e-54a0a3fc3d72",
   "metadata": {},
   "outputs": [],
   "source": [
    "resto_4D = np.zeros((Nl,Nc,N_run,comp))\n",
    "for ncomp in range(comp):\n",
    "    i = 0 \n",
    "    for run in range(N_run):\n",
    "        for l in range(Nl):\n",
    "            for c in range(Nc):\n",
    "                resto_4D[l,c,run,ncomp] =Abondance[i,ncomp] \n",
    "                i += 1"
   ]
  },
  {
   "cell_type": "code",
   "execution_count": null,
   "id": "eaa65b71-3938-4ba0-862f-e9b9218f5d09",
   "metadata": {},
   "outputs": [],
   "source": [
    "lisrt_fluo = ['Dsred','mRFP','AF','Noise']\n",
    "j = 0\n",
    "for Fluo in lisrt_fluo: \n",
    "    \n",
    "    save_path = '../../data/2023_02_28_mRFP_DsRed_3D/Analyse_out/spec_unmix/'\n",
    "    save_path_im = '../../data/2023_02_28_mRFP_DsRed_3D/Analyse_out/spec_unmix/'+str(Fluo)+'/'\n",
    "    list_run = ['RUN0004','RUN0005','RUN0006','RUN0007','RUN0008','RUN0009','RUN0010','RUN0011','RUN0012','RUN0013','RUN0014','RUN0015','RUN0016','RUN0017','RUN0018','RUN0019','RUN0020','RUN0021','RUN0022','RUN0023','RUN0024']\n",
    "    \n",
    "    if not os.path.exists(save_path_im):\n",
    "        os.makedirs(save_path_im)\n",
    "        \n",
    "    np.save(save_path+'Spectre_endmember_'+str(Fluo)+'.npy',H[j])\n",
    "    for i in range(N_run):\n",
    " \n",
    "        np.save(save_path_im+list_run[i]+\"_abond_map_\"+Fluo+\".npy\",resto_4D[:,:,i,j],)\n",
    "        #im_save = resto_4D[:,:,i,j]\n",
    "        #hdu = fits.PrimaryHDU(im_save)\n",
    "        #hdul = fits.HDUList([hdu])\n",
    "        #hdul.writeto(save_path_im+\"RUN_\"+str(i+4)+\"_abond_map_\"+Fluo+\".fits\")\n",
    "    j+=1"
   ]
  },
  {
   "cell_type": "markdown",
   "id": "ac4ef2f5-2184-40df-bddd-3ce8aa6631a6",
   "metadata": {},
   "source": [
    "## Filter unmixing"
   ]
  },
  {
   "cell_type": "code",
   "execution_count": null,
   "id": "173c5d85-5834-4b9a-9a0e-d8c1b2a31420",
   "metadata": {},
   "outputs": [],
   "source": [
    "# mRFP DsRed filters\n",
    "Filt = np.zeros((128,2))\n",
    "N_filt = 2\n",
    "Filt[40:52,0] = np.ones(abs(52-40))\n",
    "Filt[62:74,1] = np.ones(abs(62-74))"
   ]
  },
  {
   "cell_type": "code",
   "execution_count": null,
   "id": "9ec18c5f-2965-4cce-892e-41854624c50f",
   "metadata": {},
   "outputs": [],
   "source": [
    "Filt_hyper = np.dot(ivD_cube,Filt)"
   ]
  },
  {
   "cell_type": "code",
   "execution_count": null,
   "id": "843749ff-bb3d-45b4-b2f3-da89fda976dc",
   "metadata": {},
   "outputs": [],
   "source": [
    "resto_4D = np.zeros((Nl,Nc,N_run,comp))\n",
    "for ncomp in range(N_filt):\n",
    "    i = 0 \n",
    "    for run in range(N_run):\n",
    "        for l in range(Nl):\n",
    "            for c in range(Nc):\n",
    "                resto_4D[l,c,run,ncomp] = Filt_hyper[i,ncomp] \n",
    "                i += 1"
   ]
  },
  {
   "cell_type": "code",
   "execution_count": null,
   "id": "354c858b-e694-40d5-9e1b-74f22ca95d4d",
   "metadata": {},
   "outputs": [],
   "source": [
    "for i in range(N_run):\n",
    "    plot_im2D(resto_4D[:,:,i,1],cmap='gray',title='run '+str(i))"
   ]
  },
  {
   "cell_type": "code",
   "execution_count": null,
   "id": "d1adc949-4945-465e-b70e-4db4fd12a98b",
   "metadata": {},
   "outputs": [],
   "source": [
    "lisrt_fluo = ['Dsred','mRFP']\n",
    "j = 0\n",
    "for Fluo in lisrt_fluo: \n",
    "    \n",
    "    save_path = '../../data/2023_02_28_mRFP_DsRed_3D/Analyse_out/Filt_sep/'\n",
    "    save_path_im = '../../data/2023_02_28_mRFP_DsRed_3D/Analyse_out/Filt_sep/'+str(Fluo)+'/'\n",
    "    \n",
    "    if not os.path.exists(save_path_im):\n",
    "        os.makedirs(save_path_im)\n",
    "        \n",
    "    np.save(save_path+'Filter_'+str(Fluo)+'.npy',Filt[j])\n",
    "    for i in range(N_run):\n",
    "        #im_save = resto_4D[:,:,i,j]\n",
    "        #hdu = fits.PrimaryHDU(im_save)\n",
    "        #hdul = fits.HDUList([hdu])\n",
    "        #hdul.writeto(save_path_im+\"RUN\"+str(i+4)+\"_Filt_\"+Fluo+\".fits\")\n",
    "        np.save(save_path_im+\"RUN\"+str(i+4)+\"_Filt_\"+Fluo+\".npy\",resto_4D[:,:,i,j],)\n",
    "        \n",
    "    j+=1"
   ]
  },
  {
   "cell_type": "code",
   "execution_count": null,
   "id": "16df6719-ab23-4976-a580-340fd3b913d2",
   "metadata": {},
   "outputs": [],
   "source": []
  }
 ],
 "metadata": {
  "kernelspec": {
   "display_name": "Python 3 (ipykernel)",
   "language": "python",
   "name": "python3"
  },
  "language_info": {
   "codemirror_mode": {
    "name": "ipython",
    "version": 3
   },
   "file_extension": ".py",
   "mimetype": "text/x-python",
   "name": "python",
   "nbconvert_exporter": "python",
   "pygments_lexer": "ipython3",
   "version": "3.7.6"
  }
 },
 "nbformat": 4,
 "nbformat_minor": 5
}
