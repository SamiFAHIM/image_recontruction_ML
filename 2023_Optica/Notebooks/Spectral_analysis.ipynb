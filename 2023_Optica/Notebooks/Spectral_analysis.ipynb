{
 "cells": [
  {
   "cell_type": "code",
   "execution_count": 1,
   "id": "cb1c99bd-27f7-4306-a607-2b70a8fb9785",
   "metadata": {},
   "outputs": [],
   "source": [
    "#import functions\n",
    "import sys\n",
    "import glob\n",
    "import numpy as np\n",
    "\n",
    "\n",
    "#import local functions\n",
    "sys.path.append('/home/crombez/Documents/PhD/python/MOPDC/fonction/') \n",
    "from data_visualisation import *\n",
    "from load_data import *\n",
    "from matrix_tools import *\n",
    "from walsh_hadamard import *\n",
    "from walsh_ordered_recon import *"
   ]
  },
  {
   "cell_type": "code",
   "execution_count": 2,
   "id": "137700f3-9b01-49b3-975c-7cd6db0f77e5",
   "metadata": {},
   "outputs": [
    {
     "name": "stdout",
     "output_type": "stream",
     "text": [
      "Using matplotlib backend: Qt5Agg\n"
     ]
    }
   ],
   "source": [
    "%matplotlib \n",
    "#inline "
   ]
  },
  {
   "cell_type": "code",
   "execution_count": 3,
   "id": "fd97c523-28b5-4004-8c44-4cdfa3e3eef7",
   "metadata": {},
   "outputs": [],
   "source": [
    "path_data = \"/home/crombez/Documents/PhD/python/MOPDC/Data_save/Recon_data/\"\n",
    "name_data = \"rc_clean20_egfp_dsded2_432x512x128.npy\"\n",
    "rc_hyper_cube = np.load(path_data+name_data)\n",
    "# Hyper cube dimensions\n",
    "Nl = 432 # number of pixcels along the y dimensions \n",
    "Nc = 512 # number of measured Walsh_Hadmard coefficients (correpond to the h dimensions)\n",
    "Nd = 128 # number of pixcels along the spectral dimensions "
   ]
  },
  {
   "cell_type": "code",
   "execution_count": null,
   "id": "ef97f909-187e-45ad-acc0-bdd8f1b54b22",
   "metadata": {},
   "outputs": [],
   "source": []
  },
  {
   "cell_type": "code",
   "execution_count": 24,
   "id": "c99aea73-a765-449b-85e1-d9f8867609f6",
   "metadata": {},
   "outputs": [],
   "source": [
    "rc_hyper_cube = rc_hyper_cube[:,:,::-1]\n"
   ]
  },
  {
   "cell_type": "code",
   "execution_count": 5,
   "id": "45f227f9-d265-4c63-a751-388243dfa1fe",
   "metadata": {},
   "outputs": [],
   "source": [
    "Stack = np.zeros((Nl,Nc))\n",
    "for i in range(Nd):\n",
    "    Stack += rc_hyper_cube[:,:,i]\n",
    "plot_im2D(Stack,cmap='gray',title='Stack')"
   ]
  },
  {
   "cell_type": "code",
   "execution_count": 6,
   "id": "c9c9b9cb-a820-497d-b4ed-ce84bf63db48",
   "metadata": {},
   "outputs": [],
   "source": [
    "EGFP_path = \"/home/crombez/Documents/PhD/python/Spectral_unmix/spectrum/EGFP_fpbase_spectra_500_608.csv\"\n",
    "DsRed2_path = \"/home/crombez/Documents/PhD/python/Spectral_unmix/spectrum/DsRed2_fpbase_spectra_500_608.csv\"\n",
    "data_DsRed2 = np.genfromtxt(DsRed2_path, delimiter=',',skip_header=True)\n",
    "data_EGFP = np.genfromtxt(EGFP_path, delimiter=',',skip_header=True)"
   ]
  },
  {
   "cell_type": "code",
   "execution_count": 7,
   "id": "86b537b9-d48c-4f27-99ca-0a0d8f1f72c9",
   "metadata": {},
   "outputs": [],
   "source": [
    "L_lambda = [500+i*(108/(Nd-1)) for i in range(Nd)]"
   ]
  },
  {
   "cell_type": "code",
   "execution_count": 8,
   "id": "acce5199-651f-4bf2-b36f-c9499f295266",
   "metadata": {},
   "outputs": [],
   "source": [
    "L_dim = np.zeros(Nd)\n",
    "L = data_EGFP[:,1]#data_DsRed2[:,1]#\n",
    "for i in range(Nd):\n",
    "    val = L_lambda[i]\n",
    "    int_val = int(val)\n",
    "    if val-int_val == 0.0:\n",
    "        L_dim[i] = L[int_val-500]\n",
    "    else:\n",
    "        poid = val%1\n",
    "        L_dim[i] = (1-poid)*L[int_val-500]+poid*L[int_val-500+1]\n",
    "simple_plot_2D(L_lambda,L_dim)\n",
    "L_EGFP = L_dim"
   ]
  },
  {
   "cell_type": "code",
   "execution_count": 9,
   "id": "36df1e4c-0f77-4697-a957-273408f0bbd0",
   "metadata": {},
   "outputs": [],
   "source": [
    "L_dim = np.zeros(Nd)\n",
    "L = data_DsRed2[:,1]#\n",
    "for i in range(Nd):\n",
    "    val = L_lambda[i]\n",
    "    int_val = int(val)\n",
    "    if val-int_val == 0.0:\n",
    "        L_dim[i] = L[int_val-500]\n",
    "    else:\n",
    "        poid = val%1\n",
    "        L_dim[i] = (1-poid)*L[int_val-500]+poid*L[int_val-500+1]\n",
    "simple_plot_2D(L_lambda,L_dim)\n",
    "L_DsRed2 = L_dim"
   ]
  },
  {
   "cell_type": "code",
   "execution_count": 10,
   "id": "dba4266b-51d0-49aa-8348-eb07e8fb5865",
   "metadata": {},
   "outputs": [],
   "source": [
    "path_el_fluo = \"/home/crombez/Documents/PhD/python/Spectral_unmix/spectrum/spec_auto_fluo.npy\"\n",
    "El_fluo = np.load(path_el_fluo)\n",
    "simple_plot_2D(L_lambda,El_fluo)"
   ]
  },
  {
   "cell_type": "code",
   "execution_count": 11,
   "id": "51209b10-44aa-429e-afca-7890f9c5e5cc",
   "metadata": {},
   "outputs": [],
   "source": [
    "Filt = np.zeros(Nd)\n",
    "Filt[:21] = np.ones(21)\n",
    "Filt[57:] = np.ones(128-57)\n",
    "Filt[21:37] = [ 1*(16-i)/16 for i in range(16)]\n",
    "Filt[41:57] = [ 1*(i)/16 for i in range(16)]\n",
    "Filt = smooth(Filt,2)\n",
    "Filt[:10] = np.ones(10)\n",
    "Filt[118:] = np.ones(10)\n",
    "simple_plot_2D([i for i in range(128)],Filt)"
   ]
  },
  {
   "cell_type": "markdown",
   "id": "fbcfcaa3-d172-400f-9936-27e9bc766c85",
   "metadata": {},
   "source": [
    "# NMF"
   ]
  },
  {
   "cell_type": "code",
   "execution_count": 25,
   "id": "13b4ed03-1a82-4dc3-a0ef-adc377ade1fa",
   "metadata": {},
   "outputs": [],
   "source": [
    "non_neg = np.where(rc_hyper_cube > 0, rc_hyper_cube, 0)"
   ]
  },
  {
   "cell_type": "code",
   "execution_count": 26,
   "id": "d7b55647-8fa1-41fd-906a-ffa50f16c689",
   "metadata": {},
   "outputs": [
    {
     "name": "stdout",
     "output_type": "stream",
     "text": [
      "221184 221184\n"
     ]
    }
   ],
   "source": [
    "data = np.zeros((Nl*Nc,Nd))\n",
    "data_size = Nl*Nc\n",
    "i = 0\n",
    "for l in range(Nl):\n",
    "    for c in range(Nc):\n",
    "        data[i] = non_neg[l,c]\n",
    "        i += 1\n",
    "print(Nl*Nc,i)"
   ]
  },
  {
   "cell_type": "code",
   "execution_count": 16,
   "id": "5cc841e2-0875-4892-a9e6-6b14333c688d",
   "metadata": {},
   "outputs": [],
   "source": [
    "stack = np.zeros((Nl,Nc))\n",
    "for i in range(Nd):\n",
    "    stack += non_neg[:,:,i]\n",
    "plot_im2D(stack,cmap='gray')"
   ]
  },
  {
   "cell_type": "code",
   "execution_count": 15,
   "id": "f1881598-b7db-4201-bf3a-922bd81b0260",
   "metadata": {},
   "outputs": [],
   "source": [
    "L_st = 250#50#200#260#150#30#50#\n",
    "L_ed = 320#400#250#320#200#380#250#\n",
    "im_area = np.zeros((Nl,Nc))\n",
    "im_area[L_st:L_ed] = stack[L_st:L_ed]\n",
    "plot_im2D(im_area,cmap='gray',title='Selected area',xlabel='x',ylabel='y')"
   ]
  },
  {
   "cell_type": "code",
   "execution_count": null,
   "id": "337ee5ab-2b7a-4dc2-8ab5-4a75ef023046",
   "metadata": {},
   "outputs": [],
   "source": [
    "threch = 1800#1100#2200#1300#1800#\n",
    "im_seuil = np.where(im_area>threch,1,0)\n",
    "im_control = np.where(im_area>threch,im_area,0)\n",
    "plot_im2D(im_seuil,cmap='gray',title='Threshold image of the hyper cube stack',xlabel='x',ylabel='y')\n",
    "plot_im2D(im_control,cmap='gray',title='Control image for the tresholding',xlabel='x',ylabel='y')"
   ]
  },
  {
   "cell_type": "code",
   "execution_count": 17,
   "id": "d98ca46e-1cce-4ea4-9aa3-5876885d7493",
   "metadata": {},
   "outputs": [
    {
     "ename": "NameError",
     "evalue": "name 'im_seuil' is not defined",
     "output_type": "error",
     "traceback": [
      "\u001b[0;31m---------------------------------------------------------------------------\u001b[0m",
      "\u001b[0;31mNameError\u001b[0m                                 Traceback (most recent call last)",
      "\u001b[0;32m/tmp/ipykernel_9165/1041860083.py\u001b[0m in \u001b[0;36m<module>\u001b[0;34m\u001b[0m\n\u001b[0;32m----> 1\u001b[0;31m \u001b[0mdata_size\u001b[0m \u001b[0;34m=\u001b[0m \u001b[0mnp\u001b[0m\u001b[0;34m.\u001b[0m\u001b[0msum\u001b[0m\u001b[0;34m(\u001b[0m\u001b[0mim_seuil\u001b[0m\u001b[0;34m)\u001b[0m\u001b[0;34m\u001b[0m\u001b[0;34m\u001b[0m\u001b[0m\n\u001b[0m\u001b[1;32m      2\u001b[0m \u001b[0mdata\u001b[0m \u001b[0;34m=\u001b[0m \u001b[0mnp\u001b[0m\u001b[0;34m.\u001b[0m\u001b[0mzeros\u001b[0m\u001b[0;34m(\u001b[0m\u001b[0;34m(\u001b[0m\u001b[0mdata_size\u001b[0m\u001b[0;34m,\u001b[0m\u001b[0mNd\u001b[0m\u001b[0;34m)\u001b[0m\u001b[0;34m)\u001b[0m\u001b[0;34m\u001b[0m\u001b[0;34m\u001b[0m\u001b[0m\n\u001b[1;32m      3\u001b[0m \u001b[0mi\u001b[0m \u001b[0;34m=\u001b[0m \u001b[0;36m0\u001b[0m\u001b[0;34m\u001b[0m\u001b[0;34m\u001b[0m\u001b[0m\n\u001b[1;32m      4\u001b[0m \u001b[0;32mfor\u001b[0m \u001b[0ml\u001b[0m \u001b[0;32min\u001b[0m \u001b[0mrange\u001b[0m\u001b[0;34m(\u001b[0m\u001b[0mNl\u001b[0m\u001b[0;34m)\u001b[0m\u001b[0;34m:\u001b[0m\u001b[0;34m\u001b[0m\u001b[0;34m\u001b[0m\u001b[0m\n\u001b[1;32m      5\u001b[0m     \u001b[0;32mfor\u001b[0m \u001b[0mc\u001b[0m \u001b[0;32min\u001b[0m \u001b[0mrange\u001b[0m\u001b[0;34m(\u001b[0m\u001b[0mNc\u001b[0m\u001b[0;34m)\u001b[0m\u001b[0;34m:\u001b[0m\u001b[0;34m\u001b[0m\u001b[0;34m\u001b[0m\u001b[0m\n",
      "\u001b[0;31mNameError\u001b[0m: name 'im_seuil' is not defined"
     ]
    }
   ],
   "source": [
    "data_size = np.sum(im_seuil)\n",
    "data = np.zeros((data_size,Nd))\n",
    "i = 0\n",
    "for l in range(Nl):\n",
    "    for c in range(Nc):\n",
    "        if im_seuil[l,c] == 1:\n",
    "            data[i] = non_neg[l,c]\n",
    "            i += 1\n",
    "print(data_size,i)"
   ]
  },
  {
   "cell_type": "code",
   "execution_count": 27,
   "id": "7e4afac7-2060-4b01-830a-6148cf8794ee",
   "metadata": {},
   "outputs": [
    {
     "data": {
      "text/plain": [
       "(221184, 6)"
      ]
     },
     "execution_count": 27,
     "metadata": {},
     "output_type": "execute_result"
    }
   ],
   "source": [
    "H1 = np.zeros((6,Nd))\n",
    "H1[0] = L_DsRed2*Filt#speco/np.max(speco)#_band\n",
    "H1[1] = L_EGFP*Filt#Dsredo#(np.random.rand(128))/10#_band\n",
    "H1[2] = El_fluo#(np.random.rand(128))/10#(np.random.rand(128))/10#New_AF2/np.max(New_AF2)*0.5#(np.random.rand(128))/10#(np.random.rand(128))/10#_band\n",
    "H1[3] = (np.random.rand(128))/10#(np.random.rand(128))/10#(np.random.rand(128))/10#El_fluo#(np.random.rand(128))/10#Test4##fluo#*(1/0.7)#noise#\n",
    "H1[4] = (np.random.rand(128))/10#\n",
    "H1[5] = (np.random.rand(128))/10#\n",
    "W1 = np.dot(data,np.transpose(H1))\n",
    "np.shape(W1)"
   ]
  },
  {
   "cell_type": "code",
   "execution_count": null,
   "id": "e9a848b5-352f-4b68-be19-72c45e144bc1",
   "metadata": {},
   "outputs": [],
   "source": [
    "H1 = np.zeros((7,Nd))\n",
    "H1[0] = Htop[0]#L_DsRed2*Filt#speco/np.max(speco)#_band\n",
    "H1[1] = Htop[1]#L_EGFP*Filt#Dsredo#(np.random.rand(128))/10#_band\n",
    "H1[2] = Htop[2]#El_fluo#(np.random.rand(128))/10#(np.random.rand(128))/10#New_AF2/np.max(New_AF2)*0.5#(np.random.rand(128))/10#(np.random.rand(128))/10#_band\n",
    "H1[3] = Htop[3]#(np.random.rand(128))/10#(np.random.rand(128))/10#(np.random.rand(128))/10#El_fluo#(np.random.rand(128))/10#Test4##fluo#*(1/0.7)#noise#\n",
    "H1[4] = Htop[4]#(np.random.rand(128))/10#\n",
    "H1[5] = (np.random.rand(128))/10#\n",
    "H1[6] = (np.random.rand(128))/10#\n",
    "W1 = np.dot(data,np.transpose(H1))\n",
    "np.shape(W1)"
   ]
  },
  {
   "cell_type": "code",
   "execution_count": 28,
   "id": "1c79d234-c6fb-4a71-b871-c7dfeefe3fc3",
   "metadata": {},
   "outputs": [],
   "source": [
    "from sklearn.decomposition import NMF\n",
    "X = data\n",
    "comp = 6\n",
    "H2 = H1[:comp]\n",
    "W1 = np.dot(data,np.transpose(H2))\n",
    "model = NMF(n_components=comp, init='custom', random_state=0,max_iter=3500)#'custom'\n",
    "W = model.fit_transform(X,y=None, W=W1,H=H2)\n",
    "H = model.components_"
   ]
  },
  {
   "cell_type": "code",
   "execution_count": null,
   "id": "3cef49c7-5d3f-4048-993a-bedbe7fdfb60",
   "metadata": {},
   "outputs": [],
   "source": [
    "from sklearn.decomposition import NMF\n",
    "X = data\n",
    "comp = 5\n",
    "model = NMF(n_components=comp, init='random', random_state=0,max_iter=3500)#'custom'\n",
    "W = model.fit_transform(X)#,y=None, W=W1,H=H1)\n",
    "H = model.components_"
   ]
  },
  {
   "cell_type": "code",
   "execution_count": 30,
   "id": "13e84c33-4ea3-43ea-8c2b-92e0db989ae4",
   "metadata": {},
   "outputs": [],
   "source": [
    "L_d = [500+i*(108/(Nd-1)) for i in range(Nd)]\n",
    "#L_d = [i for i in range(Nd)]\n",
    "H = H#/np.max(H)\n",
    "plt.figure(42)\n",
    "plt.clf()\n",
    "for i in range(comp):\n",
    "    plt.plot(L_d,H[i]/np.max(H[i]),label=str(i))#\n",
    "plt.legend()\n",
    "plt.ylabel('normalized intensity')\n",
    "plt.xlabel('wavelenght (nm)')\n",
    "plt.show()"
   ]
  },
  {
   "cell_type": "code",
   "execution_count": null,
   "id": "1004d61e-b981-45e4-b88c-d2ceeb9e5cf7",
   "metadata": {},
   "outputs": [],
   "source": [
    "1"
   ]
  },
  {
   "cell_type": "code",
   "execution_count": 31,
   "id": "ac5445b0-b8fb-4d5e-a3b3-a011120d25c2",
   "metadata": {},
   "outputs": [],
   "source": [
    "resto = np.zeros((Nl,Nc,comp))\n",
    "for ncomp in range(comp):\n",
    "    i = 0\n",
    "    for l in range(Nl):\n",
    "        for c in range(Nc):\n",
    "            resto[l,c,ncomp] = W[i,ncomp]\n",
    "            i += 1"
   ]
  },
  {
   "cell_type": "code",
   "execution_count": 32,
   "id": "aecc7d5a-ceef-43a2-8678-18712c0dc2ff",
   "metadata": {},
   "outputs": [],
   "source": [
    "for i in range(comp):\n",
    "    plot_im2D(resto[:,:,i],cmap='gray',title=str(i))"
   ]
  },
  {
   "cell_type": "code",
   "execution_count": null,
   "id": "30689135-a34c-44bf-864a-0562961497f4",
   "metadata": {},
   "outputs": [],
   "source": [
    "for i in range(comp):\n",
    "    plot_im2D(np.log(resto[:,:,i]+10),cmap='gray',title=str(i))"
   ]
  },
  {
   "cell_type": "code",
   "execution_count": null,
   "id": "e83e44b7-aae8-4fc6-acc2-9919bb2f02dc",
   "metadata": {},
   "outputs": [],
   "source": [
    "Htop =H"
   ]
  },
  {
   "cell_type": "markdown",
   "id": "be08d317-cbcf-440e-a6a4-5f8bce0a1adc",
   "metadata": {},
   "source": [
    "# Abondance Map"
   ]
  },
  {
   "cell_type": "code",
   "execution_count": null,
   "id": "15f64aa8-6be6-40e0-b004-dc02f14d1afb",
   "metadata": {},
   "outputs": [],
   "source": [
    "import pysptools as pysptools\n",
    "from pysptools import noise,abundance_maps"
   ]
  },
  {
   "cell_type": "code",
   "execution_count": null,
   "id": "67e36ea7-142b-491a-8a84-dd40f035cffb",
   "metadata": {},
   "outputs": [],
   "source": [
    "comp = 3\n",
    "H = np.zeros((comp,Nd))\n",
    "H[0] = L_DsRed2*Filt\n",
    "H[1] = L_EGFP*Filt\n",
    "H[2] = El_fluo#New_AF/np.max(New_AF)*0.5#AF#\n",
    "#H[3] = np.random.rand(128)/10#Test5\n",
    "#H[4] = np.random.rand(128)/10#NOISE/np.max(NOISE)#np.ones(Nd)*0.052#np.random.rand(128)/10#oise#(\n",
    "U = H\n",
    "M = data"
   ]
  },
  {
   "cell_type": "code",
   "execution_count": null,
   "id": "fea58562-7046-494e-8d00-dd02e9dedd36",
   "metadata": {},
   "outputs": [],
   "source": [
    "U = H\n",
    "M = data"
   ]
  },
  {
   "cell_type": "code",
   "execution_count": null,
   "id": "14eac860-309a-4506-b3ce-5d063dec888a",
   "metadata": {},
   "outputs": [],
   "source": [
    "plt.figure(1)\n",
    "\n",
    "plt.clf()\n",
    "plt.plot(L_lambda,H[0],'r',label = 'DsRed2')\n",
    "plt.plot(L_lambda, H[1], 'g', label = 'EGFP')#plt.plot(L_lambda, H[1]/np.max(H[1]),'b', label = 'AF')#\n",
    "plt.plot(L_lambda, H[2],'b', label = 'AF')#\n",
    "#plt.plot(L_lambda, H[3],'c', label = 'noise')\n",
    "#plt.plot(L_lambda, H[4],'k', label = 'Sig?')\n",
    "plt.legend()\n",
    "plt.xlabel('Wavelenght (nm)')\n",
    "plt.ylabel('Intensitiy (normalized)')\n",
    "plt.show()"
   ]
  },
  {
   "cell_type": "code",
   "execution_count": null,
   "id": "8acd59e6-3d7b-4d34-b972-e92f78fe3508",
   "metadata": {},
   "outputs": [],
   "source": [
    "Abondance = abundance_maps.amaps.UCLS(M, U)"
   ]
  },
  {
   "cell_type": "code",
   "execution_count": null,
   "id": "2047b468-d670-4cff-8c21-0f143b90a4a5",
   "metadata": {},
   "outputs": [],
   "source": [
    "%%time\n",
    "Abondance = abundance_maps.amaps.NNLS(M, U)"
   ]
  },
  {
   "cell_type": "code",
   "execution_count": null,
   "id": "4bad1b95-6958-4874-9faf-c25e90fdceb2",
   "metadata": {},
   "outputs": [],
   "source": [
    "Abondance = abundance_maps.amaps.FCLS(M, U)"
   ]
  },
  {
   "cell_type": "code",
   "execution_count": null,
   "id": "d7e2dda3-b4cb-42e9-9cc6-58ecaf544778",
   "metadata": {},
   "outputs": [],
   "source": [
    "Abond = np.zeros((Nl,Nc,comp))\n",
    "for ncomp in range(comp):\n",
    "    i = 0\n",
    "    for l in range(Nl):\n",
    "        for c in range(Nc):\n",
    "            Abond [l,c,ncomp] = Abondance[i,ncomp]\n",
    "            i += 1"
   ]
  },
  {
   "cell_type": "code",
   "execution_count": null,
   "id": "157aa60d-c13b-4661-a4da-3313f6ab15e1",
   "metadata": {},
   "outputs": [],
   "source": [
    "for i in range(comp): \n",
    "    plot_im2D(Abond[:,:,i],cmap='gray',title=str(i))"
   ]
  },
  {
   "cell_type": "code",
   "execution_count": null,
   "id": "847d2f29-4858-4203-9b0d-8fdc43e8a9cc",
   "metadata": {},
   "outputs": [],
   "source": [
    "for i in range(comp):\n",
    "    plot_im2D(np.log(Abond[:,:,i]+10),cmap='gray',title=str(i))"
   ]
  },
  {
   "cell_type": "code",
   "execution_count": null,
   "id": "d2c4641b-7175-4ebe-96a5-5bedb4a5f67e",
   "metadata": {},
   "outputs": [],
   "source": [
    "ab_stack = np.zeros((Nl,Nc))\n",
    "for i in range(comp):\n",
    "    ab_stack += Abond[:,:,i]*np.sum(H[i])\n",
    "plot_im2D(Stack-ab_stack)"
   ]
  },
  {
   "cell_type": "markdown",
   "id": "754c232c-f182-4779-804d-a0112a6bc00d",
   "metadata": {},
   "source": [
    "# PCA"
   ]
  },
  {
   "cell_type": "code",
   "execution_count": null,
   "id": "9a094c5d-0d6c-4256-83f8-5bcefc966096",
   "metadata": {},
   "outputs": [],
   "source": [
    "import numpy as np\n",
    "from sklearn.decomposition import PCA"
   ]
  },
  {
   "cell_type": "code",
   "execution_count": null,
   "id": "d7c1b513-032d-471d-a902-c0429275173f",
   "metadata": {},
   "outputs": [],
   "source": [
    "X = data #- np.mean(data,0)\n",
    "comp = 8\n",
    "pca = PCA(n_components=comp)\n",
    "pca.fit(X)"
   ]
  },
  {
   "cell_type": "code",
   "execution_count": null,
   "id": "cad90c98-d4bd-40e3-b0cb-d043dd259d72",
   "metadata": {},
   "outputs": [],
   "source": [
    "V_pca = np.transpose(pca.components_)\n",
    "rc_hyp_pca = np.dot(rc_hyper_cube,V_pca)"
   ]
  },
  {
   "cell_type": "code",
   "execution_count": null,
   "id": "fc348466-a731-4075-87df-b7158a980055",
   "metadata": {},
   "outputs": [],
   "source": [
    "L_d = [i for i in range(Nd)]\n",
    "for c_pca in range(comp):\n",
    "    simple_plot_2D(L_d,V_pca[:,c_pca],title='Componant '+str(c_pca),xlabel='Spectral channel',ylabel='Intensity')"
   ]
  },
  {
   "cell_type": "code",
   "execution_count": null,
   "id": "f326611a-8561-4cfc-a325-4c219db2e460",
   "metadata": {},
   "outputs": [],
   "source": [
    "for i in range(comp):\n",
    "    plot_im2D(rc_hyp_pca[:,:,i],title='Componant '+str(i))"
   ]
  },
  {
   "cell_type": "code",
   "execution_count": null,
   "id": "44492d4c-7a3e-404a-be22-74d9b45d4984",
   "metadata": {},
   "outputs": [],
   "source": [
    "\n",
    "a = 0\n",
    "b = -1\n",
    "c = 1\n",
    "d = -1\n",
    "e = 0\n",
    "\n",
    "im =a*rc_hyp_pca[:,:,0]+b*rc_hyp_pca[:,:,1]+c*rc_hyp_pca[:,:,2]+d*rc_hyp_pca[:,:,3]+e*rc_hyp_pca[:,:,4]\n",
    "\n",
    "plot_im2D(im)"
   ]
  },
  {
   "cell_type": "code",
   "execution_count": null,
   "id": "46c4ac91-4b48-49cc-bcb4-c50c15842ff3",
   "metadata": {},
   "outputs": [],
   "source": [
    "im_comp = rc_hyp_pca[:,:,1]\n",
    "plot_im2D(np.where(im_comp>0,im_comp,0))"
   ]
  },
  {
   "cell_type": "code",
   "execution_count": null,
   "id": "38fd07e9-a6eb-45eb-8328-3bc88707a037",
   "metadata": {},
   "outputs": [],
   "source": []
  }
 ],
 "metadata": {
  "kernelspec": {
   "display_name": "Python 3 (ipykernel)",
   "language": "python",
   "name": "python3"
  },
  "language_info": {
   "codemirror_mode": {
    "name": "ipython",
    "version": 3
   },
   "file_extension": ".py",
   "mimetype": "text/x-python",
   "name": "python",
   "nbconvert_exporter": "python",
   "pygments_lexer": "ipython3",
   "version": "3.7.6"
  }
 },
 "nbformat": 4,
 "nbformat_minor": 5
}
