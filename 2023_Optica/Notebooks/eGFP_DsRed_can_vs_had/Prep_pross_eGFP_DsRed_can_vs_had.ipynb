{
 "cells": [
  {
   "cell_type": "markdown",
   "id": "c65a71f0-8144-4240-9185-4d5b60692525",
   "metadata": {
    "tags": []
   },
   "source": [
    "# Pre-processing of chSPSIM data"
   ]
  },
  {
   "cell_type": "code",
   "execution_count": null,
   "id": "ef269510-cf92-4c6d-8d87-0b1510778ef4",
   "metadata": {},
   "outputs": [],
   "source": [
    "import sys\n",
    "import os\n",
    "import glob\n",
    "import numpy as np\n",
    "import matplotlib.pyplot as plt\n",
    "import ipywidgets as widgets\n",
    "#import statistics\n",
    "#from PIL import Image\n",
    "from scipy.linalg import hadamard\n",
    "import math \n",
    "from matplotlib.colors import LogNorm\n",
    "from sympy.combinatorics.graycode import GrayCode\n",
    "from scipy.ndimage.filters import gaussian_filter\n",
    "from scipy.stats import sigmaclip\n",
    "from scipy import sparse\n",
    "import scipy.sparse.linalg\n",
    "from scipy.sparse import linalg\n",
    "import ipywidgets as widgets\n",
    "from ipywidgets import interactive\n",
    "from IPython.display import display\n",
    "\n",
    "\n",
    "sys.path.append('../../fonction/') \n",
    "from data_visualisation import *\n",
    "from load_data import *\n",
    "from matrix_tools import *\n",
    "from walsh_hadamard import *\n",
    "from walsh_ordered_recon import *"
   ]
  },
  {
   "cell_type": "code",
   "execution_count": null,
   "id": "5782d81a-105d-434a-81df-d705dce47f1f",
   "metadata": {},
   "outputs": [],
   "source": [
    "%matplotlib"
   ]
  },
  {
   "cell_type": "code",
   "execution_count": null,
   "id": "fedcb22a-d9fc-406d-8ab7-a30b363b29fe",
   "metadata": {},
   "outputs": [],
   "source": [
    "def load_data(Path_files,list_files,Nl,Nh,Nc):\n",
    "    Data = np.zeros((Nl,Nh,Nc))\n",
    "    \n",
    "    for i in range(0,2*Nh,2):\n",
    "        \n",
    "        Data[:,i//2] = np.float_(np.rot90(np.array(Image.open(Path_files+list_files[i]))))-np.float_(np.rot90(np.array(Image.open(Path_files+list_files[i+1]))))\n",
    "\n",
    "    return(Data)"
   ]
  },
  {
   "cell_type": "markdown",
   "id": "a213b635-a4fb-4bb6-84a5-aa664896b358",
   "metadata": {},
   "source": [
    "## Hadamard acquisition"
   ]
  },
  {
   "cell_type": "markdown",
   "id": "2bb290e7-613c-4c75-9b06-ee33104c386e",
   "metadata": {},
   "source": [
    "### Data chSPSIM"
   ]
  },
  {
   "cell_type": "code",
   "execution_count": null,
   "id": "0830014a-7863-4171-8dcc-cb7b14e4bea1",
   "metadata": {},
   "outputs": [],
   "source": [
    "Dir = '../../data/2023_03_16_eGFP_DsRed_can_vs_had/Raw_data_chSPSIM_and_SPIM/data_2023_03_16/'\n",
    "list_run =['RUN0001','RUN0005']\n",
    "Nl = 2160 # number of lines of the spectral camera\n",
    "Nc = 2560 # number of columns of the spectral camera\n",
    "Nh = 64  #number of patterns acquired\n",
    "\n",
    "Bin_line = 8\n",
    "Bin_lambda = 20\n",
    "\n",
    "Nl_bin = 2048//Bin_line\n",
    "Nc_bin = Nc//Bin_lambda\n",
    "n = 1\n",
    "for Run in list_run :\n",
    "    Data_path,files = Select_data(Dir,Run)\n",
    "    data = load_data(Data_path,files,Nl,Nh,Nc)\n",
    "    stack = np.zeros((Nl_bin,Nh,Nc_bin))\n",
    "    for i in range(Nh):\n",
    "        step = bining_colonne(data[56:2104,i],Bin_lambda) # Here as we only have 2048 lines on the imaging camera we remove 56 lines at the top and the bottom of the spectrale images \n",
    "        stack[:,i] = bining_line(step,Bin_line)\n",
    "    save_path = '../../data/2023_03_16_eGFP_DsRed_can_vs_had/Preprocess/'\n",
    "    name = Run+'_Had_'+str(Nl_bin)+'_'+str(Nh)+'_'+str(Nc_bin)+'.npy'\n",
    "\n",
    "    n += 1\n",
    "    np.save(save_path+name,stack)"
   ]
  },
  {
   "cell_type": "markdown",
   "id": "51d42272-bd9d-4305-b982-05f14f120673",
   "metadata": {},
   "source": [
    "### Patterns"
   ]
  },
  {
   "cell_type": "code",
   "execution_count": null,
   "id": "8088eed7-7738-4ec9-ba93-8d33e66273a7",
   "metadata": {},
   "outputs": [],
   "source": [
    "Dir = '../../data/2023_02_28_mRFP_DsRed_3D/Raw_data_chSPSIM_and_SPIM/data_2023_02_28/'\n",
    "Run = 'RUN0002'\n",
    "Data_path,files = Select_data(Dir,Run)"
   ]
  },
  {
   "cell_type": "code",
   "execution_count": null,
   "id": "2806461a-9e60-4553-8dac-1e8ea964eeb0",
   "metadata": {},
   "outputs": [],
   "source": [
    "%%time\n",
    "Nl = 2048 # number of lines of the imaging camera\n",
    "Nc = 2048 # number of columns of the imaging camera\n",
    "Nh = 64# #number of patterns acquired\n",
    "Bin_col = Bin_line\n",
    "data = load_data(Data_path,files,Nl,Nh,Nc)"
   ]
  },
  {
   "cell_type": "markdown",
   "id": "29f673c6-c93c-4dd5-ab50-056e702769cf",
   "metadata": {},
   "source": [
    "mean pattern around the middle of the field of view"
   ]
  },
  {
   "cell_type": "code",
   "execution_count": null,
   "id": "502b8df6-1ef6-48b6-ad41-eb9aae73ef2e",
   "metadata": {},
   "outputs": [],
   "source": [
    "motifs = np.zeros((Nh,Nc))\n",
    "for i in range(Nh):\n",
    "    motifs[i] = np.sum(data[1000:1048,i],0)\n",
    "motifs = bining_colonne(motifs,Bin_col)\n",
    "plot_im2D(motifs)"
   ]
  },
  {
   "cell_type": "code",
   "execution_count": null,
   "id": "e58e1b7b-7437-4a5a-822e-70a0dacd1afc",
   "metadata": {},
   "outputs": [],
   "source": [
    "save_path = '../../data/2023_03_16_eGFP_DsRed_can_vs_had/Reconstruction/Mat_rc/'\n",
    "name = \"motifs_Hadamard_\"+str(Nh)+\"_\"+str(Nc//Bin_col)+\".npy\"\n",
    "np.save(save_path+name,motifs)"
   ]
  },
  {
   "cell_type": "markdown",
   "id": "9db17043-4b40-4225-bc45-f36add0ee51a",
   "metadata": {},
   "source": [
    "## Cannonique acquisition"
   ]
  },
  {
   "cell_type": "code",
   "execution_count": null,
   "id": "98426384-6c8c-4dd8-913f-449b44c54e72",
   "metadata": {},
   "outputs": [],
   "source": [
    "def load_data_cannonique(Path_files,list_files,Nl,Nh,Nc):\n",
    "    Data = np.zeros((Nl,Nh,Nc))\n",
    "    \n",
    "    for i in range(0,Nh,1):\n",
    "        \n",
    "        Data[:,i] = np.float_(np.rot90(np.array(Image.open(Path_files+list_files[i]))))\n",
    "\n",
    "    return(Data)"
   ]
  },
  {
   "cell_type": "code",
   "execution_count": null,
   "id": "4fe7a563-7af6-46d6-af94-2890962b3c5b",
   "metadata": {},
   "outputs": [],
   "source": [
    "def load_data_Darck(Path_files,list_files,Nl,Nh,Nc):\n",
    "    Data = np.zeros((Nl,Nh,Nc))\n",
    "    \n",
    "    for i in range(0,Nh,1):\n",
    "    \n",
    "        Data[:,i] = np.rot90(np.array(Image.open(Path_files+list_files[i])))\n",
    "\n",
    "    return(Data)"
   ]
  },
  {
   "cell_type": "code",
   "execution_count": null,
   "id": "ee889dee-8617-457c-8ce1-4343f398c9f2",
   "metadata": {},
   "outputs": [],
   "source": [
    "def load_data_cannonique_min_darck(Path_files,list_files,Nl,Nh,Nc,darck):\n",
    "    Data = np.zeros((Nl,Nh,Nc))\n",
    "    \n",
    "    for i in range(0,Nh,1):\n",
    "        \n",
    "        Data[:,i] = np.float_(np.rot90(np.array(Image.open(Path_files+list_files[i])))-darck)\n",
    "\n",
    "    return(Data)"
   ]
  },
  {
   "cell_type": "markdown",
   "id": "fe315995-8dd1-4df4-82a2-a00ae17785e8",
   "metadata": {
    "tags": []
   },
   "source": [
    "### Darck"
   ]
  },
  {
   "cell_type": "code",
   "execution_count": null,
   "id": "737a6cef-56bf-41cc-bc4a-73a1267c3613",
   "metadata": {},
   "outputs": [],
   "source": [
    "Dir = '../../data/2023_03_16_eGFP_DsRed_can_vs_had/data_2023_03_16'#'/run/media/crombez/Elements/HSPIM_seb_acquisition/Post_doc/data_2023_03_16/'\n",
    "Run = 'RUN0003'\n",
    "Data_path,files = Select_data(Dir,Run)"
   ]
  },
  {
   "cell_type": "code",
   "execution_count": null,
   "id": "bf0e298c-395d-4fd6-81b2-152ac6610188",
   "metadata": {},
   "outputs": [],
   "source": [
    "%%time\n",
    "Nl = 2160 # number of lines of the spectral camera\n",
    "Nc = 2560 # number of columns of the spectral camera\n",
    "Nd = 64#  #number of darck acquisition\n",
    "data = load_data_Darck(Data_path,files,Nl,Nd,Nc)"
   ]
  },
  {
   "cell_type": "code",
   "execution_count": null,
   "id": "b2bec68b-2983-477c-b716-b50bcb8a1f17",
   "metadata": {},
   "outputs": [],
   "source": [
    "Darck = np.zeros((Nl,Nc))\n",
    "for i in range(Nd):\n",
    "    Darck += data[:,i]\n",
    "Darck = Darck/Nd\n",
    "plot_im2D(Darck)"
   ]
  },
  {
   "cell_type": "markdown",
   "id": "40a3562f-765d-49da-97f3-ed1a3eba051f",
   "metadata": {},
   "source": [
    "### Data chSPSIM"
   ]
  },
  {
   "cell_type": "code",
   "execution_count": null,
   "id": "729e71b7-c49c-480e-8b0c-ad861ae9ba87",
   "metadata": {},
   "outputs": [],
   "source": [
    "Dir = '/run/media/crombez/Elements/HSPIM_seb_acquisition/Post_doc/data_2023_03_16/'\n",
    "list_run = ['RUN0002','RUN0004']\n",
    "Nl = 2160 # number of lines of the spectral camera\n",
    "Nc = 2560 # number of columns of the spectral camera\n",
    "Nh = 64  #number of patterns acquired\n",
    "\n",
    "Bin_line = 8\n",
    "Bin_lambda = 20\n",
    "\n",
    "Nl_bin = 2048//Bin_line\n",
    "Nc_bin = Nc//Bin_lambda\n",
    "\n",
    "for Run in list_run :\n",
    "    Data_path,files = Select_data(Dir,Run)\n",
    "    data = load_data_cannonique_min_darck(Data_path,files,Nl,Nh,Nc,Darck)\n",
    "    stack = np.zeros((Nl_bin,Nh,Nc_bin))\n",
    "    for i in range(Nh):\n",
    "        step = bining_colonne(data[56:2104,i],Bin_lambda) # Here as we only have 2048 lines on the imaging camera we remove 56 lines at the top and the bottom of the spectrale images \n",
    "        stack[:,i] = bining_line(step,Bin_line)\n",
    "    save_path = '/home/crombez/Documents/PhD/python/PTND/Data/eGFP_DsRed_can_vs_had/Preprocess/'\n",
    "    name = Run+'_Can_'+str(Nl_bin)+'_'+str(Nh)+'_'+str(Nc_bin)+'.npy'\n",
    "    np.save(save_path+name,stack)"
   ]
  },
  {
   "cell_type": "markdown",
   "id": "dc7b8c09-efd5-4f88-9843-1823bd647c18",
   "metadata": {},
   "source": [
    "### Patterns"
   ]
  },
  {
   "cell_type": "code",
   "execution_count": null,
   "id": "5743da91-1286-426f-a2fa-57231094dff6",
   "metadata": {},
   "outputs": [],
   "source": [
    "Dir = '../../data/2023_03_07_mRFP_DsRed_can_vs_had/data_2023_03_07/'#'/run/media/crombez/Elements/HSPIM_seb_acquisition/Post_doc/data_2023_03_07/'\n",
    "Run = 'RUN0002'\n",
    "Data_path,files = Select_data(Dir,Run)"
   ]
  },
  {
   "cell_type": "code",
   "execution_count": null,
   "id": "e410f6a6-8ced-432f-8754-172ced645ace",
   "metadata": {},
   "outputs": [],
   "source": [
    "%%time\n",
    "Nl = 2048 # number of lines of the imaging camera\n",
    "Nc = 2048 # number of columns of the imaging camera\n",
    "Nh = 64#128# #number of patterns acquired\n",
    "data = load_data_cannonique(Data_path,files,Nl,Nh,Nc)"
   ]
  },
  {
   "cell_type": "code",
   "execution_count": null,
   "id": "053f429b-7a80-4a94-b2c0-f8ad89d725cc",
   "metadata": {},
   "outputs": [],
   "source": [
    "motifs = np.zeros((Nh,Nl))\n",
    "for i in range(Nh):\n",
    "    motifs[i] = np.sum(data[750:1000,i],0)\n",
    "plot_im2D(motifs)"
   ]
  },
  {
   "cell_type": "code",
   "execution_count": null,
   "id": "2c1af774-2c73-4fca-a55d-699357781161",
   "metadata": {},
   "outputs": [],
   "source": [
    "#save_path = '/home/crombez/Documents/PhD/python/MOPDC/Data_save/Data_article/Acqui_07_03_2023/'\n",
    "#name = Run+'_motifs_cannonique_64_2048.npy'\n",
    "#np.save(save_path+name,motifs)"
   ]
  }
 ],
 "metadata": {
  "kernelspec": {
   "display_name": "Python 3 (ipykernel)",
   "language": "python",
   "name": "python3"
  },
  "language_info": {
   "codemirror_mode": {
    "name": "ipython",
    "version": 3
   },
   "file_extension": ".py",
   "mimetype": "text/x-python",
   "name": "python",
   "nbconvert_exporter": "python",
   "pygments_lexer": "ipython3",
   "version": "3.7.6"
  }
 },
 "nbformat": 4,
 "nbformat_minor": 5
}
