{
 "cells": [
  {
   "cell_type": "markdown",
   "id": "74ebafda-bb33-438f-bb36-ee054375a316",
   "metadata": {},
   "source": [
    "# Load the data from a chSPSIM acquisition"
   ]
  },
  {
   "cell_type": "code",
   "execution_count": 1,
   "id": "aef7733d-ece0-48ac-8cb5-1c3c6d98607c",
   "metadata": {},
   "outputs": [],
   "source": [
    "#import functions\n",
    "import sys\n",
    "import os\n",
    "import glob\n",
    "import numpy as np\n",
    "import ipywidgets as widgets\n",
    "from ipywidgets import interactive\n",
    "from IPython.display import display\n",
    "\n",
    "\n",
    "#import local functions\n",
    "sys.path.append('/home/crombez/Documents/PhD/python/MOPDC/fonction/') \n",
    "from data_visualisation import *\n",
    "from load_data import *\n",
    "from matrix_tools import *\n",
    "from walsh_hadamard import *\n",
    "from walsh_ordered_recon import *"
   ]
  },
  {
   "cell_type": "code",
   "execution_count": 2,
   "id": "8cae764a-1ce7-4635-8927-4df9ec5567f2",
   "metadata": {},
   "outputs": [
    {
     "name": "stdout",
     "output_type": "stream",
     "text": [
      "Using matplotlib backend: Qt5Agg\n"
     ]
    }
   ],
   "source": [
    "%matplotlib \n",
    "#inline "
   ]
  },
  {
   "cell_type": "code",
   "execution_count": 3,
   "id": "1d344d0d-6ebb-40e5-bd6a-84a0a28e39c0",
   "metadata": {},
   "outputs": [],
   "source": [
    "file_path_data = '/run/media/crombez/Elements/HSPIM_seb_acquisition/list_path_data'\n",
    "\n",
    "with open(file_path_data, 'r') as f:\n",
    "\n",
    "    list_path_data_and_info = [line.strip('\\n') for line in f.readlines()]\n",
    "\n",
    "\n",
    "list_path_data = []\n",
    "list_path_info = []\n",
    "\n",
    "    \n",
    "for x in list_path_data_and_info :\n",
    "    x_strip = x.split()\n",
    "    list_path_data.append(x_strip[0])\n",
    "    list_path_info.append(x_strip[1])\n",
    "    \n",
    "    \n",
    "#n = len(list_path_data)\n",
    "#print(\"****  Emplacent des dossiers contenant les jeux de données  **** \\n \")\n",
    "#for i in range(n):\n",
    "#    print(str(i+1)+' ===> '+list_path_data[i]+' ===> '+list_path_info[i])\n",
    "#    n = len(list_path_data[i])\n",
    "#    Run = [x[0][n:] for x in os.walk(list_path_data[i])][1:]\n",
    "#    print('Nom des sous-répertoires : ')\n",
    "#    print(str(Run)+'\\n')"
   ]
  },
  {
   "cell_type": "code",
   "execution_count": 4,
   "id": "2159aed5-3d63-4dc5-8aec-dfdd9b76de1c",
   "metadata": {},
   "outputs": [],
   "source": [
    "def Select_data(Dir, Run):\n",
    "    Data_path = Dir+Run+'/'\n",
    "    name_type = os.listdir(Data_path)[0]\n",
    "    name_type = name_type[:-9]+'*'+name_type[-4:]\n",
    "    files = Files_names(Data_path,str(name_type))\n",
    "    print('Données du dossier : '+Data_path)\n",
    "    with open(Dir+'info_run',\"r\") as fichier:\n",
    "        print(fichier.read())\n",
    "    return(Data_path,files)\n",
    "\n",
    "def change_set_acqui(*args):\n",
    "    n = len(set_acqui.value)\n",
    "    run.options = [x[0][n:] for x in os.walk(set_acqui.value)][1:]"
   ]
  },
  {
   "cell_type": "code",
   "execution_count": 5,
   "id": "1b0e26e8-5c89-4eb8-b5de-bed659997770",
   "metadata": {},
   "outputs": [
    {
     "name": "stdout",
     "output_type": "stream",
     "text": [
      "/run/media/crombez/Elements/HSPIM_Pierre_acquisition/Convert/\n"
     ]
    },
    {
     "data": {
      "application/vnd.jupyter.widget-view+json": {
       "model_id": "0de884a505554564a794a0879d4941f7",
       "version_major": 2,
       "version_minor": 0
      },
      "text/plain": [
       "interactive(children=(Dropdown(description='Set of data', options=('/run/media/crombez/Elements/HSPIM_Pierre_a…"
      ]
     },
     "metadata": {},
     "output_type": "display_data"
    }
   ],
   "source": [
    "n = len(list_path_data[0])\n",
    "print(list_path_data[0])\n",
    "Run = [x[0][n:] for x in os.walk(list_path_data[0])][1:]\n",
    "\n",
    "style = {'description_width': 'initial'}\n",
    "set_acqui = widgets.Dropdown(options=list_path_data, value=list_path_data[0], description='Set of data', style = style)    \n",
    "run = widgets.Dropdown(options=Run, description='Run', style = style)\n",
    "\n",
    "set_acqui.observe(change_set_acqui, 'value')  \n",
    "\n",
    "\n",
    "\n",
    "Data1 = interactive(Select_data, Dir = set_acqui,\n",
    "                    Run = run)\n",
    "display(Data1)"
   ]
  },
  {
   "cell_type": "code",
   "execution_count": null,
   "id": "c88ff3f1-21e4-48f4-940f-081f3b4eedd4",
   "metadata": {},
   "outputs": [],
   "source": [
    "Data_path1, Files1 = Data1.result\n",
    "N_run = Data_path1[-2]\n",
    "print('Données du dossier : '+Data_path1)\n",
    "print('Nombre de fichier : '+str(len(Files1)))\n",
    "print('Run n° : '+str(N_run))"
   ]
  },
  {
   "cell_type": "code",
   "execution_count": null,
   "id": "795fd70f-99bc-4f93-a947-36dff43a34b5",
   "metadata": {},
   "outputs": [],
   "source": [
    "# Hyper cube dimensions\n",
    "Nl = 2160 # number of pixcels along the y dimensions \n",
    "Nc = 128 # number of measured Walsh_Hadmard coefficients (correpond to the h dimensions)\n",
    "Nd = 2560 # number of pixcels along the spectral dimensions "
   ]
  },
  {
   "cell_type": "code",
   "execution_count": null,
   "id": "1f6196aa-3283-4ed4-b3ca-41120546c284",
   "metadata": {},
   "outputs": [],
   "source": [
    "%%time\n",
    "Raw_data = load_hyper_cube(Data_path1,Files1,Nl,Nc,Nd)"
   ]
  },
  {
   "cell_type": "markdown",
   "id": "0b568797-0dc4-4061-9927-253442188c3e",
   "metadata": {},
   "source": [
    "#### Check data by looking at the lambda-stack of the hyper cube"
   ]
  },
  {
   "cell_type": "code",
   "execution_count": null,
   "id": "8ec184e0-8a77-433d-9b28-e588d6d28225",
   "metadata": {},
   "outputs": [],
   "source": [
    "W = walsh_ordered(2048)\n",
    "stack = np.zeros((Nl,2048))\n",
    "for i in range(Nd):\n",
    "    stack += np.dot(Raw_data[:,:,i],W[:Nc])\n",
    "plot_im2D(stack,cmap='gray')"
   ]
  },
  {
   "cell_type": "markdown",
   "id": "3fd38e68-d3ea-472a-b137-7b661b7cac58",
   "metadata": {},
   "source": [
    "#### Save the data"
   ]
  },
  {
   "cell_type": "code",
   "execution_count": null,
   "id": "6053a8b7-63cc-46ab-bc45-ff88d66fa9c9",
   "metadata": {},
   "outputs": [],
   "source": [
    "Save_path = \"/home/crombez/Documents/PhD/python/MOPDC/Data_save/Raw_data/\"\n",
    "file_name = \"raw_rhodamin_2160x128x2560.npy\"\n",
    "np.save(Save_path+file_name,Raw_data)"
   ]
  },
  {
   "cell_type": "code",
   "execution_count": null,
   "id": "3820cd5c-0e7b-4632-ba46-b554b82a0168",
   "metadata": {},
   "outputs": [],
   "source": []
  }
 ],
 "metadata": {
  "kernelspec": {
   "display_name": "Python 3 (ipykernel)",
   "language": "python",
   "name": "python3"
  },
  "language_info": {
   "codemirror_mode": {
    "name": "ipython",
    "version": 3
   },
   "file_extension": ".py",
   "mimetype": "text/x-python",
   "name": "python",
   "nbconvert_exporter": "python",
   "pygments_lexer": "ipython3",
   "version": "3.7.6"
  }
 },
 "nbformat": 4,
 "nbformat_minor": 5
}
