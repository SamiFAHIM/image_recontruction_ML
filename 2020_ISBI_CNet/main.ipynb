{
 "cells": [
  {
   "cell_type": "markdown",
   "metadata": {},
   "source": [
    "# Nicolas Ducros, A Lorente Mur, F. Peyrin. 'A Completion Network for Reconstruction from Compressed Acquisition.' \n",
    "# 2020 IEEE 17th International Symposium on Biomedical Imaging (ISBI), Apr 2020, Iowa City, United States. pp.619-623.\n",
    "\n",
    "DOI: [⟨10.1109/ISBI45749.2020.9098390⟩](https://dx.doi.org/10.1109/ISBI45749.2020.9098390)\n",
    "\n",
    "PDF: [⟨hal-02342766v2⟩](https://hal.archives-ouvertes.fr/hal-02342766v2/document)\n",
    "\n",
    "\n",
    "##  Imports"
   ]
  },
  {
   "cell_type": "code",
   "execution_count": 1,
   "metadata": {},
   "outputs": [],
   "source": [
    "from __future__ import print_function, division\n",
    "import torch\n",
    "import torch.nn as nn\n",
    "import torch.optim as optim\n",
    "from torch.optim import lr_scheduler\n",
    "import numpy as np\n",
    "import torchvision\n",
    "from torchvision import datasets, models, transforms\n",
    "import torch.nn.functional as F\n",
    "import imageio\n",
    "import cv2\n",
    "import fht\n",
    "import matplotlib.pyplot as plt\n",
    "import scipy.io as sio\n",
    "import PIL\n",
    "from pathlib import Path\n",
    "import matplotlib.pyplot as plt\n",
    "import seaborn as sns\n",
    "import pandas as pd\n",
    "import sys\n",
    "import wget\n",
    "import zipfile\n",
    "from pathlib import Path"
   ]
  },
  {
   "cell_type": "markdown",
   "metadata": {},
   "source": [
    "## Import important functions from spyrit"
   ]
  },
  {
   "cell_type": "code",
   "execution_count": 2,
   "metadata": {},
   "outputs": [],
   "source": [
    "from spyrit.learning.model_Had_DCAN import *# compNet, Stat_had, Weight_Decay_Loss\n",
    "from spyrit.learning.nets import *\n",
    "from spyrit.misc.disp import *\n",
    "from spyrit.misc.metrics import *\n"
   ]
  },
  {
   "cell_type": "markdown",
   "metadata": {},
   "source": [
    "## User-defined global parameters "
   ]
  },
  {
   "cell_type": "code",
   "execution_count": 3,
   "metadata": {},
   "outputs": [
    {
     "name": "stdout",
     "output_type": "stream",
     "text": [
      "models\n",
      "data\n"
     ]
    }
   ],
   "source": [
    "#- Acquisition\n",
    "img_size = 64 # image size\n",
    "M = 333       # number of neasurements\n",
    "#- Training\n",
    "num_epochs = 60\n",
    "lr = 1e-3 \n",
    "step_size = 20\n",
    "gamma = 0.2\n",
    "batch_size =256\n",
    "reg = 1e-7\n",
    "#- Model and data paths\n",
    "model_root = Path('./models/')\n",
    "stats_root = Path('./stats/')\n",
    "data_root = Path('./data/')\n",
    "#- Save plot using type 1 font\n",
    "plt.rcParams['pdf.fonttype'] = 42\n",
    "\n",
    "print(model_root)\n",
    "print(data_root)"
   ]
  },
  {
   "cell_type": "markdown",
   "metadata": {},
   "source": [
    "## Download models and covariance "
   ]
  },
  {
   "cell_type": "code",
   "execution_count": 4,
   "metadata": {},
   "outputs": [],
   "source": [
    "if not(Path('./models/').exists()):\n",
    "    wget.download('https://www.creatis.insa-lyon.fr/~ducros/spyritexamples/2020_ISBI_CNet/2020_ISBI_CNet.zip')\n",
    "    with zipfile.ZipFile('2020_ISBI_CNet.zip', 'r') as zip_ref:\n",
    "        zip_ref.extractall()\n",
    "    Path('2020_ISBI_CNet.zip').unlink()"
   ]
  },
  {
   "cell_type": "markdown",
   "metadata": {},
   "source": [
    "## Load STL-10 dataset"
   ]
  },
  {
   "cell_type": "code",
   "execution_count": 5,
   "metadata": {},
   "outputs": [
    {
     "name": "stdout",
     "output_type": "stream",
     "text": [
      "Files already downloaded and verified\n",
      "Files already downloaded and verified\n"
     ]
    }
   ],
   "source": [
    "device = torch.device(\"cuda:0\" if torch.cuda.is_available() else \"cpu\")\n",
    "torch.manual_seed(7)\n",
    "\n",
    "transform = transforms.Compose(\n",
    "    [transforms.functional.to_grayscale,\n",
    "     transforms.Resize((img_size, img_size)),\n",
    "     transforms.ToTensor(),\n",
    "     transforms.Normalize([0.5], [0.5])])\n",
    "\n",
    "\n",
    "trainset = \\\n",
    "    torchvision.datasets.STL10(root=data_root, split='train+unlabeled',download=True, transform=transform)\n",
    "trainloader = torch.utils.data.DataLoader(trainset, batch_size=batch_size,shuffle=True)\n",
    "\n",
    "testset = \\\n",
    "    torchvision.datasets.STL10(root=data_root, split='test',download=True, transform=transform)\n",
    "testloader =  torch.utils.data.DataLoader(testset, batch_size=batch_size,shuffle=False)\n",
    "\n",
    "dataloaders = {'train':trainloader, 'val':testloader}"
   ]
  },
  {
   "cell_type": "markdown",
   "metadata": {},
   "source": [
    " ## Load trained networks"
   ]
  },
  {
   "cell_type": "code",
   "execution_count": 6,
   "metadata": {},
   "outputs": [
    {
     "name": "stdout",
     "output_type": "stream",
     "text": [
      "Loading Cov and Mean\n"
     ]
    }
   ],
   "source": [
    "print('Loading Cov and Mean')    \n",
    "Cov_had = np.load(stats_root / \"Cov_{}x{}.npy\".format(img_size, img_size))\n",
    "Mean_had = np.load(stats_root / 'Average_{}x{}.npy'.format(img_size, img_size))"
   ]
  },
  {
   "cell_type": "markdown",
   "metadata": {},
   "source": [
    "### Statistical completion"
   ]
  },
  {
   "cell_type": "code",
   "execution_count": 7,
   "metadata": {},
   "outputs": [
    {
     "name": "stdout",
     "output_type": "stream",
     "text": [
      "Measurement to image domain: statistical completion (no mean)\n",
      "Model Loaded: models\\NET_c0mp_N_64_M_333_epo_60_lr_0.001_sss_20_sdr_0.2_bs_256_reg_1e-07\n",
      "compNet: psnr = 24.060637914469066 +/- 2.2990737500369063\n",
      "comp: psnr = 23.540511165763842 +/- 2.241456098794192\n",
      "Number of trainable parameters: 8129\n",
      "Total number of parameters: 7050746\n"
     ]
    }
   ],
   "source": [
    "suffix = '_N_{}_M_{}_epo_{}_lr_{}_sss_{}_sdr_{}_bs_{}_reg_{}'.format(\\\n",
    "         img_size, M, num_epochs, lr, step_size, gamma, batch_size, reg)\n",
    "\n",
    "\n",
    "model = compNet(img_size,M, Mean_had,Cov_had)\n",
    "model = model.to(device)\n",
    "title = model_root/('NET_c0mp'+ suffix)\n",
    "load_net(title, model, device)\n",
    "\n",
    "psnr_net_prob, psnr_prob = dataset_psnr(dataloaders['val'], model, device);\n",
    "     \n",
    "print_mean_std(psnr_net_prob,'compNet: ')\n",
    "print_mean_std(psnr_prob,'comp: ')\n",
    "\n",
    "print('Number of trainable parameters: {}'.format(count_trainable_param(model)))\n",
    "print('Total number of parameters: {}'.format(count_param(model)))"
   ]
  },
  {
   "cell_type": "markdown",
   "metadata": {},
   "source": [
    "### Pseudo Inverse"
   ]
  },
  {
   "cell_type": "code",
   "execution_count": null,
   "metadata": {},
   "outputs": [],
   "source": [
    "model = compNet(img_size,M, Mean_had,Cov_had,2)\n",
    "model = model.to(device)\n",
    "title = model_root/('NET_pinv'+ suffix)\n",
    "load_net(title, model, device)\n",
    "\n",
    "psnr_net_pinv, psnr_pinv = dataset_psnr(dataloaders['val'], model, device)\n",
    "\n",
    "print_mean_std(psnr_net_pinv,'pinvNet: ')\n",
    "print_mean_std(psnr_pinv,'PInv: ')\n",
    "print('Number of trainable parameters: {}'.format(count_trainable_param(model)))\n",
    "print('Total number of parameters: {}'.format(count_param(model)))"
   ]
  },
  {
   "cell_type": "markdown",
   "metadata": {},
   "source": [
    "### Fully learnt (free Net)"
   ]
  },
  {
   "cell_type": "code",
   "execution_count": null,
   "metadata": {},
   "outputs": [],
   "source": [
    "model = compNet(img_size,M, Mean_had,Cov_had,3)\n",
    "model = model.to(device)\n",
    "title = model_root/('NET_free'+ suffix)\n",
    "load_net(title, model, device)\n",
    "#    \n",
    "psnr_net_free, psnr_free = dataset_psnr(dataloaders['val'], model, device)\n",
    "\n",
    "print_mean_std(psnr_net_free,'freeNet: ')\n",
    "print_mean_std(psnr_free,'free: ')\n",
    "\n",
    "print('Number of trainable parameters: {}'.format(count_trainable_param(model)))\n",
    "print('Total number of parameters: {}'.format(count_param(model)))"
   ]
  },
  {
   "cell_type": "markdown",
   "metadata": {},
   "source": [
    "### Summary: PSNR boxplot (Fig. 3)"
   ]
  },
  {
   "cell_type": "code",
   "execution_count": null,
   "metadata": {},
   "outputs": [],
   "source": [
    "plt.rcParams.update({'font.size': 16})\n",
    "plt.figure()\n",
    "sns.set_style(\"whitegrid\")\n",
    "ax = sns.boxplot(data=pd.DataFrame([psnr_pinv, psnr_prob, psnr_net_pinv, psnr_net_prob, psnr_net_free]).T)\n",
    "ax.set_xticklabels(['pinv', 'comp', 'pinvNET', 'compNET', 'freeNET']);\n",
    "ax.set_ylabel('PSNR');\n",
    "#plt.savefig(\"boxplot_sns.pdf\")"
   ]
  },
  {
   "cell_type": "markdown",
   "metadata": {},
   "source": [
    "## Measurement scatter plot (Fig. 2, not exactely the same as in the manuscript)"
   ]
  },
  {
   "cell_type": "code",
   "execution_count": null,
   "metadata": {},
   "outputs": [],
   "source": [
    "#%% Load measured data\n",
    "meas = dataset_meas(dataloaders['val'], model, device) #dataloaders['train']\n",
    "meas = np.array(meas)\n",
    "\n",
    "#%%\n",
    "n1 = 2; #2,12 or 2,7\n",
    "n2 = 7;\n",
    "\n",
    "sns.jointplot(meas[:,n1], meas[:,n2], kind='reg', ratio=3)#, xlim=[-2,2], ylim=[-5, 5])\n",
    "plt.xlabel('Hadamard coefficient #{}'.format(n1))\n",
    "plt.ylabel('Hadamard coefficient #{}'.format(n2))\n",
    "plt.show()"
   ]
  },
  {
   "cell_type": "markdown",
   "metadata": {},
   "source": [
    "## Loss during training (Fig. 4, not exactely the same as in the manuscript)"
   ]
  },
  {
   "cell_type": "code",
   "execution_count": 10,
   "metadata": {},
   "outputs": [
    {
     "data": {
      "text/plain": [
       "<matplotlib.legend.Legend at 0x1d684225dd8>"
      ]
     },
     "execution_count": 10,
     "metadata": {},
     "output_type": "execute_result"
    },
    {
     "data": {
      "image/png": "[encoded data removed]",
      "text/plain": [
       "<Figure size 720x432 with 1 Axes>"
      ]
     },
     "metadata": {
      "needs_background": "light"
     },
     "output_type": "display_data"
    }
   ],
   "source": [
    "# Load training history\n",
    "train_path = model_root/('TRAIN_c0mp'+suffix+'.pkl')\n",
    "train_net_prob = read_param(train_path)\n",
    "#train_path = model_root/('TRAIN_pinv'+suffix+'.pkl')\n",
    "#train_net_pinv = read_param(train_path)\n",
    "#train_path = model_root/('TRAIN_free'+suffix+'.pkl')\n",
    "#train_net_free = read_param(train_path)\n",
    "\n",
    "plt.rcParams.update({'font.size': 20})\n",
    "\n",
    "# Plot\n",
    "fig, ax = plt.subplots(figsize=(10,6))\n",
    "ax.set_xlabel('Time (epochs)')\n",
    "ax.set_ylabel('Loss (MSE)')\n",
    "#ax.plot(train_net_pinv.val_loss,'g--', linewidth=4)\n",
    "ax.plot(train_net_prob.val_loss,'r-.', linewidth=4)\n",
    "#ax.plot(train_net_free.val_loss,'m', linewidth=4)\n",
    "ax.grid(which='minor', linestyle=':', linewidth=0.5, color='black')\n",
    "plt.grid(True)\n",
    "ax.legend(('pinvNET', 'compNET', 'freeNET'),  loc='upper right')\n",
    "#fig.savefig('loss_test.pdf', dpi=fig.dpi, bbox_inches='tight')# pad_inches=0.1)"
   ]
  },
  {
   "cell_type": "code",
   "execution_count": null,
   "metadata": {},
   "outputs": [],
   "source": []
  }
 ],
 "metadata": {
  "kernelspec": {
   "display_name": "Python 3",
   "language": "python",
   "name": "python3"
  },
  "language_info": {
   "codemirror_mode": {
    "name": "ipython",
    "version": 3
   },
   "file_extension": ".py",
   "mimetype": "text/x-python",
   "name": "python",
   "nbconvert_exporter": "python",
   "pygments_lexer": "ipython3",
   "version": "3.6.9"
  }
 },
 "nbformat": 4,
 "nbformat_minor": 4
}
